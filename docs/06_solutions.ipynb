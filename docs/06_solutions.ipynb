{
 "cells": [
  {
   "cell_type": "markdown",
   "id": "fe79fba2-48b4-4b3c-a479-1c0448ebeb5d",
   "metadata": {},
   "source": [
    "(solutions)=\n",
    "# Solutions"
   ]
  },
  {
   "cell_type": "markdown",
   "id": "35f44bf5-a285-4eda-9257-b0109270dd91",
   "metadata": {},
   "source": [
    "(fundamentals)=\n",
    "## Fundamentals"
   ]
  },
  {
   "cell_type": "markdown",
   "id": "0303535b-df17-4abb-b96c-1b6a9d4d3df5",
   "metadata": {},
   "source": [
    "### Questions"
   ]
  },
  {
   "cell_type": "markdown",
   "id": "2ea2c607-411e-484f-9ef0-58384484c944",
   "metadata": {},
   "source": [
    "```{admonition} Question 1\n",
    "\n",
    "...\n",
    "\n",
    "```"
   ]
  },
  {
   "cell_type": "markdown",
   "id": "dcf43754-a08f-4350-b9e3-5d726c05375f",
   "metadata": {},
   "source": [
    "```{admonition} Solution 1\n",
    ":class: dropdown\n",
    "\n",
    "...\n",
    "\n",
    "```"
   ]
  },
  {
   "cell_type": "markdown",
   "id": "a1c7d942-71b6-4502-9f2b-065c6a04343a",
   "metadata": {},
   "source": [
    "### Exercises"
   ]
  },
  {
   "cell_type": "markdown",
   "id": "85ca9c47-2204-4465-9083-00e0f6a8e612",
   "metadata": {},
   "source": [
    "```{admonition} Exercise 1\n",
    "\n",
    "...\n",
    "\n",
    "```"
   ]
  },
  {
   "cell_type": "markdown",
   "id": "9dfb74b2-3349-47fa-998e-c81593bd40af",
   "metadata": {},
   "source": [
    "```{admonition} Solution 1\n",
    ":class: dropdown\n",
    "\n",
    "...\n",
    "\n",
    "```"
   ]
  },
  {
   "cell_type": "markdown",
   "id": "9f7bbe60-9411-42f7-b6b1-4b844a5e0353",
   "metadata": {},
   "source": [
    "(tools)=\n",
    "## Tools"
   ]
  },
  {
   "cell_type": "markdown",
   "id": "401cc90a-4e62-46dd-b8c2-ddc706e1c67f",
   "metadata": {},
   "source": [
    "### Questions"
   ]
  },
  {
   "cell_type": "markdown",
   "id": "146724d7-2074-4770-a771-dc25f5143bd6",
   "metadata": {},
   "source": [
    "```{admonition} Question 1\n",
    "\n",
    "...\n",
    "\n",
    "```"
   ]
  },
  {
   "cell_type": "markdown",
   "id": "162398da-29a5-4427-a114-10fb1ff8fc2a",
   "metadata": {},
   "source": [
    "```{admonition} Solution 1\n",
    ":class: dropdown\n",
    "\n",
    "...\n",
    "\n",
    "```"
   ]
  },
  {
   "cell_type": "markdown",
   "id": "9c18306b-655f-4308-aaca-3264f43bab42",
   "metadata": {},
   "source": [
    "### Exercises"
   ]
  },
  {
   "cell_type": "markdown",
   "id": "ad2fe0fb-0a2c-44d4-9854-89dd9171c1a6",
   "metadata": {},
   "source": [
    "```{admonition} Exercise 1\n",
    "\n",
    "...\n",
    "\n",
    "```"
   ]
  },
  {
   "cell_type": "markdown",
   "id": "6ea3947f-9e57-45f2-b36c-7f54dfa42813",
   "metadata": {},
   "source": [
    "```{admonition} Solution 1\n",
    ":class: dropdown\n",
    "\n",
    "...\n",
    "\n",
    "```"
   ]
  },
  {
   "cell_type": "markdown",
   "id": "3e795aae-7cbb-4369-aa9a-0e238acbb43a",
   "metadata": {},
   "source": [
    "(data)=\n",
    "## Data"
   ]
  },
  {
   "cell_type": "markdown",
   "id": "316f818f-9c81-4b7b-974a-c46a26878776",
   "metadata": {},
   "source": [
    "### Questions"
   ]
  },
  {
   "cell_type": "markdown",
   "id": "22a8569b-25b0-43b9-acf2-dfb372146f98",
   "metadata": {},
   "source": [
    "```{admonition} Question 1\n",
    "\n",
    "...\n",
    "\n",
    "```"
   ]
  },
  {
   "cell_type": "markdown",
   "id": "ccf542da-e393-4160-85c5-2629be730ae6",
   "metadata": {},
   "source": [
    "```{admonition} Solution 1\n",
    ":class: dropdown\n",
    "\n",
    "...\n",
    "\n",
    "```"
   ]
  },
  {
   "cell_type": "markdown",
   "id": "1fd57863-90c0-4ce5-8bf3-1f745dfd90a3",
   "metadata": {},
   "source": [
    "### Exercises"
   ]
  },
  {
   "cell_type": "markdown",
   "id": "fdeb2a2c-2059-4ab8-ab6d-4c5d30f4e852",
   "metadata": {},
   "source": [
    "```{admonition} Exercise 1\n",
    "\n",
    "...\n",
    "\n",
    "```"
   ]
  },
  {
   "cell_type": "markdown",
   "id": "0724551b-d50e-4508-8123-a2d2bac6c1d9",
   "metadata": {},
   "source": [
    "```{admonition} Solution 1\n",
    ":class: dropdown\n",
    "\n",
    "...\n",
    "\n",
    "```"
   ]
  },
  {
   "cell_type": "markdown",
   "id": "4cde16e4-2a14-4256-86ad-5bfb920512f1",
   "metadata": {},
   "source": [
    "(models)=\n",
    "## Models"
   ]
  },
  {
   "cell_type": "markdown",
   "id": "a94a2774-c42c-414e-afa4-fe655b876102",
   "metadata": {},
   "source": [
    "### Questions"
   ]
  },
  {
   "cell_type": "markdown",
   "id": "a1fe55db-f59b-4390-b543-5d39618887ac",
   "metadata": {},
   "source": [
    "```{admonition} Question 1\n",
    "\n",
    "...\n",
    "\n",
    "```"
   ]
  },
  {
   "cell_type": "markdown",
   "id": "43dd8902-e2f5-4a8d-9ea4-a5a1ae1ba84a",
   "metadata": {},
   "source": [
    "```{admonition} Solution 1\n",
    ":class: dropdown\n",
    "\n",
    "... \n",
    "\n",
    "```"
   ]
  },
  {
   "cell_type": "markdown",
   "id": "3f1647bc-a70d-472e-bc3a-7bce5fa63c54",
   "metadata": {},
   "source": [
    "### Exercises"
   ]
  },
  {
   "cell_type": "markdown",
   "id": "0a2aa30f-ada3-4378-b75d-a6c322105907",
   "metadata": {},
   "source": [
    "```{admonition} Exercise 1\n",
    "\n",
    "...\n",
    "\n",
    "```"
   ]
  },
  {
   "cell_type": "markdown",
   "id": "d23c6a76-5d4c-4d2b-97ec-98f4350cc04c",
   "metadata": {},
   "source": [
    "```{admonition} Solution 1\n",
    ":class: dropdown\n",
    "\n",
    "...\n",
    "\n",
    "```"
   ]
  },
  {
   "cell_type": "markdown",
   "id": "33328ebc-1297-44ec-b79c-32303118584b",
   "metadata": {},
   "source": [
    "(distributed)=\n",
    "## Distributed"
   ]
  },
  {
   "cell_type": "markdown",
   "id": "149cb7a3-a8b7-4afa-bf55-61b17330facd",
   "metadata": {},
   "source": [
    "### Questions"
   ]
  },
  {
   "cell_type": "markdown",
   "id": "a91b89a2-b31b-4a26-89e4-e2b0176a3cfd",
   "metadata": {},
   "source": [
    "```{admonition} Question 1\n",
    "\n",
    "...\n",
    "\n",
    "```"
   ]
  },
  {
   "cell_type": "markdown",
   "id": "7933a669-7e52-48bb-be15-f60aa1c11631",
   "metadata": {},
   "source": [
    "```{admonition} Solution 1\n",
    ":class: dropdown\n",
    "\n",
    "...\n",
    "\n",
    "```"
   ]
  },
  {
   "cell_type": "markdown",
   "id": "908129e8-13b0-40cc-9022-5d294f9380f9",
   "metadata": {},
   "source": [
    "### Exercises"
   ]
  },
  {
   "cell_type": "markdown",
   "id": "67b710b3-d348-4a78-9d6a-a409598f1feb",
   "metadata": {},
   "source": [
    "```{admonition} Exercise 1\n",
    "\n",
    "...\n",
    "\n",
    "```"
   ]
  },
  {
   "cell_type": "markdown",
   "id": "e45e22db-687e-47da-bb6b-7fbc2378a068",
   "metadata": {},
   "source": [
    "```{admonition} Solution 1\n",
    ":class: dropdown\n",
    "\n",
    "...\n",
    "\n",
    "```"
   ]
  }
 ],
 "metadata": {
  "kernelspec": {
   "display_name": "intro_ml",
   "language": "python",
   "name": "intro_ml"
  },
  "language_info": {
   "codemirror_mode": {
    "name": "ipython",
    "version": 3
   },
   "file_extension": ".py",
   "mimetype": "text/x-python",
   "name": "python",
   "nbconvert_exporter": "python",
   "pygments_lexer": "ipython3",
   "version": "3.9.10"
  }
 },
 "nbformat": 4,
 "nbformat_minor": 5
}
