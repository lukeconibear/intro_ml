{
 "cells": [
  {
   "cell_type": "markdown",
   "id": "fe79fba2-48b4-4b3c-a479-1c0448ebeb5d",
   "metadata": {},
   "source": [
    "(solutions)=\n",
    "# Solutions"
   ]
  },
  {
   "cell_type": "markdown",
   "id": "35f44bf5-a285-4eda-9257-b0109270dd91",
   "metadata": {},
   "source": [
    "(fundamentals)=\n",
    "## Fundamentals"
   ]
  },
  {
   "cell_type": "markdown",
   "id": "a1c7d942-71b6-4502-9f2b-065c6a04343a",
   "metadata": {},
   "source": [
    "### Questions"
   ]
  },
  {
   "cell_type": "markdown",
   "id": "85ca9c47-2204-4465-9083-00e0f6a8e612",
   "metadata": {},
   "source": [
    "```{admonition} Question 1\n",
    "\n",
    "What does _deep_ mean in deep learning?\n",
    "\n",
    "```"
   ]
  },
  {
   "cell_type": "markdown",
   "id": "9dfb74b2-3349-47fa-998e-c81593bd40af",
   "metadata": {},
   "source": [
    "```{admonition} Solution 1\n",
    ":class: dropdown\n",
    "\n",
    "The number of hidden layers.\n",
    "\n",
    "```"
   ]
  },
  {
   "cell_type": "markdown",
   "id": "8edc5a8e-2bcf-4b4e-98b7-f225a00f99b8",
   "metadata": {},
   "source": [
    "```{admonition} Question 2\n",
    "\n",
    "Activation functions help neural networks learn complex functions because they are:\n",
    "\n",
    "- Linear\n",
    "- Non-linear\n",
    "\n",
    "```"
   ]
  },
  {
   "cell_type": "markdown",
   "id": "89bdf26e-21b1-4918-892d-638a6195ade5",
   "metadata": {},
   "source": [
    "```{admonition} Solution 2\n",
    ":class: dropdown\n",
    "\n",
    "Non-linear\n",
    "\n",
    "```"
   ]
  },
  {
   "cell_type": "markdown",
   "id": "cacfc3f2-503d-476e-a6a4-abd9f831a44f",
   "metadata": {},
   "source": [
    "```{admonition} Question 3\n",
    "\n",
    "What is a tensor?\n",
    "\n",
    "```"
   ]
  },
  {
   "cell_type": "markdown",
   "id": "579ba9b1-add3-4896-b379-404ce3060aba",
   "metadata": {},
   "source": [
    "```{admonition} Solution 3\n",
    ":class: dropdown\n",
    "\n",
    "A multi-dimensional array.\n",
    "\n",
    "```"
   ]
  },
  {
   "cell_type": "markdown",
   "id": "a2f3806c-2ede-43d5-aa8b-a3daaef8dd74",
   "metadata": {},
   "source": [
    "```{admonition} Question 4\n",
    "\n",
    "I have labelled pictures of cats and dogs that I'd like a model to classify.\n",
    "\n",
    "Is this a supervised or unsupervised problem?\n",
    "\n",
    "```"
   ]
  },
  {
   "cell_type": "markdown",
   "id": "a1baad48-8c00-4341-9b8e-dcb366558aa2",
   "metadata": {},
   "source": [
    "```{admonition} Solution 4\n",
    ":class: dropdown\n",
    "\n",
    "Supervised\n",
    "\n",
    "```"
   ]
  },
  {
   "cell_type": "markdown",
   "id": "b66b5928-baa1-4038-b236-b782af5d9b50",
   "metadata": {},
   "source": [
    "```{admonition} Question 5\n",
    "\n",
    "I'd like a model to predict house prices from their features.\n",
    "\n",
    "Is this a classification or regression problem?\n",
    "\n",
    "```"
   ]
  },
  {
   "cell_type": "markdown",
   "id": "04012ba6-7505-40b4-acf2-37727f2c9cd1",
   "metadata": {},
   "source": [
    "```{admonition} Solution 5\n",
    ":class: dropdown\n",
    "\n",
    "Regression\n",
    "\n",
    "```"
   ]
  },
  {
   "cell_type": "markdown",
   "id": "afc5fd4b-a858-401a-a84b-8f0839b46a8b",
   "metadata": {},
   "source": [
    "```{admonition} Question 6\n",
    "\n",
    "How many times can I use the test data?\n",
    "\n",
    "```"
   ]
  },
  {
   "cell_type": "markdown",
   "id": "89dfbcd9-c2a0-48c0-adaa-44d29f789707",
   "metadata": {},
   "source": [
    "```{admonition} Solution 6\n",
    ":class: dropdown\n",
    "\n",
    "Once\n",
    "\n",
    "```"
   ]
  },
  {
   "cell_type": "markdown",
   "id": "0ec4c835-5172-418c-bf73-2b933690ebe5",
   "metadata": {},
   "source": [
    "```{admonition} Question 7\n",
    "\n",
    "I've decided on the number of hidden layers to use in my neural network.\n",
    "\n",
    "Is this a parameter or hyperparameter?\n",
    "\n",
    "```"
   ]
  },
  {
   "cell_type": "markdown",
   "id": "79ffcf1e-ec3c-4620-9614-b7af77bcc87f",
   "metadata": {},
   "source": [
    "```{admonition} Solution 7\n",
    ":class: dropdown\n",
    "\n",
    "Hyperparameter\n",
    "\n",
    "```"
   ]
  },
  {
   "cell_type": "markdown",
   "id": "dd8070f7-f3ec-46f5-ae0b-9df0357e5114",
   "metadata": {},
   "source": [
    "```{admonition} Question 8\n",
    "\n",
    "Do I want to minimise or maximise the loss?\n",
    "\n",
    "```"
   ]
  },
  {
   "cell_type": "markdown",
   "id": "b6f392cf-a412-4c99-b99e-c35756e40491",
   "metadata": {},
   "source": [
    "```{admonition} Solution 8\n",
    ":class: dropdown\n",
    "\n",
    "Minimise\n",
    "\n",
    "```"
   ]
  },
  {
   "cell_type": "markdown",
   "id": "eae9215d-20f6-46b1-b0b9-ecff5feeeecc",
   "metadata": {},
   "source": [
    "```{admonition} Question 9\n",
    "\n",
    "A model underfits the data when it has:\n",
    "\n",
    "- High bias\n",
    "- High variance\n",
    "\n",
    "```"
   ]
  },
  {
   "cell_type": "markdown",
   "id": "0a2367f2-8139-4051-a448-011b9acda948",
   "metadata": {},
   "source": [
    "```{admonition} Solution 9\n",
    ":class: dropdown\n",
    "\n",
    "High bias\n",
    "\n",
    "```"
   ]
  },
  {
   "cell_type": "markdown",
   "id": "a6687004-d62d-4ed7-8f3e-d5db39bada2c",
   "metadata": {},
   "source": [
    "```{admonition} Question 10\n",
    "\n",
    "If my model underfits, what might help:\n",
    "\n",
    "- Adding more features\n",
    "- Adding more data\n",
    "\n",
    "```"
   ]
  },
  {
   "cell_type": "markdown",
   "id": "addd6a4d-d747-4481-b14b-faddd0fa66a1",
   "metadata": {},
   "source": [
    "```{admonition} Solution 10\n",
    ":class: dropdown\n",
    "\n",
    "Add more features\n",
    "\n",
    "```"
   ]
  },
  {
   "cell_type": "markdown",
   "id": "ba1e5d1f-a9fa-45c5-bfa2-4ec408157dec",
   "metadata": {},
   "source": [
    "```{admonition} Question 11\n",
    "\n",
    "If my model overfits, what might help:\n",
    "\n",
    "- Adding more complex features\n",
    "- Increasing regularlisation\n",
    "\n",
    "```"
   ]
  },
  {
   "cell_type": "markdown",
   "id": "a0286c6e-8981-4b19-b530-e9acc7fa191a",
   "metadata": {},
   "source": [
    "```{admonition} Solution 11\n",
    ":class: dropdown\n",
    "\n",
    "Increasing regularlisation\n",
    "\n",
    "```"
   ]
  },
  {
   "cell_type": "markdown",
   "id": "9f7bbe60-9411-42f7-b6b1-4b844a5e0353",
   "metadata": {},
   "source": [
    "(tools)=\n",
    "## Tools"
   ]
  },
  {
   "cell_type": "markdown",
   "id": "401cc90a-4e62-46dd-b8c2-ddc706e1c67f",
   "metadata": {},
   "source": [
    "### Questions"
   ]
  },
  {
   "cell_type": "markdown",
   "id": "146724d7-2074-4770-a771-dc25f5143bd6",
   "metadata": {},
   "source": [
    "```{admonition} Question 1\n",
    "\n",
    "If you were looking to do classic machine learning, what tool is a good choice?\n",
    "\n",
    "```"
   ]
  },
  {
   "cell_type": "markdown",
   "id": "162398da-29a5-4427-a114-10fb1ff8fc2a",
   "metadata": {},
   "source": [
    "```{admonition} Solution 1\n",
    ":class: dropdown\n",
    "\n",
    "scikit-learn\n",
    "\n",
    "```"
   ]
  },
  {
   "cell_type": "markdown",
   "id": "c0ddcb01-7997-4b1f-a080-2511b997727d",
   "metadata": {},
   "source": [
    "```{admonition} Question 2\n",
    "\n",
    "If you were looking to do deep learning using a high-level API, what tools are a good choice?\n",
    "\n",
    "```"
   ]
  },
  {
   "cell_type": "markdown",
   "id": "d015ddd6-8e4c-41c6-8f1e-06bf4bbf2c2d",
   "metadata": {},
   "source": [
    "```{admonition} Solution 2\n",
    ":class: dropdown\n",
    "\n",
    "Keras or PyTorch Lightning.\n",
    "\n",
    "```"
   ]
  },
  {
   "cell_type": "markdown",
   "id": "3f96d08c-a3a7-4101-bd32-161f4db429fe",
   "metadata": {},
   "source": [
    "```{admonition} Question 3\n",
    "\n",
    "What are good reasons for choosing a high or low-level API?\n",
    "\n",
    "```"
   ]
  },
  {
   "cell_type": "markdown",
   "id": "3cd7a260-3af3-4bef-a946-658b073a6ed6",
   "metadata": {},
   "source": [
    "```{admonition} Solution 3\n",
    ":class: dropdown\n",
    "\n",
    "High-level APIs (e.g., Keras, PyTorch Lightning) are often quicker for testing out ideas, more user-friendly, and have many high-level objects ready for you to use (e.g., layers, optimisers).\n",
    "\n",
    "Low-level APIs (e.g., TensorFlow, PyTorch) are useful for creating your own custom objects.\n",
    "\n",
    "```"
   ]
  },
  {
   "cell_type": "markdown",
   "id": "a56dace1-53fc-4838-8afb-ee9086be3f3e",
   "metadata": {},
   "source": [
    "```{admonition} Question 4\n",
    "\n",
    "When creating a model, which API is simpler to use?\n",
    "\n",
    "- Sequential\n",
    "- Subclassing\n",
    "\n",
    "```"
   ]
  },
  {
   "cell_type": "markdown",
   "id": "a084e6df-7181-4665-ae62-a93d161f38b4",
   "metadata": {},
   "source": [
    "```{admonition} Solution 4\n",
    ":class: dropdown\n",
    "\n",
    "The Sequential API is simpler.\n",
    "\n",
    "The Subclassing API has a lot more flexibility.\n",
    "\n",
    "```"
   ]
  },
  {
   "cell_type": "markdown",
   "id": "e433e7ca-e0a2-4d76-8d54-8b65c3692182",
   "metadata": {},
   "source": [
    "```{admonition} Question 5\n",
    "\n",
    "Put these general steps in order:\n",
    "\n",
    "- Compile the model\n",
    "- Preprocess the data\n",
    "- Test the model\n",
    "- Fit the model to the training data\n",
    "- Create the model\n",
    "- Download the data\n",
    "\n",
    "```"
   ]
  },
  {
   "cell_type": "markdown",
   "id": "0ad1bea0-8c57-400b-bd8c-0e7f5cc9d9e8",
   "metadata": {},
   "source": [
    "```{admonition} Solution 5\n",
    ":class: dropdown\n",
    "\n",
    "- Download the data\n",
    "- Preprocess the data\n",
    "- Create the model\n",
    "- Compile the model\n",
    "- Fit the model to the training data\n",
    "- Test the model\n",
    "\n",
    "```"
   ]
  },
  {
   "cell_type": "markdown",
   "id": "24c97c17-a6e2-4c97-a02c-fe687988fc60",
   "metadata": {},
   "source": [
    "```{admonition} Question 6\n",
    "\n",
    "Which machine learning library is the best?\n",
    "\n",
    "```"
   ]
  },
  {
   "cell_type": "markdown",
   "id": "129a0524-0968-4fef-94df-cd11191bb3da",
   "metadata": {},
   "source": [
    "```{admonition} Solution 6\n",
    ":class: dropdown\n",
    "\n",
    "You decide.\n",
    "\n",
    "```"
   ]
  },
  {
   "cell_type": "markdown",
   "id": "3e795aae-7cbb-4369-aa9a-0e238acbb43a",
   "metadata": {},
   "source": [
    "(data)=\n",
    "## Data"
   ]
  },
  {
   "cell_type": "markdown",
   "id": "1fd57863-90c0-4ce5-8bf3-1f745dfd90a3",
   "metadata": {},
   "source": [
    "### Questions"
   ]
  },
  {
   "cell_type": "markdown",
   "id": "d5285f55-79fc-4574-a38f-03915dfc3c55",
   "metadata": {},
   "source": [
    "```{admonition} Question 1\n",
    "\n",
    "Should I split my data in train and test subsets _before_ or _after_ pre-processing?\n",
    "\n",
    "```"
   ]
  },
  {
   "cell_type": "markdown",
   "id": "cd69d9c3-37bf-4ef5-ae9e-b508122dc055",
   "metadata": {},
   "source": [
    "```{admonition} Solution 1\n",
    ":class: dropdown\n",
    "\n",
    "Before. Splitting the data should be done first. This can help avoid any data leakage of the test data.\n",
    "\n",
    "```"
   ]
  },
  {
   "cell_type": "markdown",
   "id": "fdeb2a2c-2059-4ab8-ab6d-4c5d30f4e852",
   "metadata": {},
   "source": [
    "```{admonition} Question 2\n",
    "\n",
    "Before I use random functionality, what is a good practice for reproducibility?\n",
    "\n",
    "```"
   ]
  },
  {
   "cell_type": "markdown",
   "id": "0724551b-d50e-4508-8123-a2d2bac6c1d9",
   "metadata": {},
   "source": [
    "```{admonition} Solution 2\n",
    ":class: dropdown\n",
    "\n",
    "Set a random seed.\n",
    "\n",
    "```"
   ]
  },
  {
   "cell_type": "markdown",
   "id": "bc2baa48-7a6d-4dd9-a799-6fc3006898a7",
   "metadata": {},
   "source": [
    "```{admonition} Question 3\n",
    "\n",
    "What should I create if there are multiple steps to my data pre-processing?\n",
    "\n",
    "```"
   ]
  },
  {
   "cell_type": "markdown",
   "id": "631a965c-19b4-4bab-a650-d6e9f5af390f",
   "metadata": {},
   "source": [
    "```{admonition} Solution 3\n",
    ":class: dropdown\n",
    "\n",
    "A data pipeline.\n",
    "\n",
    "```"
   ]
  },
  {
   "cell_type": "markdown",
   "id": "b995018e-27d8-48c6-a365-efef1917f60d",
   "metadata": {},
   "source": [
    "```{admonition} Question 4\n",
    "\n",
    "Name three ways to improve performance in a data pipeline.\n",
    "\n",
    "```"
   ]
  },
  {
   "cell_type": "markdown",
   "id": "f28ae89f-612c-4da8-8b9e-730aae3d121c",
   "metadata": {},
   "source": [
    "```{admonition} Solution 4\n",
    ":class: dropdown\n",
    "\n",
    "Any of the following are often good ideas:\n",
    "\n",
    "- Shuffle\n",
    "- Batch\n",
    "- Caching\n",
    "- Prefetch\n",
    "- Parallel data extraction\n",
    "- Data augmentation\n",
    "- Parallel data transformation\n",
    "- Vectorised mapping\n",
    "- Mixed precision\n",
    "\n",
    "```"
   ]
  },
  {
   "cell_type": "markdown",
   "id": "4cde16e4-2a14-4256-86ad-5bfb920512f1",
   "metadata": {},
   "source": [
    "(models)=\n",
    "## Models"
   ]
  },
  {
   "cell_type": "markdown",
   "id": "3f1647bc-a70d-472e-bc3a-7bce5fa63c54",
   "metadata": {},
   "source": [
    "### Questions"
   ]
  },
  {
   "cell_type": "markdown",
   "id": "0a2aa30f-ada3-4378-b75d-a6c322105907",
   "metadata": {},
   "source": [
    "```{admonition} Question 1\n",
    "\n",
    "What are possible hyperparameters that could be tuned?\n",
    "\n",
    "- Learning rate and the number of units.\n",
    "- Weights and biases.\n",
    "\n",
    "```"
   ]
  },
  {
   "cell_type": "markdown",
   "id": "d23c6a76-5d4c-4d2b-97ec-98f4350cc04c",
   "metadata": {},
   "source": [
    "```{admonition} Solution 1\n",
    ":class: dropdown\n",
    "\n",
    "Learning rate and the number of units.\n",
    "\n",
    "```"
   ]
  },
  {
   "cell_type": "markdown",
   "id": "525bc8a0-6726-44c4-83b3-ebf6a66b2b21",
   "metadata": {},
   "source": [
    "```{admonition} Question 2\n",
    "\n",
    "What is transfer learning?\n",
    "\n",
    "```"
   ]
  },
  {
   "cell_type": "markdown",
   "id": "b7a7ad7b-bc7c-4f4d-ad43-497b44384a8a",
   "metadata": {},
   "source": [
    "```{admonition} Solution 2\n",
    ":class: dropdown\n",
    "\n",
    "Transfer learning is where a model that has been pre-trained on a problem is transferred to another similar problem. For example, if a model learnt to classify images it can be transferred to other image classification problems.\n",
    "\n",
    "```"
   ]
  },
  {
   "cell_type": "markdown",
   "id": "6cb2f454-97fd-4562-973d-caa45d758af6",
   "metadata": {},
   "source": [
    "```{admonition} Question 3\n",
    "\n",
    "Why is transfer learning useful?\n",
    "\n",
    "```"
   ]
  },
  {
   "cell_type": "markdown",
   "id": "3040195b-3aae-481f-98ec-768d0a5569da",
   "metadata": {},
   "source": [
    "```{admonition} Solution 3\n",
    ":class: dropdown\n",
    "\n",
    "Transfer learning is useful when:\n",
    "\n",
    "- You have a small dataset.\n",
    "- You want to take advantage of huge models without the costs of training them.\n",
    "\n",
    "```"
   ]
  },
  {
   "cell_type": "markdown",
   "id": "d2a00bcf-84c0-4482-a6af-ae3d4608718f",
   "metadata": {},
   "source": [
    "```{admonition} Question 4\n",
    "\n",
    "What is a key step in transfer learning?\n",
    "\n",
    "```"
   ]
  },
  {
   "cell_type": "markdown",
   "id": "497ed567-3c35-4ae5-949b-b31db2f4e0e5",
   "metadata": {},
   "source": [
    "```{admonition} Solution 4\n",
    ":class: dropdown\n",
    "\n",
    "To freeze the layers from the base model, otherwise the pre-trained model will forget what it has learned.\n",
    "\n",
    "Note, this is different to when _after_ transfer learning is complete, you unfreeze some of the lower layers and do some [fine tuning](https://www.tensorflow.org/tutorials/images/transfer_learning#fine_tuning).\n",
    "\n",
    "```"
   ]
  },
  {
   "cell_type": "markdown",
   "id": "f3eba398-651d-474d-8576-a2423a14a59b",
   "metadata": {},
   "source": [
    "```{admonition} Question 5\n",
    "\n",
    "What are callbacks?\n",
    "\n",
    "```"
   ]
  },
  {
   "cell_type": "markdown",
   "id": "678a8bbd-8658-4442-8fa6-f75a7c862f26",
   "metadata": {},
   "source": [
    "```{admonition} Solution 5\n",
    ":class: dropdown\n",
    "\n",
    "Callbacks are objects that get called by the model at different points during training, in particular after each batch or epoch.\n",
    "\n",
    "```"
   ]
  },
  {
   "cell_type": "markdown",
   "id": "914c7b22-16d9-478b-9f7b-b09e5402616c",
   "metadata": {},
   "source": [
    "```{admonition} Question 6\n",
    "\n",
    "Name three examples of callbacks.\n",
    "\n",
    "```"
   ]
  },
  {
   "cell_type": "markdown",
   "id": "59dec8a9-fa3f-49dc-af0a-dfd8dacad54f",
   "metadata": {},
   "source": [
    "```{admonition} Solution 6\n",
    ":class: dropdown\n",
    "\n",
    "- Checkpoints\n",
    "- Fault tolerance\n",
    "- Logging\n",
    "- Profiling\n",
    "- Early stopping\n",
    "- Learning rate decay\n",
    "\n",
    "```"
   ]
  },
  {
   "cell_type": "markdown",
   "id": "33328ebc-1297-44ec-b79c-32303118584b",
   "metadata": {},
   "source": [
    "(distributed)=\n",
    "## Distributed"
   ]
  },
  {
   "cell_type": "markdown",
   "id": "908129e8-13b0-40cc-9022-5d294f9380f9",
   "metadata": {},
   "source": [
    "### Questions"
   ]
  },
  {
   "cell_type": "markdown",
   "id": "67b710b3-d348-4a78-9d6a-a409598f1feb",
   "metadata": {},
   "source": [
    "```{admonition} Question 1\n",
    "\n",
    "What are the two ways to parallelise machine learning, and which way is simpler?\n",
    "\n",
    "```"
   ]
  },
  {
   "cell_type": "markdown",
   "id": "e45e22db-687e-47da-bb6b-7fbc2378a068",
   "metadata": {},
   "source": [
    "```{admonition} Solution 1\n",
    ":class: dropdown\n",
    "\n",
    "Data parallelism and model parallelism.\n",
    "\n",
    "Where data parallelism is often simpler.\n",
    "\n",
    "```"
   ]
  },
  {
   "cell_type": "markdown",
   "id": "122e7d92-0aec-40c1-a7bb-8614cf5f0980",
   "metadata": {},
   "source": [
    "```{admonition} Question 2\n",
    "\n",
    "How can you check the efficiency of a CPU job?\n",
    "\n",
    "```"
   ]
  },
  {
   "cell_type": "markdown",
   "id": "93352847-e2de-42f8-8fa7-5f494765d1cf",
   "metadata": {},
   "source": [
    "```{admonition} Solution 2\n",
    ":class: dropdown\n",
    "\n",
    "You can check the CPU efficiency of a job using `qacct -j <JOBID>`.  \n",
    "\n",
    "Here, the table provides information for `cpu`, `ru_wallclock`, and `slots`.  \n",
    "\n",
    "You can use these to calculate the efficiency via:  \n",
    "\n",
    "`Efficiency = 100 * cpu / (ru_wallclock * slots)`  \n",
    "\n",
    "```"
   ]
  },
  {
   "cell_type": "markdown",
   "id": "b7d030d9-6f40-4d87-8add-4bb52204aa69",
   "metadata": {},
   "source": [
    "```{admonition} Question 3\n",
    "\n",
    "How can you check the efficiency of a CPU job?\n",
    "\n",
    "```"
   ]
  },
  {
   "cell_type": "markdown",
   "id": "9267c341-0599-4d76-bb97-aead161f51a5",
   "metadata": {},
   "source": [
    "```{admonition} Solution 3\n",
    ":class: dropdown\n",
    "\n",
    "You can use `nvidia-smi`.\n",
    "\n",
    "In your job, you can use it to create an efficiency log via:\n",
    "\n",
    "`# start the efficiency log for the GPU`  \n",
    "`nvidia-smi dmon -d 10 -s um -i 0 > efficiency_log &`  \n",
    "  \n",
    "`# run the GPU script`  \n",
    "`python script.py`  \n",
    "  \n",
    "`# stop the efficiency log`  \n",
    "`kill %1`  \n",
    "\n",
    "```"
   ]
  },
  {
   "cell_type": "markdown",
   "id": "62eb2eaa-4e19-4457-867a-decde6ea099a",
   "metadata": {},
   "source": [
    "```{admonition} Question 4\n",
    "\n",
    "What tools can help distribute TensorFlow and PyTorch code?\n",
    "\n",
    "```"
   ]
  },
  {
   "cell_type": "markdown",
   "id": "45b659da-3d63-489f-bb42-5a199546f935",
   "metadata": {},
   "source": [
    "```{admonition} Solution 4\n",
    ":class: dropdown\n",
    "\n",
    "Ray Train and PyTorch Lightning.\n",
    "\n",
    "```"
   ]
  },
  {
   "cell_type": "markdown",
   "id": "9373a98e-8bce-4413-af3f-3155a9d408db",
   "metadata": {},
   "source": [
    "```{admonition} Question 5\n",
    "\n",
    "In general, what should the batch size be for distributed work?\n",
    "\n",
    "```"
   ]
  },
  {
   "cell_type": "markdown",
   "id": "22b0d00e-8cb0-4e95-b662-8f1a9cb30444",
   "metadata": {},
   "source": [
    "```{admonition} Solution 5\n",
    ":class: dropdown\n",
    "\n",
    "Generally, the batch size for distributed work should be the _global_ batch size, which is the _per worker batch size_ multipled by the number of workers.\n",
    "\n",
    "```"
   ]
  },
  {
   "cell_type": "markdown",
   "id": "c3c9820a-c490-4c30-a214-c0a91da95b69",
   "metadata": {},
   "source": [
    "```{admonition} Question 6\n",
    "\n",
    "What are some good steps for moving Jupyter Notebook code to HPC?\n",
    "\n",
    "```"
   ]
  },
  {
   "cell_type": "markdown",
   "id": "03735f00-d12b-4076-815a-11feeb667735",
   "metadata": {},
   "source": [
    "```{admonition} Solution 6\n",
    ":class: dropdown\n",
    "\n",
    "- Clean non-essential code\n",
    "- Refactor Jupyter Notebook code into functions\n",
    "- Create a Python script\n",
    "- Create submission script\n",
    "- Create unit tests\n",
    "\n",
    "```"
   ]
  }
 ],
 "metadata": {
  "kernelspec": {
   "display_name": "swd8_intro_ml",
   "language": "python",
   "name": "swd8_intro_ml"
  },
  "language_info": {
   "codemirror_mode": {
    "name": "ipython",
    "version": 3
   },
   "file_extension": ".py",
   "mimetype": "text/x-python",
   "name": "python",
   "nbconvert_exporter": "python",
   "pygments_lexer": "ipython3",
   "version": "3.9.12"
  }
 },
 "nbformat": 4,
 "nbformat_minor": 5
}
