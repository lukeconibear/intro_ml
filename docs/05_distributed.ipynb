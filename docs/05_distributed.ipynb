{
 "cells": [
  {
   "cell_type": "markdown",
   "id": "e1f167c0-52a8-4800-9999-0419acc312a8",
   "metadata": {},
   "source": [
    "# Distributed"
   ]
  },
  {
   "cell_type": "markdown",
   "id": "a6ae8044-47c9-4c48-b50d-e3dadb441757",
   "metadata": {},
   "source": [
    "[![Open in Colab](https://colab.research.google.com/assets/colab-badge.svg)](https://colab.research.google.com/github/lukeconibear/intro_ml/blob/main/docs/04_distributed.ipynb)"
   ]
  },
  {
   "cell_type": "code",
   "execution_count": 1,
   "id": "49aef6fc-d7fe-45a5-9593-f9092ae02ebe",
   "metadata": {},
   "outputs": [],
   "source": [
    "# if you're using colab, then install the required modules\n",
    "import sys\n",
    "\n",
    "IN_COLAB = \"google.colab\" in sys.modules\n",
    "if IN_COLAB:\n",
    "    pass"
   ]
  },
  {
   "cell_type": "markdown",
   "id": "c24c725f-0aed-4b26-b2c0-6e02de0ad324",
   "metadata": {},
   "source": [
    "Examples of how to distribute deep learning on a High Performance Computer (HPC)."
   ]
  },
  {
   "cell_type": "markdown",
   "id": "af3e0511-23ec-4f5a-a866-228bae6fd60c",
   "metadata": {},
   "source": [
    "## Install Python environments\n",
    "\n",
    "First, install the Python environments for the required HPC."
   ]
  },
  {
   "cell_type": "markdown",
   "id": "e3d909d3-abf8-4531-b680-33d8a7db48d7",
   "metadata": {},
   "source": [
    "## ARC4\n",
    "\n",
    "### Miniconda installer\n",
    "```bash\n",
    "# download miniconda (x86_64 for ARC4)\n",
    "wget https://repo.anaconda.com/miniconda/Miniconda3-latest-Linux-x86_64.sh\n",
    "\n",
    "# run miniconda, read terms, and set path\n",
    ". Miniconda3-latest-Linux-x86_64.sh\n",
    "```\n",
    "\n",
    "### Conda environment\n",
    "\n",
    "#### Clone pre-created environments\n",
    "\n",
    "```bash\n",
    "# clone - tensorflow 2.7.0 and ray\n",
    "conda env create --file tf_ray_arc4.yml\n",
    "\n",
    "# clone - pytorch 1.10 and ray\n",
    "module load gnu/8.3.0\n",
    "conda env create --file pytorch_ray_arc4.yml\n",
    "```\n",
    "\n",
    "#### Create your own\n",
    "\n",
    "```bash\n",
    "# create new - tensorflow 2.7.0 and ray\n",
    "conda create -n tf_ray_arc4 -c conda-forge python==3.9.* cudatoolkit==11.2.* cudnn==8.1.*\n",
    "conda activate tf_ray_arc4\n",
    "pip install -U pip\n",
    "pip install tensorflow==2.7.0\n",
    "pip install -U ray\n",
    "pip install -U ray[tune]\n",
    "\n",
    "# create new - pytorch (1.10) and ray\n",
    "module load gnu/8.3.0\n",
    "conda create -n pytorch_ray_arc4 pytorch torchvision torchaudio cudatoolkit=11.3 -c pytorch\n",
    "conda activate pytorch_ray_arc4\n",
    "pip install -U ray\n",
    "pip install -U ray[tune]\n",
    "\n",
    "# create new - jax\n",
    "conda create -n jax python=3.8 cudatoolkit=11.2 cudatoolkit-dev=11.2 cudnn=8.2\n",
    "conda activate jax\n",
    "pip install -U jax\n",
    "pip install --upgrade \"jax[cuda]\" -f https://storage.googleapis.com/jax-releases/jax_releases.html\n",
    "```"
   ]
  },
  {
   "cell_type": "markdown",
   "id": "45b51ba4-6980-4d56-976f-5bffd854751d",
   "metadata": {},
   "source": [
    "## Bede\n",
    "\n",
    "### Miniconda installer\n",
    "```bash\n",
    "# Replace <project> with your project code\n",
    "export DIR=/nobackup/projects/<project>/$USER\n",
    "\n",
    "# download miniconda (ppc64le for Bede's hardware, not x86_64 as for ARC4)\n",
    "wget https://repo.anaconda.com/miniconda/Miniconda3-latest-Linux-ppc64le.sh\n",
    " \n",
    "# run miniconda\n",
    "sh Miniconda3-latest-Linux-ppc64le.sh -b -p $DIR/miniconda\n",
    "source miniconda/bin/activate\n",
    " \n",
    "# update conda and set channels\n",
    "conda update conda -y\n",
    "conda config --prepend channels conda-forge\n",
    "conda config --prepend channels https://public.dhe.ibm.com/ibmdl/export/pub/software/server/ibm-ai/conda/\n",
    "conda config --prepend channels https://opence.mit.edu\n",
    "```\n",
    "\n",
    "This is what my `~/.condarc` ends up as:\n",
    "```bash\n",
    "channel_priority: flexible\n",
    "channels:\n",
    "  - https://opence.mit.edu\n",
    "  - https://public.dhe.ibm.com/ibmdl/export/pub/software/server/ibm-ai/conda/\n",
    "  - conda-forge\n",
    "  - defaults\n",
    "```\n",
    "\n",
    "### Conda environment\n",
    "\n",
    "#### Clone pre-created environments\n",
    "\n",
    "```bash\n",
    "# clone - tensorflow 2.7.0 and ray\n",
    "conda env create --file tf_bede.yml\n",
    "\n",
    "# clone - pytorch 1.10 and ray\n",
    "conda env create --file pytorch_bede.yml\n",
    "\n",
    "# clone - pytorch 1.9.0, cuda 10.2, and pytorch_geometric 2.0.3\n",
    "module load gcc # require this for some of the libraries\n",
    "conda env create --file pytorch_geometric_bede.yml\n",
    "```\n",
    "\n",
    "#### Create your own\n",
    "\n",
    "```bash\n",
    "# create an environment for pytorch\n",
    "conda create -n pytorch pytorch torchvision cudatoolkit=10.2\n",
    " \n",
    "# create an environment for tensorflow\n",
    "conda create -n tf tensorflow\n",
    "\n",
    "# create an environment for pytorch geometric\n",
    "module load gcc\n",
    "conda create -n pytorch_geometric pytorch cudatoolkit=10.2\n",
    "conda activate pytorch_geometric\n",
    "\n",
    "pip install torch-scatter\n",
    "pip install torch-sparse\n",
    "pip install torch-geometric\n",
    "pip install torch-cluster\n",
    "```"
   ]
  },
  {
   "cell_type": "markdown",
   "id": "731aab36-d5bb-4c5d-bece-ec21783dd7fa",
   "metadata": {},
   "source": [
    "## JADE-2\n",
    "\n",
    "### Miniconda installer\n",
    "\n",
    "```bash\n",
    "...\n",
    "```\n",
    "\n",
    "### Conda environment\n",
    "\n",
    "#### Clone pre-created environments\n",
    "\n",
    "```bash\n",
    "...\n",
    "```\n",
    "\n",
    "#### Create your own\n",
    "\n",
    "```bash\n",
    "...\n",
    "```"
   ]
  },
  {
   "cell_type": "markdown",
   "id": "5d9ea8d1-52a9-4085-9008-10d1dd60ed15",
   "metadata": {},
   "source": [
    "## Jupyter Notebook to HPC\n",
    "\n",
    "It's preferable to use a static job on the HPC. To do this, you could test out different ideas locally in a Jupyter Notebook, then when ready convert this to an executable script (`.py`) and move it over. \n",
    "\n",
    "..."
   ]
  },
  {
   "cell_type": "markdown",
   "id": "e33cfd64-4afb-4e03-8712-3d9935879e91",
   "metadata": {},
   "source": [
    "## Examples\n",
    "\n",
    "These examples use [Ray Train](https://docs.ray.io/en/latest/train/train.html) in a static job on a HPC.\n",
    "Ray handles most of the complexity of distributing the work, with minimal changes to your [TensorFlow](https://www.tensorflow.org/tutorials/distribute/multi_worker_with_keras) or [PyTorch](https://pytorch.org/tutorials/beginner/dist_overview.html) code.\n",
    "\n",
    "- Python script examples:\n",
    "  - TensorFlow\n",
    "    - MNIST end-to-end: [`tensorflow_mnist_example.py`](https://github.com/lukeconibear/intro_ml/blob/main/distributed/tensorflow_mnist_example.py).  \n",
    "    - MNIST tuning: [`tensorflow_tune_mnist_example.py`](https://github.com/lukeconibear/intro_ml/blob/main/distributed/tensorflow_tune_mnist_example.py).  \n",
    "    - Train linear model with Ray Datasets: [`tensorflow_linear_dataset_example.py`](https://github.com/lukeconibear/intro_ml/blob/main/distributed/tensorflow_linear_dataset_example.py).  \n",
    "  - PyTorch\n",
    "    - Linear: [`pytorch_train_linear_example.py`](https://github.com/lukeconibear/intro_ml/blob/main/distributed/pytorch_train_linear_example.py).  \n",
    "    - Fashion MNIST: [`pytorch_train_fashion_mnist_example.py`](https://github.com/lukeconibear/intro_ml/blob/main/distributed/pytorch_train_fashion_mnist_example.py).  \n",
    "    - HuggingFace Transformer: [`pytorch_transformers_example.py`](https://github.com/lukeconibear/intro_ml/blob/main/distributed/pytorch_transformers_example.py).  \n",
    "    - Tune linear model with Ray Datasets: [`pytorch_tune_linear_dataset_example.py`](https://github.com/lukeconibear/intro_ml/blob/main/distributed/pytorch_tune_linear_dataset_example.py).  \n",
    "- Then submit the job to HPC (choose one and update the Python script within it):\n",
    "  - [ARC4](https://arcdocs.leeds.ac.uk/systems/arc4.html) (SGE)  \n",
    "    - CPU: [`ray_train_on_arc4_cpu.bash`](https://github.com/lukeconibear/intro_ml/blob/main/distributed/ray_train_on_arc4_cpu.bash).  \n",
    "    - GPU: [`ray_train_on_arc4_gpu.bash`](https://github.com/lukeconibear/intro_ml/blob/main/distributed/ray_train_on_arc4_gpu.bash).  \n",
    "  - [Bede](https://bede-documentation.readthedocs.io/en/latest/) (SLURM)\n",
    "    - GPU: [`ray_train_on_bede.bash`](https://github.com/lukeconibear/intro_ml/blob/main/distributed/ray_train_on_bede.bash).  \n",
    "  - [JADE-2](http://docs.jade.ac.uk/en/latest/index.html) (SLURM)\n",
    "    - GPU: ...\n",
    "\n"
   ]
  },
  {
   "cell_type": "code",
   "execution_count": null,
   "id": "950fbf5b-68db-4b0f-b274-2c02cf2921a2",
   "metadata": {},
   "outputs": [],
   "source": []
  },
  {
   "cell_type": "code",
   "execution_count": null,
   "id": "cd0ba867-497b-49da-9365-8ec52064aff7",
   "metadata": {},
   "outputs": [],
   "source": []
  },
  {
   "cell_type": "code",
   "execution_count": null,
   "id": "5f1b6c73-a7ea-4e53-a2cf-0d1294aa5daf",
   "metadata": {},
   "outputs": [],
   "source": []
  },
  {
   "cell_type": "code",
   "execution_count": null,
   "id": "812aad8c-4514-4652-b8ec-59807a8c1056",
   "metadata": {},
   "outputs": [],
   "source": []
  },
  {
   "cell_type": "markdown",
   "id": "172846d1-c075-4cfd-81f4-7401dd0135e7",
   "metadata": {},
   "source": [
    "https://keras.io/guides/distributed_training/"
   ]
  },
  {
   "cell_type": "markdown",
   "id": "bca4ca1f-42f4-4e7c-bb38-73c30401fc66",
   "metadata": {},
   "source": [
    "Synchronous data-parallel training on all available GPUs:"
   ]
  },
  {
   "cell_type": "code",
   "execution_count": null,
   "id": "94b487b5-a8d6-421a-831b-c2fab2f09d2b",
   "metadata": {},
   "outputs": [],
   "source": [
    "# distribution_strategy = tf.distribute.MirrorStratergy()\n",
    "# with distribution_strategy.scope():\n",
    "#     # Everything that creates variables should be under the strategy scope.\n",
    "#     # In general this is only model construction and compile()\n",
    "#     model = build_model()\n",
    "#     model.compile(optimiser, loss)\n",
    "#     model.fit(dataset, epochs=epochs, callbacks=callbacks)  "
   ]
  },
  {
   "cell_type": "markdown",
   "id": "4d227b3f-2910-4d3b-82bb-8ab241cc1772",
   "metadata": {},
   "source": [
    "should the `model.fit` call be inside or outside the scope?"
   ]
  },
  {
   "cell_type": "markdown",
   "id": "9b677227-469f-4b11-8ae9-9d8b6c562264",
   "metadata": {},
   "source": [
    "#$ -cwd\n",
    "\n",
    "not\n",
    "\n",
    "#$ -cwd -V\n",
    "\n",
    "so have to specific the reproducible environment with the job submission (not copied over from the terminal)"
   ]
  },
  {
   "cell_type": "code",
   "execution_count": null,
   "id": "67e991d8-5171-4a24-908c-1aae5016bf1f",
   "metadata": {},
   "outputs": [],
   "source": []
  },
  {
   "cell_type": "markdown",
   "id": "fa82c005-5721-434c-a8c7-d5eb5f2f2afb",
   "metadata": {},
   "source": []
  },
  {
   "cell_type": "code",
   "execution_count": null,
   "id": "96f161fc-1a28-4b12-9fe8-fad13ff441bb",
   "metadata": {},
   "outputs": [],
   "source": []
  },
  {
   "cell_type": "markdown",
   "id": "a813e565-680a-48c9-94e7-b97a584bec20",
   "metadata": {},
   "source": []
  },
  {
   "cell_type": "code",
   "execution_count": null,
   "id": "7754aab4-d77f-49ba-99e3-459db572bb2e",
   "metadata": {},
   "outputs": [],
   "source": []
  },
  {
   "cell_type": "markdown",
   "id": "3974fe93-af71-489f-926d-67d542b2f869",
   "metadata": {},
   "source": []
  },
  {
   "cell_type": "code",
   "execution_count": null,
   "id": "51a1a84b-3d74-4bab-8d2d-5eaa08fadb7f",
   "metadata": {},
   "outputs": [],
   "source": []
  },
  {
   "cell_type": "code",
   "execution_count": null,
   "id": "5027f592-a249-41cf-bff5-6e842e358f10",
   "metadata": {},
   "outputs": [],
   "source": []
  },
  {
   "cell_type": "code",
   "execution_count": null,
   "id": "a2cfa02a-60cf-4e35-946c-d6d90dd6c44e",
   "metadata": {},
   "outputs": [],
   "source": []
  },
  {
   "cell_type": "code",
   "execution_count": null,
   "id": "ccafbd9b-1ac6-4017-9e13-63b734862265",
   "metadata": {},
   "outputs": [],
   "source": []
  },
  {
   "cell_type": "code",
   "execution_count": null,
   "id": "36dd26db-3e9d-4ada-8b60-ec674b674b20",
   "metadata": {},
   "outputs": [],
   "source": []
  },
  {
   "cell_type": "markdown",
   "id": "42a7146e-bc2d-4078-b65e-b6b983d588e1",
   "metadata": {
    "tags": []
   },
   "source": [
    "## Exercises"
   ]
  },
  {
   "cell_type": "markdown",
   "id": "af74e521-e75b-4684-a8b3-b01951a40340",
   "metadata": {},
   "source": [
    "```{admonition} Exercise 1\n",
    "\n",
    "...\n",
    "\n",
    "```"
   ]
  },
  {
   "cell_type": "markdown",
   "id": "ebf8af3b-5d9a-4e2c-9bd0-223837749e07",
   "metadata": {},
   "source": [
    "## {ref}`Solutions <distributed>`"
   ]
  },
  {
   "cell_type": "markdown",
   "id": "ba85d337-9ea3-4511-ae33-4fb036418318",
   "metadata": {},
   "source": [
    "## Key Points"
   ]
  },
  {
   "cell_type": "markdown",
   "id": "e1de920e-c4c1-4c47-8a80-b7f1ab648754",
   "metadata": {},
   "source": [
    "```{important}\n",
    "\n",
    "- [x] _..._\n",
    "\n",
    "```"
   ]
  },
  {
   "cell_type": "markdown",
   "id": "d73bcbb5-e4c3-4032-b7af-8fd24d9e19e9",
   "metadata": {
    "tags": []
   },
   "source": [
    "## Further information\n",
    "\n",
    "### Good practices\n",
    "\n",
    "- ...\n",
    "\n",
    "### Other options\n",
    "\n",
    "- [Horovod](https://horovod.ai/)\n",
    "- [DeepSpeed](https://www.deepspeed.ai/)\n",
    " \n",
    "### Resources\n",
    "\n",
    "- ..."
   ]
  },
  {
   "cell_type": "code",
   "execution_count": null,
   "id": "9f88b4fd-f076-480a-8ce8-703a115cd920",
   "metadata": {},
   "outputs": [],
   "source": []
  }
 ],
 "metadata": {
  "interpreter": {
   "hash": "b1ffad78e3b53a26aeabe29bd69865e9fcde2eed64638bf28084d4e5d53534f3"
  },
  "kernelspec": {
   "display_name": "intro_ml",
   "language": "python",
   "name": "intro_ml"
  },
  "language_info": {
   "codemirror_mode": {
    "name": "ipython",
    "version": 3
   },
   "file_extension": ".py",
   "mimetype": "text/x-python",
   "name": "python",
   "nbconvert_exporter": "python",
   "pygments_lexer": "ipython3",
   "version": "3.9.10"
  }
 },
 "nbformat": 4,
 "nbformat_minor": 5
}
