{
 "cells": [
  {
   "cell_type": "markdown",
   "id": "889871d4-6344-4a5b-a591-e91b5b4f8134",
   "metadata": {},
   "source": [
    "# Overview"
   ]
  },
  {
   "cell_type": "markdown",
   "id": "522d29ce-e032-47f4-a9ce-665f5ee61e66",
   "metadata": {},
   "source": [
    "Machine learning and deep learning are large, growing, and changing fields.\n",
    "\n",
    "This course is a introduction to them.\n",
    "\n",
    "It aims to provide high-level guidance to get started.\n",
    "\n",
    "The focus is more on practical advise and good practices, rather than every application, architecture, and latest development.\n",
    "\n",
    "It's intended to build intuitions, rather than act as a definitive source.\n",
    "\n",
    "Please, do ask questions and check the documentation for detailed information.\n",
    "\n",
    "To learn more, see the {ref}`Online Courses <online_courses>`."
   ]
  },
  {
   "cell_type": "markdown",
   "id": "b798eb8a-6312-4fb8-a11d-43f856f806b2",
   "metadata": {},
   "source": [
    "```{image} images/unteachable.jpg\n",
    ":height: 300px\n",
    ":name: unteachable.jpg\n",
    "```\n",
    "\n",
    "*[Image source](https://vas3k.com/blog/machine_learning/)*"
   ]
  },
  {
   "cell_type": "code",
   "execution_count": null,
   "id": "a2e0081f-949a-4566-bd2f-0fd0f2a60e78",
   "metadata": {},
   "outputs": [],
   "source": []
  },
  {
   "cell_type": "code",
   "execution_count": null,
   "id": "5f95304f-2e00-4043-809f-1429968825e6",
   "metadata": {},
   "outputs": [],
   "source": []
  },
  {
   "cell_type": "markdown",
   "id": "fc5552df-b2d1-44d3-9462-a8eb112c43bb",
   "metadata": {
    "tags": []
   },
   "source": [
    "## To follow along\n",
    "\n",
    "*Option 1 (recommended) - Run on Google Colab*:  \n",
    "- Click on the Colab button within each Jupyter notebook to run there.  \n",
    "\n",
    "\n",
    "*Option 2 - Run locally*:  \n",
    "\n",
    "a. Clone this GitHub repository:\n",
    "```bash\n",
    "git clone git@github.com:lukeconibear/intro_ml.git\n",
    "cd intro_ml\n",
    "```\n",
    "b. Copy this conda environment:\n",
    "```bash\n",
    "conda env create --file environment.yml\n",
    "conda activate intro_ml\n",
    "\n",
    "# create the kernel for jupyter\n",
    "python -m ipykernel install --user --name intro_ml --display-name \"intro_ml\"\n",
    "```\n",
    "c. Open Jupyter Lab:\n",
    "```bash\n",
    "jupyter lab\n",
    "```"
   ]
  },
  {
   "cell_type": "markdown",
   "id": "15f97946-c4af-44fd-849f-a1e63a815c6d",
   "metadata": {},
   "source": [
    "Lessons have questions and exercises at the end.\n",
    "\n",
    "The solutions (and sometimes hints) to these are all in the {ref}`Solutions <solutions>` page."
   ]
  }
 ],
 "metadata": {
  "interpreter": {
   "hash": "b1ffad78e3b53a26aeabe29bd69865e9fcde2eed64638bf28084d4e5d53534f3"
  },
  "kernelspec": {
   "display_name": "intro_ml",
   "language": "python",
   "name": "intro_ml"
  },
  "language_info": {
   "codemirror_mode": {
    "name": "ipython",
    "version": 3
   },
   "file_extension": ".py",
   "mimetype": "text/x-python",
   "name": "python",
   "nbconvert_exporter": "python",
   "pygments_lexer": "ipython3",
   "version": "3.9.10"
  }
 },
 "nbformat": 4,
 "nbformat_minor": 5
}
