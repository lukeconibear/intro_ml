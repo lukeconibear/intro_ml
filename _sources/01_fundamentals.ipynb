{
 "cells": [
  {
   "cell_type": "markdown",
   "id": "e1f167c0-52a8-4800-9999-0419acc312a8",
   "metadata": {},
   "source": [
    "# Fundamentals"
   ]
  },
  {
   "cell_type": "markdown",
   "id": "a6ae8044-47c9-4c48-b50d-e3dadb441757",
   "metadata": {},
   "source": [
    "[![Open in Colab](https://colab.research.google.com/assets/colab-badge.svg)](https://colab.research.google.com/github/lukeconibear/intro_ml/blob/main/docs/01_fundamentals.ipynb)"
   ]
  },
  {
   "cell_type": "code",
   "execution_count": 1,
   "id": "49aef6fc-d7fe-45a5-9593-f9092ae02ebe",
   "metadata": {},
   "outputs": [],
   "source": [
    "# if you're using colab, then install the required modules\n",
    "import sys\n",
    "IN_COLAB = 'google.colab' in sys.modules\n",
    "if IN_COLAB:\n",
    "    %pip install ..."
   ]
  },
  {
   "cell_type": "markdown",
   "id": "0ecfebff-8f19-4782-abb0-0b404bfa2d33",
   "metadata": {},
   "source": [
    "Machine learning and deep learning are large and growing fields.\n",
    "\n",
    "This course does not attempt to cover them in detail.\n",
    "\n",
    "Instead, this course aims to provide high-level intuitions and practical guidance to get started.\n",
    "\n",
    "To learn more, see the {ref}`Online Courses <online_courses>` below."
   ]
  },
  {
   "cell_type": "markdown",
   "id": "d5e2ed88-bc0e-4ee8-a66e-ec2b09101c6c",
   "metadata": {},
   "source": [
    "## Basic ideas"
   ]
  },
  {
   "cell_type": "markdown",
   "id": "41fac813-143f-438d-a409-71865b75abb6",
   "metadata": {},
   "source": [
    "### Overview\n",
    "\n",
    "Machine learning is a subset of Artificial Intelligence.\n",
    "\n",
    "It is a range of methods that learn associations from data.\n",
    "\n",
    "These can be useful for:\n",
    "\n",
    "- Prediction problems (e.g., pattern recognition).\n",
    "- Problems cannot program (e.g., image recognition).\n",
    "- Faster approximations to problems that can program (e.g., spam classification)."
   ]
  },
  {
   "cell_type": "markdown",
   "id": "cc90656b-a1a9-4b86-bb73-f186f5f170c6",
   "metadata": {},
   "source": [
    "### Methods\n",
    "\n",
    "Within machine learning, there are many different methods.\n",
    "\n",
    "The main methods are:\n",
    "\n",
    "- Classic\n",
    "- Deep learning (i.e., neural networks)\n",
    "- Reinforcement learning\n",
    "- Ensembles\n",
    "\n",
    "We'll focus on classic machine learning and deep learning in this course."
   ]
  },
  {
   "cell_type": "markdown",
   "id": "4877e12d-cefa-4af4-adfb-6aae07e3db3b",
   "metadata": {},
   "source": [
    "### Data\n",
    "\n",
    "Data has inputs and outputs.\n",
    "\n",
    "The inputs are what you provide to the model.\n",
    "\n",
    "The outputs are what you're trying to predict.\n",
    "\n",
    "The data is normally in the form of tensors.\n",
    "\n",
    "Tensors are multi-dimensional arrays e.g., vectors are 1D tensors, matrices are 2D tensors."
   ]
  },
  {
   "cell_type": "markdown",
   "id": "895785bf-2f2e-4ac2-bf73-22e562d566bf",
   "metadata": {},
   "source": [
    "#### Supervised and unsupervised\n",
    "\n",
    "- Supervised learning is when you provide labelled outputs to learn from.\n",
    "- Unsupervised learning when you don't provide any labels.\n",
    "\n",
    "We'll focus on supervised learning in this course."
   ]
  },
  {
   "cell_type": "markdown",
   "id": "3ab95c87-9367-4ceb-a4ba-4b9864f8888d",
   "metadata": {},
   "source": [
    "#### Classification and regression\n",
    "\n",
    "- Classification problems are those that try to predict a category (i.e., cat or dog).\n",
    "- Regression problems are those that try to predict a number (i.e., beans in a jar)."
   ]
  },
  {
   "cell_type": "markdown",
   "id": "bf11f0eb-94cb-480e-b8bc-210e080de6fe",
   "metadata": {},
   "source": [
    "#### Training, validation, and test splits\n",
    "\n",
    "The data is normally split into training, validation, and test sets.\n",
    "\n",
    "- The training set is for training the model.\n",
    "- The validation set (optional) is for iteratively optimising the model during training.\n",
    "- The test set is only for testing the model at the end.\n",
    "    - This should remain untouched and single-use.\n",
    "\n",
    "The size of the split depends on the size of the dataset and the signal you're trying to predict (i.e., the smaller the signal, then the larger the test set needs to be).\n",
    "\n",
    "- For small data sets, a split of 60/20/20 for train/validation/test may be suitable.\n",
    "- For large data sets, a split of 90/5/5 for train/validation/test may be suitable.\n",
    "- For very large data sets, a split of 98/1/1 for train/validation/test may be suitable."
   ]
  },
  {
   "cell_type": "markdown",
   "id": "e22c85c5-47ff-4026-8821-7cbb6655771e",
   "metadata": {},
   "source": []
  },
  {
   "cell_type": "markdown",
   "id": "1575d94e-ed36-4330-94eb-9a398a9c04a4",
   "metadata": {},
   "source": []
  },
  {
   "cell_type": "markdown",
   "id": "1efdc45f-a498-43cd-95fc-c2bc576c4594",
   "metadata": {},
   "source": []
  },
  {
   "cell_type": "markdown",
   "id": "c58f6070-4962-4f3c-9e64-59c163d160bd",
   "metadata": {},
   "source": [
    "### Models\n",
    "\n",
    "..."
   ]
  },
  {
   "cell_type": "markdown",
   "id": "62fa8ea7-c9ed-45b2-8415-86cbe1a0d5af",
   "metadata": {},
   "source": [
    "#### Evaluation\n",
    "\n",
    "..."
   ]
  },
  {
   "cell_type": "markdown",
   "id": "4813f611-078f-4c96-a923-49ff5bba8f49",
   "metadata": {},
   "source": []
  },
  {
   "cell_type": "markdown",
   "id": "7c6906e8-bf84-440d-9a2b-c6f77bc7dc87",
   "metadata": {},
   "source": []
  },
  {
   "cell_type": "markdown",
   "id": "eb5b5ce0-3c5a-4107-8dd0-1376e1e370d9",
   "metadata": {},
   "source": [
    "#### Underfit\n",
    "\n",
    "A model _underfits_ the data when it has _high bias_. \n",
    "\n",
    "This means the model is _too simple_ to capture the association.\n",
    "\n",
    "You can tell that the model underfits because there are _both_ high training errors and high test errors.\n",
    "\n",
    "To reduce this problem, try:\n",
    "\n",
    "- Adding more features.\n",
    "- Adding more complex features.\n",
    "- Decreasing regularisation.\n",
    "\n",
    "More training data is unlikely to help a model that underfits the data."
   ]
  },
  {
   "cell_type": "markdown",
   "id": "3ca47611-8328-44bc-94e9-15681ac361df",
   "metadata": {},
   "source": [
    "#### Overfit\n",
    "\n",
    "A model _overfits_ the data when it has _high variance_. \n",
    "\n",
    "This means the model is _too complex_ to capture the association.\n",
    "\n",
    "You can tell that the model underfits because there are _low_ training errors _but_ high test errors.\n",
    "\n",
    "To reduce this problem, try:\n",
    "\n",
    "- Adding more data.\n",
    "- Using fewer or simpler features.\n",
    "- Increasing regularisation.\n",
    "- A smaller neural network with fewer layers/parameters."
   ]
  },
  {
   "cell_type": "markdown",
   "id": "b6ed1e8c-1ce9-4d06-a64e-2011e7f1b94a",
   "metadata": {},
   "source": []
  },
  {
   "cell_type": "markdown",
   "id": "b0d2689d-08c4-453f-ab8f-0063ca663f07",
   "metadata": {},
   "source": []
  },
  {
   "cell_type": "markdown",
   "id": "61b3607f-db97-4073-9796-7cefc35385f2",
   "metadata": {},
   "source": []
  },
  {
   "cell_type": "markdown",
   "id": "7f30801d-e734-4a8f-95f5-2f9c7b366a14",
   "metadata": {},
   "source": [
    "### Caveats\n",
    "\n",
    "- Predictions are primarily based on associations, not explanations or causation.\n",
    "- Predictions and models are specific to the data they were trained on."
   ]
  },
  {
   "cell_type": "markdown",
   "id": "bde53e83-a618-4b52-9f3c-a5da5de74b59",
   "metadata": {},
   "source": []
  },
  {
   "cell_type": "markdown",
   "id": "66347601-429b-43ea-8b27-7a940bcb7454",
   "metadata": {},
   "source": [
    "- cost function\n",
    "- gradient descent\n",
    "- error analysis"
   ]
  },
  {
   "cell_type": "markdown",
   "id": "3f926b2a-0ea2-45b4-b1de-36e2b22efad9",
   "metadata": {},
   "source": []
  },
  {
   "cell_type": "markdown",
   "id": "da43e999-789b-489f-875b-63c2fdc9cbbb",
   "metadata": {},
   "source": []
  },
  {
   "cell_type": "markdown",
   "id": "7c5690d1-f2ce-4c81-8018-6980b4fe4610",
   "metadata": {},
   "source": [
    "R2 (coefficient of determination) \n",
    "Any value less than 1, as model can be continually awful \n",
    "1 is perfect \n",
    "0 is not more information than just predicting the mean "
   ]
  },
  {
   "cell_type": "code",
   "execution_count": null,
   "id": "6fd2efe6-4e54-48ee-92b3-622bf0a6c811",
   "metadata": {},
   "outputs": [],
   "source": []
  },
  {
   "cell_type": "markdown",
   "id": "12b2895a-ce4d-4b7a-888f-2a9fc447f492",
   "metadata": {},
   "source": [
    "### Deep learning\n",
    "\n",
    "Steps \n",
    "\n",
    "Inputs \n",
    "\n",
    "forward propagate \n",
    "\n",
    "predict outputs \n",
    "\n",
    "compute loss \n",
    "\n",
    "backward propagate \n",
    "\n",
    "gradient descent \n",
    "\n",
    "update weights and biases \n",
    "\n",
    "\n",
    "Scale is driving DL progress \n",
    "\n",
    "Bigger training data (Larger data sets (labelled, m)) \n",
    "\n",
    "Bigger neural networks \n",
    "\n",
    "Now investment and attention drive it forward more "
   ]
  },
  {
   "cell_type": "markdown",
   "id": "ff74847f-c7f9-470b-a38d-2b5598e6b207",
   "metadata": {},
   "source": [
    "Neural networks (NN) \n",
    "\n",
    "Useful for non-linear, with large number of features "
   ]
  },
  {
   "cell_type": "markdown",
   "id": "f21d7cd9-e4b2-453e-abe7-22e3a5bcd4f3",
   "metadata": {},
   "source": [
    "Singular evaluation metric \n",
    "\n",
    "Loss function (error on single training example) \n",
    "\n",
    "Cost function (average of loss functions over whole training set) "
   ]
  },
  {
   "cell_type": "code",
   "execution_count": null,
   "id": "526eea35-122c-46d4-a531-52d371932e61",
   "metadata": {},
   "outputs": [],
   "source": []
  },
  {
   "cell_type": "code",
   "execution_count": null,
   "id": "d29bb6fe-109d-4764-92b2-ecedd3f7c860",
   "metadata": {},
   "outputs": [],
   "source": []
  },
  {
   "cell_type": "code",
   "execution_count": null,
   "id": "e2707c9a-438e-4fc0-8934-c15c26ff4b30",
   "metadata": {},
   "outputs": [],
   "source": []
  },
  {
   "cell_type": "code",
   "execution_count": null,
   "id": "62998c8e-8d6b-465e-ada7-472cf81f308e",
   "metadata": {},
   "outputs": [],
   "source": []
  },
  {
   "cell_type": "markdown",
   "id": "39f6ab59-beef-4250-91c9-e56328a17e00",
   "metadata": {},
   "source": [
    "## Tools"
   ]
  },
  {
   "cell_type": "code",
   "execution_count": null,
   "id": "7e6346be-2d96-4663-b623-c771fb73d698",
   "metadata": {},
   "outputs": [],
   "source": [
    "import numpy as np"
   ]
  },
  {
   "cell_type": "code",
   "execution_count": null,
   "id": "4661781a-c538-4c2f-a535-d94f9b12e705",
   "metadata": {},
   "outputs": [],
   "source": []
  },
  {
   "cell_type": "markdown",
   "id": "a886bccf-b694-47e8-8a46-e4e87b4ca3c5",
   "metadata": {},
   "source": [
    "### [scikit-learn](https://scikit-learn.org/stable/)"
   ]
  },
  {
   "cell_type": "code",
   "execution_count": null,
   "id": "0cf60fa1-a1ec-457b-825a-8d9ef16f59d2",
   "metadata": {},
   "outputs": [],
   "source": []
  },
  {
   "cell_type": "code",
   "execution_count": null,
   "id": "2504041c-e6f1-4555-8a70-4397f224ee7e",
   "metadata": {},
   "outputs": [],
   "source": []
  },
  {
   "cell_type": "code",
   "execution_count": null,
   "id": "1ce02572-5b4b-4d24-bd06-e592f4b608b9",
   "metadata": {},
   "outputs": [],
   "source": []
  },
  {
   "cell_type": "code",
   "execution_count": null,
   "id": "3d308bfe-ff41-473c-8a4f-9c185310c98b",
   "metadata": {},
   "outputs": [],
   "source": []
  },
  {
   "cell_type": "markdown",
   "id": "b26d8959-954b-4335-954f-91100da217b0",
   "metadata": {
    "tags": []
   },
   "source": [
    "### [TensorFlow](https://www.tensorflow.org/)"
   ]
  },
  {
   "cell_type": "code",
   "execution_count": 21,
   "id": "73d9c296-7ada-483e-8018-238c0e187819",
   "metadata": {},
   "outputs": [],
   "source": [
    "import tensorflow as tf"
   ]
  },
  {
   "cell_type": "code",
   "execution_count": 22,
   "id": "b06c7371-0766-4367-b3e0-c563281f89a7",
   "metadata": {},
   "outputs": [
    {
     "name": "stdout",
     "output_type": "stream",
     "text": [
      "Cannot find a GPU\n"
     ]
    }
   ],
   "source": [
    "if tf.config.list_physical_devices('GPU'):\n",
    "    print('Using GPU')\n",
    "else:\n",
    "    print('Cannot find a GPU')"
   ]
  },
  {
   "cell_type": "code",
   "execution_count": 26,
   "id": "d3086bf5-2d57-4039-835e-a69e6d1ddd08",
   "metadata": {},
   "outputs": [],
   "source": [
    "(train_images, train_labels), (test_images, test_labels) = tf.keras.datasets.mnist.load_data()"
   ]
  },
  {
   "cell_type": "code",
   "execution_count": 27,
   "id": "a6a84444-3f21-4cdc-ae61-562a29cd4af8",
   "metadata": {},
   "outputs": [],
   "source": [
    "def preprocess_data(data):\n",
    "    data_reshaped = data.reshape((data.shape[0], data.shape[1] * data.shape[2]))\n",
    "    data_reshaped_normalised = data_reshaped.astype(\"float32\") / 255\n",
    "    return data_reshaped_normalised"
   ]
  },
  {
   "cell_type": "code",
   "execution_count": 28,
   "id": "ba08341f-77df-4a44-a9da-def4a55d5531",
   "metadata": {},
   "outputs": [],
   "source": [
    "train_images = preprocess_data(train_images)\n",
    "test_images = preprocess_data(test_images)"
   ]
  },
  {
   "cell_type": "code",
   "execution_count": 29,
   "id": "8f011921-a2e8-4e55-9d23-43bb545ab5dd",
   "metadata": {},
   "outputs": [],
   "source": [
    "model = tf.keras.Sequential([\n",
    "    tf.keras.layers.Dense(512, activation=\"relu\"),\n",
    "    tf.keras.layers.Dense(10, activation=\"softmax\")\n",
    "])"
   ]
  },
  {
   "cell_type": "code",
   "execution_count": 30,
   "id": "626bbe3c-a8e9-41cb-a31b-64612c51fd6d",
   "metadata": {},
   "outputs": [],
   "source": [
    "model.compile(\n",
    "    optimizer=\"adam\",\n",
    "    loss=\"sparse_categorical_crossentropy\",\n",
    "    metrics=[\"accuracy\"]\n",
    ")"
   ]
  },
  {
   "cell_type": "code",
   "execution_count": 33,
   "id": "94e07edd-d5b0-4521-bafc-4abbc734ba30",
   "metadata": {},
   "outputs": [
    {
     "name": "stdout",
     "output_type": "stream",
     "text": [
      " 62/469 [==>...........................] - ETA: 1s - loss: 0.1219 - accuracy: 0.9657"
     ]
    },
    {
     "name": "stderr",
     "output_type": "stream",
     "text": [
      "2022-03-07 14:14:15.730972: W tensorflow/core/framework/cpu_allocator_impl.cc:82] Allocation of 188160000 exceeds 10% of free system memory.\n"
     ]
    },
    {
     "name": "stdout",
     "output_type": "stream",
     "text": [
      "469/469 [==============================] - 1s 2ms/step - loss: 0.1066 - accuracy: 0.9686\n"
     ]
    }
   ],
   "source": [
    "model.fit(train_images, train_labels, epochs=1, batch_size=128);"
   ]
  },
  {
   "cell_type": "code",
   "execution_count": 34,
   "id": "baccc663-f13c-41b9-bac1-d2b5846503a5",
   "metadata": {},
   "outputs": [
    {
     "name": "stdout",
     "output_type": "stream",
     "text": [
      "313/313 [==============================] - 0s 666us/step - loss: 0.0933 - accuracy: 0.9714\n",
      "test_acc: 0.9714000225067139\n"
     ]
    }
   ],
   "source": [
    "test_loss, test_acc = model.evaluate(test_images, test_labels)\n",
    "print(f\"test_acc: {test_acc}\")"
   ]
  },
  {
   "cell_type": "code",
   "execution_count": null,
   "id": "25f6d0e6-a19f-48c2-b0db-ea5b343b5bc0",
   "metadata": {},
   "outputs": [],
   "source": []
  },
  {
   "cell_type": "code",
   "execution_count": null,
   "id": "2c6f513b-5eec-4df1-bc97-10e22dab1e21",
   "metadata": {},
   "outputs": [],
   "source": []
  },
  {
   "cell_type": "code",
   "execution_count": null,
   "id": "05d772c4-920e-475c-b5fe-366fa9a63f15",
   "metadata": {},
   "outputs": [],
   "source": []
  },
  {
   "cell_type": "code",
   "execution_count": null,
   "id": "b009946f-9a8c-4fc4-80c3-1c01bd4858ee",
   "metadata": {},
   "outputs": [],
   "source": []
  },
  {
   "cell_type": "markdown",
   "id": "ddbdb0fd-b334-4aab-be2d-624d33b03c5d",
   "metadata": {},
   "source": [
    "### [PyTorch](https://pytorch.org/)"
   ]
  },
  {
   "cell_type": "code",
   "execution_count": null,
   "id": "c79b3bb3-46d2-450e-befa-9eb600d28c63",
   "metadata": {},
   "outputs": [],
   "source": []
  },
  {
   "cell_type": "code",
   "execution_count": null,
   "id": "3e0e5ca8-c6f3-44ca-9029-f438dbd31799",
   "metadata": {},
   "outputs": [],
   "source": []
  },
  {
   "cell_type": "markdown",
   "id": "f62bdca6-4191-4cff-a599-b9f938a9f270",
   "metadata": {},
   "source": [
    "repeat above simple example"
   ]
  },
  {
   "cell_type": "markdown",
   "id": "42a7146e-bc2d-4078-b65e-b6b983d588e1",
   "metadata": {
    "tags": []
   },
   "source": [
    "## Exercises"
   ]
  },
  {
   "cell_type": "markdown",
   "id": "af74e521-e75b-4684-a8b3-b01951a40340",
   "metadata": {},
   "source": [
    "```{admonition} Exercise 1\n",
    "\n",
    "...\n",
    "\n",
    "```"
   ]
  },
  {
   "cell_type": "markdown",
   "id": "ebf8af3b-5d9a-4e2c-9bd0-223837749e07",
   "metadata": {},
   "source": [
    "## {ref}`Solutions <fundamentals>`"
   ]
  },
  {
   "cell_type": "markdown",
   "id": "ba85d337-9ea3-4511-ae33-4fb036418318",
   "metadata": {},
   "source": [
    "## Key Points"
   ]
  },
  {
   "cell_type": "markdown",
   "id": "e1de920e-c4c1-4c47-8a80-b7f1ab648754",
   "metadata": {},
   "source": [
    "```{important}\n",
    "\n",
    "- [x] _..._\n",
    "\n",
    "```"
   ]
  },
  {
   "cell_type": "markdown",
   "id": "d73bcbb5-e4c3-4032-b7af-8fd24d9e19e9",
   "metadata": {
    "tags": []
   },
   "source": [
    "## Further information\n",
    "\n",
    "### Good practices\n",
    "\n",
    "- ...\n",
    "\n",
    "### Other options\n",
    "\n",
    "- ...\n",
    " \n",
    "### Resources\n",
    "\n",
    "- [Machine Learning for Everyone](https://vas3k.com/blog/machine_learning/)\n",
    "\n",
    "(online_courses)=\n",
    "### Online courses\n",
    "\n",
    "#### Machine learning\n",
    "\n",
    "- [Machine learning](https://www.coursera.org/learn/machine-learning), Coursera, Andrew Ng.\n",
    "    - CS229, Stanford University: [Video lectures](https://www.youtube.com/playlist?list=PLoROMvodv4rMiGQp3WXShtMGgzqpfVfbU).\n",
    "- [Artificial Intelligence: A Modern Approach, 4th edition](http://aima.cs.berkeley.edu/), Stuart Russell and Peter Norvig, 2021, Pearson.\n",
    "- [Hands-On Machine Learning with Scikit-Learn, Keras, and TensorFlow, 2nd Edition](https://www.oreilly.com/library/view/hands-on-machine-learning/9781492032632/), Aurélien Géron, 2019, O’Reilly Media, Inc.\n",
    "    - [Jupyter notebooks](https://github.com/ageron/handson-ml2).\n",
    "- [Artificial Intelligence: Principles and Techniques](https://www.youtube.com/playlist?list=PLoROMvodv4rO1NB9TD4iUZ3qghGEGtqNX), Percy Liang and Dorsa Sadigh, CS221, Standord, 2019.\n",
    "- [Machine Learning Yearning](https://www.deeplearning.ai/programs/), Andrew Ng.\n",
    "\n",
    "#### Deep learning\n",
    "\n",
    "- [Deep Learning Specialization](https://www.coursera.org/specializations/deep-learning), Coursera, DeepLearning.AI\n",
    "    - CS230, Stanford University: [Video lectures](https://www.youtube.com/playlist?list=PLoROMvodv4rOABXSygHTsbvUz4G_YQhOb), [Syllabus](http://cs230.stanford.edu/syllabus/)\n",
    "- [NYU Deep Learning](https://atcold.github.io/NYU-DLSP21/), Yann LeCun and Alfredo Canziani, NYU, 2021\n",
    "    - [Video lectures](https://www.youtube.com/playlist?list=PLLHTzKZzVU9e6xUfG10TkTWApKSZCzuBI)\n",
    "- [NVIDIA Deep Learning and Data Science with GPUS](https://web.cvent.com/event/5f037a53-5be6-4abf-9b48-dc94e8a8ee3a/summary?rt=QZKIZW0GWUGNA6QZE4e55Aummary)\n",
    "- [Neural Networks for Machine Learning](https://www.youtube.com/playlist?list=PLLssT5z_DsK_gyrQ_biidwvPYCRNGI3iv), Geoffrey Hinton.\n",
    "- [Deep Learning with Python, 2nd Edition](https://www.manning.com/books/deep-learning-with-python-second-edition?a_aid=keras&a_bid=76564dff), François Chollet, 2021, Manning.\n",
    "    - [Jupyter notebooks](https://github.com/fchollet/deep-learning-with-python-notebooks)."
   ]
  },
  {
   "cell_type": "code",
   "execution_count": null,
   "id": "aa22bced-50ff-48cf-868a-8a746e5fcd3e",
   "metadata": {},
   "outputs": [],
   "source": []
  }
 ],
 "metadata": {
  "interpreter": {
   "hash": "b1ffad78e3b53a26aeabe29bd69865e9fcde2eed64638bf28084d4e5d53534f3"
  },
  "kernelspec": {
   "display_name": "intro_ml",
   "language": "python",
   "name": "intro_ml"
  },
  "language_info": {
   "codemirror_mode": {
    "name": "ipython",
    "version": 3
   },
   "file_extension": ".py",
   "mimetype": "text/x-python",
   "name": "python",
   "nbconvert_exporter": "python",
   "pygments_lexer": "ipython3",
   "version": "3.9.10"
  }
 },
 "nbformat": 4,
 "nbformat_minor": 5
}
