{
 "cells": [
  {
   "cell_type": "markdown",
   "id": "e1f167c0-52a8-4800-9999-0419acc312a8",
   "metadata": {},
   "source": [
    "# Fundamentals"
   ]
  },
  {
   "cell_type": "markdown",
   "id": "a6ae8044-47c9-4c48-b50d-e3dadb441757",
   "metadata": {},
   "source": [
    "[![Open in Colab](https://colab.research.google.com/assets/colab-badge.svg)](https://colab.research.google.com/github/lukeconibear/intro_ml/blob/main/docs/01_fundamentals.ipynb)"
   ]
  },
  {
   "cell_type": "code",
   "execution_count": null,
   "id": "49aef6fc-d7fe-45a5-9593-f9092ae02ebe",
   "metadata": {},
   "outputs": [],
   "source": [
    "# if you're using colab, then install the required modules\n",
    "import sys\n",
    "IN_COLAB = 'google.colab' in sys.modules\n",
    "if IN_COLAB:\n",
    "    %pip install ..."
   ]
  },
  {
   "cell_type": "markdown",
   "id": "0ecfebff-8f19-4782-abb0-0b404bfa2d33",
   "metadata": {},
   "source": [
    "Machine learning and deep learning are large and growing fields.\n",
    "\n",
    "This course does not attempt to cover them in detail.\n",
    "\n",
    "Instead, this course aims to provide high-level intuitions and practical guidance to get started.\n",
    "\n",
    "To learn more, see the {ref}`Online Courses <online_courses>` below."
   ]
  },
  {
   "cell_type": "markdown",
   "id": "d5e2ed88-bc0e-4ee8-a66e-ec2b09101c6c",
   "metadata": {},
   "source": [
    "## Basic ideas"
   ]
  },
  {
   "cell_type": "markdown",
   "id": "41fac813-143f-438d-a409-71865b75abb6",
   "metadata": {},
   "source": [
    "### Overview\n",
    "\n",
    "Machine learning is a subset of Artificial Intelligence.\n",
    "\n",
    "It is a range of methods that learn associations from data.\n",
    "\n",
    "These can be useful for:\n",
    "\n",
    "- Prediction problems (e.g., pattern recognition).\n",
    "- Problems cannot program (e.g., image recognition).\n",
    "- Faster approximations to problems that can program (e.g., spam classification)."
   ]
  },
  {
   "cell_type": "markdown",
   "id": "cc90656b-a1a9-4b86-bb73-f186f5f170c6",
   "metadata": {},
   "source": [
    "### Methods\n",
    "\n",
    "Within machine learning, there are many different methods.\n",
    "\n",
    "The main methods are:\n",
    "\n",
    "- Classic\n",
    "    - Simple data, clear features.\n",
    "- Deep learning (neural networks)\n",
    "    - Compilcated data, unclear features.\n",
    "- Reinforcement learning\n",
    "    - No data, interact with environment.\n",
    "- Ensembles\n",
    "    - Poor quality data.\n",
    "\n",
    "We'll focus on _classic machine learning_ and _deep learning_ in this course."
   ]
  },
  {
   "cell_type": "markdown",
   "id": "4877e12d-cefa-4af4-adfb-6aae07e3db3b",
   "metadata": {},
   "source": [
    "### Classic Machine Learning\n",
    "\n",
    "...\n",
    "\n",
    "Fit a line to the data."
   ]
  },
  {
   "cell_type": "markdown",
   "id": "895785bf-2f2e-4ac2-bf73-22e562d566bf",
   "metadata": {},
   "source": [
    "### Deep Learning\n",
    "\n",
    "Deep means more layers."
   ]
  },
  {
   "cell_type": "markdown",
   "id": "3ab95c87-9367-4ceb-a4ba-4b9864f8888d",
   "metadata": {},
   "source": []
  },
  {
   "cell_type": "markdown",
   "id": "bf11f0eb-94cb-480e-b8bc-210e080de6fe",
   "metadata": {},
   "source": []
  },
  {
   "cell_type": "markdown",
   "id": "e22c85c5-47ff-4026-8821-7cbb6655771e",
   "metadata": {},
   "source": []
  },
  {
   "cell_type": "markdown",
   "id": "1575d94e-ed36-4330-94eb-9a398a9c04a4",
   "metadata": {},
   "source": []
  },
  {
   "cell_type": "markdown",
   "id": "1efdc45f-a498-43cd-95fc-c2bc576c4594",
   "metadata": {},
   "source": []
  },
  {
   "cell_type": "markdown",
   "id": "62fa8ea7-c9ed-45b2-8415-86cbe1a0d5af",
   "metadata": {},
   "source": []
  },
  {
   "cell_type": "markdown",
   "id": "4813f611-078f-4c96-a923-49ff5bba8f49",
   "metadata": {},
   "source": []
  },
  {
   "cell_type": "markdown",
   "id": "7c6906e8-bf84-440d-9a2b-c6f77bc7dc87",
   "metadata": {},
   "source": []
  },
  {
   "cell_type": "markdown",
   "id": "eb5b5ce0-3c5a-4107-8dd0-1376e1e370d9",
   "metadata": {},
   "source": []
  },
  {
   "cell_type": "markdown",
   "id": "3ca47611-8328-44bc-94e9-15681ac361df",
   "metadata": {},
   "source": []
  },
  {
   "cell_type": "markdown",
   "id": "b6ed1e8c-1ce9-4d06-a64e-2011e7f1b94a",
   "metadata": {},
   "source": []
  },
  {
   "cell_type": "markdown",
   "id": "b0d2689d-08c4-453f-ab8f-0063ca663f07",
   "metadata": {},
   "source": []
  },
  {
   "cell_type": "markdown",
   "id": "61b3607f-db97-4073-9796-7cefc35385f2",
   "metadata": {},
   "source": []
  },
  {
   "cell_type": "markdown",
   "id": "7f30801d-e734-4a8f-95f5-2f9c7b366a14",
   "metadata": {},
   "source": [
    "### Caveats\n",
    "\n",
    "- Predictions are primarily based on associations, not explanations or causation.\n",
    "- Predictions and models are specific to the data they were trained on."
   ]
  },
  {
   "cell_type": "markdown",
   "id": "bde53e83-a618-4b52-9f3c-a5da5de74b59",
   "metadata": {},
   "source": []
  },
  {
   "cell_type": "markdown",
   "id": "66347601-429b-43ea-8b27-7a940bcb7454",
   "metadata": {},
   "source": [
    "- cost function\n",
    "- gradient descent\n",
    "- error analysis"
   ]
  },
  {
   "cell_type": "markdown",
   "id": "3f926b2a-0ea2-45b4-b1de-36e2b22efad9",
   "metadata": {},
   "source": []
  },
  {
   "cell_type": "markdown",
   "id": "da43e999-789b-489f-875b-63c2fdc9cbbb",
   "metadata": {},
   "source": []
  },
  {
   "cell_type": "markdown",
   "id": "7c5690d1-f2ce-4c81-8018-6980b4fe4610",
   "metadata": {},
   "source": [
    "R2 (coefficient of determination) \n",
    "Any value less than 1, as model can be continually awful \n",
    "1 is perfect \n",
    "0 is not more information than just predicting the mean "
   ]
  },
  {
   "cell_type": "code",
   "execution_count": null,
   "id": "6fd2efe6-4e54-48ee-92b3-622bf0a6c811",
   "metadata": {},
   "outputs": [],
   "source": []
  },
  {
   "cell_type": "markdown",
   "id": "12b2895a-ce4d-4b7a-888f-2a9fc447f492",
   "metadata": {},
   "source": [
    "### Deep learning\n",
    "\n",
    "Steps \n",
    "\n",
    "Inputs \n",
    "\n",
    "forward propagate \n",
    "\n",
    "predict outputs \n",
    "\n",
    "compute loss \n",
    "\n",
    "backward propagate \n",
    "\n",
    "gradient descent \n",
    "\n",
    "update weights and biases \n",
    "\n",
    "\n",
    "Scale is driving DL progress \n",
    "\n",
    "Bigger training data (Larger data sets (labelled, m)) \n",
    "\n",
    "Bigger neural networks \n",
    "\n",
    "Now investment and attention drive it forward more "
   ]
  },
  {
   "cell_type": "markdown",
   "id": "ff74847f-c7f9-470b-a38d-2b5598e6b207",
   "metadata": {},
   "source": [
    "Neural networks (NN) \n",
    "\n",
    "Useful for non-linear, with large number of features "
   ]
  },
  {
   "cell_type": "markdown",
   "id": "f21d7cd9-e4b2-453e-abe7-22e3a5bcd4f3",
   "metadata": {},
   "source": [
    "Singular evaluation metric \n",
    "\n",
    "Loss function (error on single training example) \n",
    "\n",
    "Cost function (average of loss functions over whole training set) "
   ]
  },
  {
   "cell_type": "code",
   "execution_count": null,
   "id": "526eea35-122c-46d4-a531-52d371932e61",
   "metadata": {},
   "outputs": [],
   "source": []
  },
  {
   "cell_type": "code",
   "execution_count": null,
   "id": "d29bb6fe-109d-4764-92b2-ecedd3f7c860",
   "metadata": {},
   "outputs": [],
   "source": []
  },
  {
   "cell_type": "code",
   "execution_count": null,
   "id": "e2707c9a-438e-4fc0-8934-c15c26ff4b30",
   "metadata": {},
   "outputs": [],
   "source": []
  },
  {
   "cell_type": "code",
   "execution_count": null,
   "id": "62998c8e-8d6b-465e-ada7-472cf81f308e",
   "metadata": {},
   "outputs": [],
   "source": []
  },
  {
   "cell_type": "markdown",
   "id": "39f6ab59-beef-4250-91c9-e56328a17e00",
   "metadata": {},
   "source": [
    "## Tools"
   ]
  },
  {
   "cell_type": "markdown",
   "id": "5442514c-57d4-4923-896d-8edbb4b5d08e",
   "metadata": {},
   "source": [
    "### [scikit-learn](https://scikit-learn.org/stable/)\n",
    "\n",
    "Scikit-learn has a wide range of simple and efficient machine learning tools.  \n",
    "\n",
    "There are ones for:\n",
    "\n",
    "- [Regression](https://scikit-learn.org/stable/supervised_learning.html#supervised-learning) ([examples](https://scikit-learn.org/stable/auto_examples/index.html#examples))\n",
    "- [Classification](https://scikit-learn.org/stable/supervised_learning.html#supervised-learning) ([examples](https://scikit-learn.org/stable/auto_examples/index.html#classification))\n",
    "- [Clustering](https://scikit-learn.org/stable/modules/clustering.html#clustering) ([examples](https://scikit-learn.org/stable/auto_examples/index.html#cluster-examples))\n",
    "- And [many more](https://scikit-learn.org/stable/index.html#)."
   ]
  },
  {
   "cell_type": "markdown",
   "id": "d732b640-656f-4dff-a83a-173b4cbadc0f",
   "metadata": {},
   "source": [
    "### [TensorFlow](https://www.tensorflow.org/)\n",
    "\n",
    "...\n",
    "\n",
    "TensorFlow has a higher-level API (Application Programming Interface) called [Keras](https://keras.io/).\n",
    "\n",
    "This user-friendly option abstracts away some complexity, so you can focus on your problem.\n",
    "\n",
    "You can always go to the lower-level API if you want or need to."
   ]
  },
  {
   "cell_type": "markdown",
   "id": "bd0ddf0c-8937-43a6-b087-194aa4de3520",
   "metadata": {},
   "source": [
    "### [PyTorch](https://pytorch.org/)\n",
    "\n",
    "Similar to Keras for TensorFlow, [fastai](https://docs.fast.ai/) is a high-level API for PyTorch.\n",
    "\n"
   ]
  },
  {
   "cell_type": "code",
   "execution_count": null,
   "id": "815f1420-3d1e-4efe-8e9d-fe2c1f04f33b",
   "metadata": {},
   "outputs": [],
   "source": []
  },
  {
   "cell_type": "markdown",
   "id": "f2520e93-94c5-41cf-965c-a733af9e2c7c",
   "metadata": {},
   "source": []
  },
  {
   "cell_type": "code",
   "execution_count": 119,
   "id": "7e6346be-2d96-4663-b623-c771fb73d698",
   "metadata": {},
   "outputs": [],
   "source": [
    "import numpy as np\n",
    "import matplotlib.pyplot as plt\n",
    "import matplotlib.gridspec as gridspec"
   ]
  },
  {
   "cell_type": "code",
   "execution_count": null,
   "id": "4661781a-c538-4c2f-a535-d94f9b12e705",
   "metadata": {},
   "outputs": [],
   "source": []
  },
  {
   "cell_type": "markdown",
   "id": "a886bccf-b694-47e8-8a46-e4e87b4ca3c5",
   "metadata": {
    "tags": []
   },
   "source": [
    "\n",
    "\n",
    "For example, let's use [linear regression](https://scikit-learn.org/stable/modules/linear_model.html#ordinary-least-squares) (i.e., fit a straight line to data):"
   ]
  },
  {
   "cell_type": "markdown",
   "id": "12f3b5c7-f520-49db-94f9-6056d8132131",
   "metadata": {},
   "source": [
    "## Example - Linear regression\n",
    "\n",
    "Let's start with a simple example fitting a straight line to data.\n",
    "\n",
    "We'll see how this in done in each of three key tools we cover here: scikit-learn, TensorFlow, and PyTorch.\n",
    "\n",
    "Let's create some (noisy) data to train on:"
   ]
  },
  {
   "cell_type": "code",
   "execution_count": 100,
   "id": "52fd737f-57a5-4387-9f24-2b8a9833e620",
   "metadata": {},
   "outputs": [],
   "source": [
    "def create_noisy_linear_data(num_points):\n",
    "    x = np.arange(num_points)\n",
    "    noise = np.random.normal(0, 1, num_points)\n",
    "    y = 2 * x + noise\n",
    "    # convert to 2D arrays\n",
    "    x, y = x.reshape(-1, 1), y.reshape(-1, 1)\n",
    "    return x, y"
   ]
  },
  {
   "cell_type": "code",
   "execution_count": 101,
   "id": "b6009ddc-563d-4c4f-8e26-453dd2794d7f",
   "metadata": {},
   "outputs": [],
   "source": [
    "x_train, y_train = create_noisy_linear_data(10)"
   ]
  },
  {
   "cell_type": "markdown",
   "id": "a57cf489-406c-4283-bba1-3daf9febaf41",
   "metadata": {},
   "source": [
    "```{caution} \n",
    "\n",
    "Input arrays to models needs to be 2 dimensional (2D) i.e., a column of rows.\n",
    "\n",
    "For example, instead of one row:\n",
    "\n",
    "`>>> np.arange(10)`  \n",
    "`array([0, 1, 2, 3, 4, 5, 6, 7, 8, 9])`  \n",
    "\n",
    "Convert this to a column of rows using `.reshape(-1, 1)`:  \n",
    "\n",
    "`>>> np.arange(10).reshape(-1, 1)`  \n",
    "`array([[0],`  \n",
    "`       [1],`  \n",
    "`       [2],`  \n",
    "`       [3],`  \n",
    "`       [4],`  \n",
    "`       [5],`  \n",
    "`       [6],`  \n",
    "`       [7],`  \n",
    "`       [8],`  \n",
    "`       [9]])`  \n",
    "\n",
    "```"
   ]
  },
  {
   "cell_type": "markdown",
   "id": "1cb4da99-a120-4a3d-8b48-1c79042662f7",
   "metadata": {},
   "source": [
    "First, let's try with **scikit-learn**:"
   ]
  },
  {
   "cell_type": "code",
   "execution_count": 103,
   "id": "c4f3cce2-5397-4a8f-8a57-0998dd883595",
   "metadata": {},
   "outputs": [],
   "source": [
    "from sklearn import linear_model"
   ]
  },
  {
   "cell_type": "code",
   "execution_count": 104,
   "id": "2b0d9bd8-647e-48ca-b008-9fe731bcad95",
   "metadata": {},
   "outputs": [],
   "source": [
    "model_sklearn = linear_model.LinearRegression()"
   ]
  },
  {
   "cell_type": "code",
   "execution_count": 105,
   "id": "9bc66adf-083e-4756-8658-2525a5da3736",
   "metadata": {},
   "outputs": [
    {
     "data": {
      "text/plain": [
       "LinearRegression()"
      ]
     },
     "execution_count": 105,
     "metadata": {},
     "output_type": "execute_result"
    }
   ],
   "source": [
    "model_sklearn.fit(x_train, y_train)"
   ]
  },
  {
   "cell_type": "markdown",
   "id": "24abb76f-86c2-41ca-85f9-1252c2865af9",
   "metadata": {},
   "source": [
    "Now, for **TensorFlow**:"
   ]
  },
  {
   "cell_type": "code",
   "execution_count": 106,
   "id": "ee28b86a-b5f7-4633-8ce0-3b727a305ef0",
   "metadata": {},
   "outputs": [],
   "source": [
    "import tensorflow as tf"
   ]
  },
  {
   "cell_type": "code",
   "execution_count": 107,
   "id": "db868b2c-1210-465f-8ad7-5250cba5912a",
   "metadata": {},
   "outputs": [],
   "source": [
    "model_tf = tf.keras.Sequential([\n",
    "    tf.keras.layers.Dense(units=1, input_shape=[1]),\n",
    "])"
   ]
  },
  {
   "cell_type": "code",
   "execution_count": 108,
   "id": "567e416f-5a3b-4d8e-87e0-63cd2dd72374",
   "metadata": {},
   "outputs": [],
   "source": [
    "model_tf.compile(\n",
    "    optimizer=\"sgd\",\n",
    "    loss=\"mean_squared_error\",\n",
    "    metrics=[\"accuracy\"]\n",
    ")"
   ]
  },
  {
   "cell_type": "code",
   "execution_count": 109,
   "id": "c334c6ea-749c-487a-93eb-33c41ab83360",
   "metadata": {},
   "outputs": [
    {
     "data": {
      "text/plain": [
       "<keras.callbacks.History at 0x7f29fb67ac40>"
      ]
     },
     "execution_count": 109,
     "metadata": {},
     "output_type": "execute_result"
    }
   ],
   "source": [
    "model_tf.fit(x_train, y_train, epochs=500, verbose=False)"
   ]
  },
  {
   "cell_type": "markdown",
   "id": "da95dcef-f0cc-4fec-b422-5b1b046a7e9b",
   "metadata": {},
   "source": [
    "And finally, for **PyTorch**:"
   ]
  },
  {
   "cell_type": "code",
   "execution_count": 110,
   "id": "dc32c1e5-5feb-48f8-898f-e3005f75e68d",
   "metadata": {},
   "outputs": [],
   "source": [
    "import torch"
   ]
  },
  {
   "cell_type": "code",
   "execution_count": 130,
   "id": "06ee2730-f7a0-4f2e-8dd0-acd08035b8c0",
   "metadata": {},
   "outputs": [],
   "source": [
    "model_torch = torch.nn.Sequential(\n",
    "    torch.nn.Linear(in_features=1, out_features=1)\n",
    ")"
   ]
  },
  {
   "cell_type": "code",
   "execution_count": null,
   "id": "b3a02124-00bc-4511-b6a9-5fa704f6381b",
   "metadata": {},
   "outputs": [],
   "source": []
  },
  {
   "cell_type": "code",
   "execution_count": null,
   "id": "f841bae0-6f94-44b3-b15b-c9f4af8485b6",
   "metadata": {},
   "outputs": [],
   "source": []
  },
  {
   "cell_type": "code",
   "execution_count": null,
   "id": "bbd8c632-97df-4c07-9df4-ba9b4a296b15",
   "metadata": {},
   "outputs": [],
   "source": []
  },
  {
   "cell_type": "markdown",
   "id": "5d1f8d7a-f9eb-49f3-9bf0-dd33ba6d497c",
   "metadata": {},
   "source": [
    "Now, we can see how well these models fit a line to the data:"
   ]
  },
  {
   "cell_type": "code",
   "execution_count": 112,
   "id": "677cca24-c4b4-4c40-8e67-328984c085b9",
   "metadata": {},
   "outputs": [],
   "source": [
    "y_pred_sklearn = model_sklearn.predict(x_train)"
   ]
  },
  {
   "cell_type": "code",
   "execution_count": 116,
   "id": "3b97e974-9aee-459e-9a02-4e4f6decc398",
   "metadata": {},
   "outputs": [],
   "source": [
    "y_pred_tf = model_tf.predict(x_train)"
   ]
  },
  {
   "cell_type": "code",
   "execution_count": null,
   "id": "fe5d1d4f-d151-4f0c-bb0f-461e5bbb0001",
   "metadata": {},
   "outputs": [],
   "source": []
  },
  {
   "cell_type": "code",
   "execution_count": 128,
   "id": "66c8b976-b330-4e80-ab28-c44949a47a9f",
   "metadata": {},
   "outputs": [
    {
     "data": {
      "image/png": "[encoded data removed]",
      "text/plain": [
       "<Figure size 864x288 with 3 Axes>"
      ]
     },
     "metadata": {
      "needs_background": "light"
     },
     "output_type": "display_data"
    }
   ],
   "source": [
    "fig = plt.figure(1, figsize=(12, 4))\n",
    "ax1, ax2, ax3 = fig.subplots(1, 3)\n",
    "\n",
    "ax1.scatter(x_train, y_train, color=\"#1b9e77\", label='data')\n",
    "ax1.plot(x_train, y_pred_sklearn, color=\"#d95f02\", linewidth=3)\n",
    "ax1.set_title('scikit-learn model')\n",
    "\n",
    "ax2.scatter(x_train, y_train, color=\"#1b9e77\", label='data')\n",
    "ax2.plot(x_train, y_pred_tf, color=\"#7570b3\", linewidth=3)\n",
    "ax2.set_title('TensorFlow model')\n",
    "\n",
    "# ax3.scatter(x_train, y_train, color=\"#1b9e77\", label='data')\n",
    "# ax3.plot(x_train, y_pred_torch, color=\"#66a61e\", linewidth=3)\n",
    "# ax3.set_title('scikit-learn model')\n",
    "\n",
    "plt.show()"
   ]
  },
  {
   "cell_type": "code",
   "execution_count": null,
   "id": "ee5328f1-773e-4f05-8633-df3b179d9d8c",
   "metadata": {},
   "outputs": [],
   "source": []
  },
  {
   "cell_type": "code",
   "execution_count": null,
   "id": "7e37c38f-136d-4ebe-a04b-f387896c5dc5",
   "metadata": {},
   "outputs": [],
   "source": []
  },
  {
   "cell_type": "code",
   "execution_count": null,
   "id": "4c459202-e3bc-453a-acec-1b89d3cde900",
   "metadata": {},
   "outputs": [],
   "source": []
  },
  {
   "cell_type": "code",
   "execution_count": null,
   "id": "2504041c-e6f1-4555-8a70-4397f224ee7e",
   "metadata": {},
   "outputs": [],
   "source": []
  },
  {
   "cell_type": "code",
   "execution_count": null,
   "id": "1ce02572-5b4b-4d24-bd06-e592f4b608b9",
   "metadata": {},
   "outputs": [],
   "source": []
  },
  {
   "cell_type": "code",
   "execution_count": null,
   "id": "3d308bfe-ff41-473c-8a4f-9c185310c98b",
   "metadata": {},
   "outputs": [],
   "source": []
  },
  {
   "cell_type": "code",
   "execution_count": null,
   "id": "b7866281-7779-4b92-bf03-ca65647a62e6",
   "metadata": {},
   "outputs": [],
   "source": []
  },
  {
   "cell_type": "code",
   "execution_count": null,
   "id": "7e345b2f-a58f-4d4f-accb-bd90571dae49",
   "metadata": {},
   "outputs": [],
   "source": []
  },
  {
   "cell_type": "markdown",
   "id": "a244e268-847e-462b-9215-c39d1f967e8e",
   "metadata": {},
   "source": [
    "Load and split the data:"
   ]
  },
  {
   "cell_type": "code",
   "execution_count": null,
   "id": "d3086bf5-2d57-4039-835e-a69e6d1ddd08",
   "metadata": {},
   "outputs": [],
   "source": [
    "(train_images, train_labels), (test_images, test_labels) = tf.keras.datasets.mnist.load_data()"
   ]
  },
  {
   "cell_type": "markdown",
   "id": "7ab06ce2-cba5-4ba8-9cdb-1a11565bd43c",
   "metadata": {},
   "source": [
    "Take a look at one of the digits:"
   ]
  },
  {
   "cell_type": "code",
   "execution_count": null,
   "id": "ad525ee9-9da9-48c7-9956-b949ab212246",
   "metadata": {},
   "outputs": [],
   "source": [
    "import matplotlib.pyplot as plt"
   ]
  },
  {
   "cell_type": "code",
   "execution_count": null,
   "id": "cbaad720-63f2-47e5-9476-9cf865d5e515",
   "metadata": {},
   "outputs": [],
   "source": [
    "plt.imshow(train_images[0], cmap=plt.cm.binary);"
   ]
  },
  {
   "cell_type": "markdown",
   "id": "f640b7bf-ae9f-40d9-8506-6929dd9016c5",
   "metadata": {},
   "source": [
    "Preprocess the data:"
   ]
  },
  {
   "cell_type": "code",
   "execution_count": null,
   "id": "a6a84444-3f21-4cdc-ae61-562a29cd4af8",
   "metadata": {},
   "outputs": [],
   "source": [
    "def preprocess_data(data):\n",
    "    data_reshaped = data.reshape((data.shape[0], data.shape[1] * data.shape[2]))\n",
    "    data_reshaped_normalised = data_reshaped.astype(\"float32\") / 255\n",
    "    return data_reshaped_normalised"
   ]
  },
  {
   "cell_type": "code",
   "execution_count": null,
   "id": "ba08341f-77df-4a44-a9da-def4a55d5531",
   "metadata": {},
   "outputs": [],
   "source": [
    "train_images = preprocess_data(train_images)\n",
    "test_images = preprocess_data(test_images)"
   ]
  },
  {
   "cell_type": "markdown",
   "id": "0e4240e6-e735-40c3-acde-b9243ce84e16",
   "metadata": {},
   "source": [
    "Setup the model:"
   ]
  },
  {
   "cell_type": "code",
   "execution_count": null,
   "id": "8f011921-a2e8-4e55-9d23-43bb545ab5dd",
   "metadata": {},
   "outputs": [],
   "source": [
    "model = tf.keras.Sequential([\n",
    "    tf.keras.layers.Dense(512, activation=\"relu\"),\n",
    "    tf.keras.layers.Dense(10, activation=\"softmax\")\n",
    "])"
   ]
  },
  {
   "cell_type": "markdown",
   "id": "16066285-560f-4a97-81fe-8fc406763b6f",
   "metadata": {},
   "source": [
    "Compile the model:"
   ]
  },
  {
   "cell_type": "code",
   "execution_count": null,
   "id": "626bbe3c-a8e9-41cb-a31b-64612c51fd6d",
   "metadata": {},
   "outputs": [],
   "source": [
    "model.compile(\n",
    "    optimizer=\"adam\",\n",
    "    loss=\"sparse_categorical_crossentropy\",\n",
    "    metrics=[\"accuracy\"]\n",
    ")"
   ]
  },
  {
   "cell_type": "markdown",
   "id": "1e7c0668-dd78-4d12-aae1-0c213a118868",
   "metadata": {},
   "source": [
    "Fit the model to the training data:"
   ]
  },
  {
   "cell_type": "code",
   "execution_count": null,
   "id": "94e07edd-d5b0-4521-bafc-4abbc734ba30",
   "metadata": {},
   "outputs": [],
   "source": [
    "model.fit(train_images, train_labels, epochs=1, batch_size=128);"
   ]
  },
  {
   "cell_type": "markdown",
   "id": "1666ae16-eefa-4f17-99ac-526ce230a165",
   "metadata": {},
   "source": [
    "Evaluate the model:"
   ]
  },
  {
   "cell_type": "code",
   "execution_count": null,
   "id": "baccc663-f13c-41b9-bac1-d2b5846503a5",
   "metadata": {},
   "outputs": [],
   "source": [
    "test_loss, test_acc = model.evaluate(test_images, test_labels)\n",
    "print(f\"Test accuracy (R$^2$): {test_acc}\")"
   ]
  },
  {
   "cell_type": "markdown",
   "id": "cc31481e-bb0e-477f-9dc7-9a166a9e203d",
   "metadata": {},
   "source": [
    "Use the model for predictions with [`model.predict()`](https://www.tensorflow.org/api_docs/python/tf/keras/Model#predict) (i.e., inference)."
   ]
  },
  {
   "cell_type": "markdown",
   "id": "ddbdb0fd-b334-4aab-be2d-624d33b03c5d",
   "metadata": {},
   "source": []
  },
  {
   "cell_type": "code",
   "execution_count": null,
   "id": "e83bac58-5e5e-4205-9808-10747490bc92",
   "metadata": {},
   "outputs": [],
   "source": [
    "import torch"
   ]
  },
  {
   "cell_type": "markdown",
   "id": "b92544e2-4445-4517-b318-cd2599803fb3",
   "metadata": {},
   "source": [
    "Check whether you have a GPU:"
   ]
  },
  {
   "cell_type": "code",
   "execution_count": null,
   "id": "c79b3bb3-46d2-450e-befa-9eb600d28c63",
   "metadata": {},
   "outputs": [],
   "source": [
    "if torch.cuda.is_available():\n",
    "    print(f'Yes, there are {torch.cuda.device_count()} GPUs available.')\n",
    "else:\n",
    "    print('No, GPUs are not available.')"
   ]
  },
  {
   "cell_type": "code",
   "execution_count": null,
   "id": "3e0e5ca8-c6f3-44ca-9029-f438dbd31799",
   "metadata": {},
   "outputs": [],
   "source": []
  },
  {
   "cell_type": "code",
   "execution_count": null,
   "id": "d43ee12a-fbba-4028-9761-69ad2fde7629",
   "metadata": {},
   "outputs": [],
   "source": []
  },
  {
   "cell_type": "code",
   "execution_count": null,
   "id": "b3df94d9-7b07-43ea-b458-6b6bae27bc0e",
   "metadata": {},
   "outputs": [],
   "source": []
  },
  {
   "cell_type": "code",
   "execution_count": null,
   "id": "e7ddff18-5abb-4af8-b7d8-c5dee7ceea21",
   "metadata": {},
   "outputs": [],
   "source": []
  },
  {
   "cell_type": "code",
   "execution_count": null,
   "id": "d5a9df3f-3822-44d2-a216-3c893c8fa2dc",
   "metadata": {},
   "outputs": [],
   "source": []
  },
  {
   "cell_type": "code",
   "execution_count": null,
   "id": "c663ca35-40a0-4cb0-aec0-1e36b70883af",
   "metadata": {},
   "outputs": [],
   "source": []
  },
  {
   "cell_type": "markdown",
   "id": "42a7146e-bc2d-4078-b65e-b6b983d588e1",
   "metadata": {
    "tags": []
   },
   "source": [
    "## Exercises"
   ]
  },
  {
   "cell_type": "markdown",
   "id": "af74e521-e75b-4684-a8b3-b01951a40340",
   "metadata": {},
   "source": [
    "```{admonition} Exercise 1\n",
    "\n",
    "...\n",
    "\n",
    "```"
   ]
  },
  {
   "cell_type": "markdown",
   "id": "ebf8af3b-5d9a-4e2c-9bd0-223837749e07",
   "metadata": {},
   "source": [
    "## {ref}`Solutions <fundamentals>`"
   ]
  },
  {
   "cell_type": "markdown",
   "id": "ba85d337-9ea3-4511-ae33-4fb036418318",
   "metadata": {},
   "source": [
    "## Key Points"
   ]
  },
  {
   "cell_type": "markdown",
   "id": "e1de920e-c4c1-4c47-8a80-b7f1ab648754",
   "metadata": {},
   "source": [
    "```{important}\n",
    "\n",
    "- [x] _..._\n",
    "\n",
    "```"
   ]
  },
  {
   "cell_type": "markdown",
   "id": "d73bcbb5-e4c3-4032-b7af-8fd24d9e19e9",
   "metadata": {
    "tags": []
   },
   "source": [
    "## Further information\n",
    "\n",
    "### Good practices\n",
    "\n",
    "- ...\n",
    "\n",
    "### Other options\n",
    "\n",
    "- ...\n",
    " \n",
    "### Resources\n",
    "\n",
    "- [Hands-On Machine Learning with Scikit-Learn, Keras, and TensorFlow, 2nd Edition](https://www.oreilly.com/library/view/hands-on-machine-learning/9781492032632/), Aurélien Géron, 2019, O’Reilly Media, Inc.  \n",
    "    - [Jupyter notebooks](https://github.com/ageron/handson-ml2).  \n",
    "- [Deep Learning with Python, 2nd Edition](https://www.manning.com/books/deep-learning-with-python-second-edition?a_aid=keras&a_bid=76564dff), François Chollet, 2021, Manning.  \n",
    "    - [Jupyter notebooks](https://github.com/fchollet/deep-learning-with-python-notebooks).  \n",
    "- [Artificial Intelligence: A Modern Approach, 4th edition](http://aima.cs.berkeley.edu/), Stuart Russell and Peter Norvig, 2021, Pearson.  \n",
    "- [Machine Learning Yearning](https://www.deeplearning.ai/programs/), Andrew Ng.  \n",
    "- [Machine Learning for Everyone](https://vas3k.com/blog/machine_learning/).   \n",
    "\n",
    "(online_courses)=\n",
    "### Online courses\n",
    "\n",
    "#### Machine learning\n",
    "\n",
    "- [Machine learning](https://www.coursera.org/learn/machine-learning), Coursera, Andrew Ng.\n",
    "    - CS229, Stanford University: [Video lectures](https://www.youtube.com/playlist?list=PLoROMvodv4rMiGQp3WXShtMGgzqpfVfbU).  \n",
    "- [Artificial Intelligence: Principles and Techniques](https://www.youtube.com/playlist?list=PLoROMvodv4rO1NB9TD4iUZ3qghGEGtqNX), Percy Liang and Dorsa Sadigh, CS221, Standord, 2019.  \n",
    "\n",
    "\n",
    "#### Deep learning\n",
    "\n",
    "- [Deep Learning Specialization](https://www.coursera.org/specializations/deep-learning), Coursera, DeepLearning.AI (_NumPy and TensorFlow_)\n",
    "    - CS230, Stanford University: [Video lectures](https://www.youtube.com/playlist?list=PLoROMvodv4rOABXSygHTsbvUz4G_YQhOb), [Syllabus](http://cs230.stanford.edu/syllabus/)\n",
    "- [NYU Deep Learning](https://atcold.github.io/NYU-DLSP21/), Yann LeCun and Alfredo Canziani, NYU, 2021 (_PyTorch_)\n",
    "    - [Video lectures](https://www.youtube.com/playlist?list=PLLHTzKZzVU9e6xUfG10TkTWApKSZCzuBI)  \n",
    "- [Practical Deep Learning for Coders](https://course.fast.ai/), Jeremy Howard and Sylvain Gugger, 2020. (_PyTorch_)  \n",
    "    - [Video lectures](https://www.youtube.com/playlist?list=PLfYUBJiXbdtRL3FMB3GoWHRI8ieU6FhfM)\n",
    "- [NVIDIA Deep Learning and Data Science with GPUs](https://web.cvent.com/event/5f037a53-5be6-4abf-9b48-dc94e8a8ee3a/summary?rt=QZKIZW0GWUGNA6QZE4e55Aummary)\n",
    "- [Neural Networks for Machine Learning](https://www.youtube.com/playlist?list=PLLssT5z_DsK_gyrQ_biidwvPYCRNGI3iv), Geoffrey Hinton.\n",
    "\n",
    "    \n",
    "    \n"
   ]
  },
  {
   "cell_type": "code",
   "execution_count": null,
   "id": "3958595d-46c6-4504-8524-f0acb0a2c497",
   "metadata": {},
   "outputs": [],
   "source": []
  }
 ],
 "metadata": {
  "interpreter": {
   "hash": "b1ffad78e3b53a26aeabe29bd69865e9fcde2eed64638bf28084d4e5d53534f3"
  },
  "kernelspec": {
   "display_name": "intro_ml",
   "language": "python",
   "name": "intro_ml"
  },
  "language_info": {
   "codemirror_mode": {
    "name": "ipython",
    "version": 3
   },
   "file_extension": ".py",
   "mimetype": "text/x-python",
   "name": "python",
   "nbconvert_exporter": "python",
   "pygments_lexer": "ipython3",
   "version": "3.9.10"
  }
 },
 "nbformat": 4,
 "nbformat_minor": 5
}
