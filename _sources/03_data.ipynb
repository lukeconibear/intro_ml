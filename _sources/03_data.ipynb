{
 "cells": [
  {
   "cell_type": "markdown",
   "id": "e1f167c0-52a8-4800-9999-0419acc312a8",
   "metadata": {},
   "source": [
    "# Data"
   ]
  },
  {
   "cell_type": "markdown",
   "id": "a6ae8044-47c9-4c48-b50d-e3dadb441757",
   "metadata": {},
   "source": [
    "[![Open in Colab](https://colab.research.google.com/assets/colab-badge.svg)](https://colab.research.google.com/github/lukeconibear/intro_ml/blob/main/docs/02_data.ipynb)"
   ]
  },
  {
   "cell_type": "code",
   "execution_count": 1,
   "id": "49aef6fc-d7fe-45a5-9593-f9092ae02ebe",
   "metadata": {},
   "outputs": [],
   "source": [
    "# if you're using colab, then install the required modules\n",
    "import sys\n",
    "\n",
    "IN_COLAB = \"google.colab\" in sys.modules\n",
    "if IN_COLAB:\n",
    "    pass"
   ]
  },
  {
   "cell_type": "markdown",
   "id": "29b4991e-9de8-4418-8c5c-6d904fb9b4de",
   "metadata": {},
   "source": [
    "## Tensors"
   ]
  },
  {
   "cell_type": "markdown",
   "id": "d5936a38-7bef-47b0-b6b6-c759fa16623f",
   "metadata": {},
   "source": [
    "### NumPy"
   ]
  },
  {
   "cell_type": "code",
   "execution_count": 29,
   "id": "a75e5dd9-bc95-4ea4-9493-f2533cb8125c",
   "metadata": {},
   "outputs": [],
   "source": [
    "import numpy as np"
   ]
  },
  {
   "cell_type": "code",
   "execution_count": 10,
   "id": "2996f49d-5272-4d32-bc4f-c52c7fe9f8c7",
   "metadata": {},
   "outputs": [
    {
     "data": {
      "text/plain": [
       "array([-1.54858219])"
      ]
     },
     "execution_count": 10,
     "metadata": {},
     "output_type": "execute_result"
    }
   ],
   "source": [
    "np.random.normal(size=(1,))  # scalar"
   ]
  },
  {
   "cell_type": "code",
   "execution_count": 11,
   "id": "bd79c904-7c31-463b-887d-dc950570c806",
   "metadata": {},
   "outputs": [
    {
     "data": {
      "text/plain": [
       "array([-1.18848916,  0.04164453,  1.60673605])"
      ]
     },
     "execution_count": 11,
     "metadata": {},
     "output_type": "execute_result"
    }
   ],
   "source": [
    "np.random.normal(size=(3,))  # vector"
   ]
  },
  {
   "cell_type": "code",
   "execution_count": 12,
   "id": "ee4198ea-0bb7-4e3a-9446-c7b5b0e4c003",
   "metadata": {},
   "outputs": [
    {
     "data": {
      "text/plain": [
       "array([[ 0.25626228,  0.27235102,  0.76194289],\n",
       "       [-1.61710327,  0.60670584,  0.72050976],\n",
       "       [-1.31817124,  0.58772453, -0.1209499 ]])"
      ]
     },
     "execution_count": 12,
     "metadata": {},
     "output_type": "execute_result"
    }
   ],
   "source": [
    "np.random.normal(size=(3, 3))  # matrix"
   ]
  },
  {
   "cell_type": "markdown",
   "id": "a0998b77-454e-478e-b19c-f3e7987661b9",
   "metadata": {},
   "source": [
    "### scikit-learn"
   ]
  },
  {
   "cell_type": "code",
   "execution_count": null,
   "id": "f29c3cbc-34de-41aa-999d-4d49eb9da565",
   "metadata": {},
   "outputs": [],
   "source": []
  },
  {
   "cell_type": "code",
   "execution_count": null,
   "id": "03cec64c-f9e1-4a74-ba2b-aa4dc00c9767",
   "metadata": {},
   "outputs": [],
   "source": []
  },
  {
   "cell_type": "code",
   "execution_count": null,
   "id": "9695fc7a-827b-4fc2-b76b-d63d8551ab92",
   "metadata": {},
   "outputs": [],
   "source": []
  },
  {
   "cell_type": "markdown",
   "id": "3092f4db-f0df-487d-a8ce-60bfbfacab8b",
   "metadata": {},
   "source": [
    "### [TensorFlow](https://www.tensorflow.org/guide/tensor)"
   ]
  },
  {
   "cell_type": "code",
   "execution_count": 13,
   "id": "20d3c729-aec4-4936-8309-54a7e639552b",
   "metadata": {},
   "outputs": [],
   "source": [
    "import tensorflow as tf"
   ]
  },
  {
   "cell_type": "code",
   "execution_count": 14,
   "id": "81f7b10b-b41c-46a0-981a-613cb23c6661",
   "metadata": {},
   "outputs": [
    {
     "data": {
      "text/plain": [
       "<tf.Tensor: shape=(1,), dtype=float32, numpy=array([0.29955947], dtype=float32)>"
      ]
     },
     "execution_count": 14,
     "metadata": {},
     "output_type": "execute_result"
    }
   ],
   "source": [
    "tf.random.normal(shape=(1,))  # scalar"
   ]
  },
  {
   "cell_type": "code",
   "execution_count": 15,
   "id": "42b87f7b-eb97-4738-a6f9-fe76997c5b5a",
   "metadata": {},
   "outputs": [
    {
     "data": {
      "text/plain": [
       "<tf.Tensor: shape=(3,), dtype=float32, numpy=array([-0.5225624 , -2.2838907 ,  0.75311697], dtype=float32)>"
      ]
     },
     "execution_count": 15,
     "metadata": {},
     "output_type": "execute_result"
    }
   ],
   "source": [
    "tf.random.normal(shape=(3,))  # vector"
   ]
  },
  {
   "cell_type": "code",
   "execution_count": 16,
   "id": "736dd9d5-6791-42c7-8d1f-067de73be98e",
   "metadata": {},
   "outputs": [
    {
     "data": {
      "text/plain": [
       "<tf.Tensor: shape=(3, 3), dtype=float32, numpy=\n",
       "array([[-0.9250597 , -1.0387895 ,  0.31616974],\n",
       "       [ 0.48603716,  0.14275853,  0.07815948],\n",
       "       [ 1.9737301 ,  0.50876594, -1.7230648 ]], dtype=float32)>"
      ]
     },
     "execution_count": 16,
     "metadata": {},
     "output_type": "execute_result"
    }
   ],
   "source": [
    "tf.random.normal(shape=(3, 3))  # matrix"
   ]
  },
  {
   "cell_type": "markdown",
   "id": "e09d28ce-8033-41e6-a8b9-8f99a3e075a6",
   "metadata": {},
   "source": [
    "### PyTorch"
   ]
  },
  {
   "cell_type": "code",
   "execution_count": null,
   "id": "e2dcc2db-8387-404a-ada9-ba73f33b6386",
   "metadata": {},
   "outputs": [],
   "source": []
  },
  {
   "cell_type": "code",
   "execution_count": null,
   "id": "6f5656da-add1-4e0a-9354-066829adabe4",
   "metadata": {},
   "outputs": [],
   "source": []
  },
  {
   "cell_type": "code",
   "execution_count": null,
   "id": "92c36990-04bf-4370-9e33-e1951e2fab3e",
   "metadata": {},
   "outputs": [],
   "source": []
  },
  {
   "cell_type": "markdown",
   "id": "ad4c1da7-4b22-40d6-95ef-2f6a2a628dfd",
   "metadata": {},
   "source": [
    "## Data pipelines\n",
    "\n",
    "The data pipeline can be useful:\n",
    "\n",
    "- When the data does not fit in memory.\n",
    "- When the data requires pre-processing.\n",
    "- To efficiently use hardware.\n",
    "\n",
    "The steps can include:\n",
    "\n",
    "- Extract e.g., read data from memory / storage.\n",
    "- Transform e.g., pre-processing, batching, shuffling.\n",
    "- Load e.g., transfer to GPU."
   ]
  },
  {
   "cell_type": "markdown",
   "id": "33dc9f84-c149-4142-b6d4-68616b19f312",
   "metadata": {},
   "source": [
    "### Data loading\n",
    "\n",
    "[Keras](https://keras.io/api/data_loading/) models accept three types of inputs:\n",
    "\n",
    "- [NumPy arrays](https://www.tensorflow.org/guide/data#consuming_numpy_arrays)\n",
    "    - Suitable for when the data fits in memory.\n",
    "- [TensorFlow Dataset objects](https://www.tensorflow.org/guide/data#dataset_structure)\n",
    "    - Suitable for datasets that do not fit in memory and that are streamed from disk or from a distributed filesystem.\n",
    "- [Python generators](https://www.tensorflow.org/guide/data#consuming_python_generators)\n",
    "    - Suitable for custom processing yielding batches of data (subclasses of `tf.keras.utils.Sequence` class).\n",
    "\n",
    "If you have a large dataset and you are training on GPU(s), consider using `Dataset` objects, since they will take care of performance-critical details, such as:\n",
    "\n",
    "- Asynchronously preprocessing your data on CPU while your GPU is busy, and buffering it into a queue.\n",
    "- Prefetching data on GPU memory so it's immediately available when the GPU has finished processing the previous batch, so you can reach full GPU utilization.\n",
    "\n",
    "Keras features a range of utilities to help you turn raw data on disk into a Dataset:\n",
    "\n",
    "- [`tf.keras.utils.image_dataset_from_directory`](https://www.tensorflow.org/api_docs/python/tf/keras/utils/image_dataset_from_directory) turns image files sorted into class-specific folders into a labeled dataset of image tensors.\n",
    "- [`tf.keras.utils.text_dataset_from_directory`](https://www.tensorflow.org/api_docs/python/tf/keras/utils/text_dataset_from_directory) does the same for text files.\n",
    "- [`tf.keras.utils.timeseries_dataset_from_array`](https://www.tensorflow.org/api_docs/python/tf/keras/utils/timeseries_dataset_from_array) creates a dataset of sliding windows over a timeseries provided as array."
   ]
  },
  {
   "cell_type": "markdown",
   "id": "43c69061-254f-4440-9f6a-aa7e8cbae26f",
   "metadata": {},
   "source": [
    "\"step fusing\"\n",
    "\n",
    "model = build_model()\n",
    "model.compile(\n",
    "    optimiser,\n",
    "    loss,\n",
    "    steps_per_execution=32  # this step\n",
    ")\n",
    "model.fit(dataset, epochs=epochs, callbacks=callbacks)"
   ]
  },
  {
   "cell_type": "markdown",
   "id": "cfb5d208-76f4-4b06-9ac0-c87aa5908ec0",
   "metadata": {},
   "source": [
    "#### TensorFlow"
   ]
  },
  {
   "cell_type": "code",
   "execution_count": 21,
   "id": "93dedd97-454c-4e7c-b63f-9edbeb866926",
   "metadata": {},
   "outputs": [],
   "source": [
    "# first load the mnist data\n",
    "(x_train_tf, y_train_tf), (x_test_tf, y_test_tf) = tf.keras.datasets.mnist.load_data()\n",
    "x_train_tf, x_test_tf = x_train_tf / 255.0, x_test_tf / 255.0  # normalise\n",
    "\n",
    "# add a channels dimension\n",
    "x_train_tf = x_train_tf[..., tf.newaxis].astype(\"float32\")\n",
    "x_test_tf = x_test_tf[..., tf.newaxis].astype(\"float32\")"
   ]
  },
  {
   "cell_type": "markdown",
   "id": "6f84dde0-0dd0-480b-8e62-2cf94cb9ec98",
   "metadata": {},
   "source": [
    "Convert to a TensorFlow object:"
   ]
  },
  {
   "cell_type": "code",
   "execution_count": 22,
   "id": "f6f6ccfa-02d1-42d3-b4fc-3a32f78254a6",
   "metadata": {},
   "outputs": [],
   "source": [
    "train_ds_tf = tf.data.Dataset.from_tensor_slices((x_train_tf, y_train_tf))\n",
    "test_ds_tf = tf.data.Dataset.from_tensor_slices((x_test_tf, y_test_tf))"
   ]
  },
  {
   "cell_type": "code",
   "execution_count": 23,
   "id": "745a1720-77d5-4d44-973b-60dd2c2a1da9",
   "metadata": {},
   "outputs": [
    {
     "data": {
      "text/plain": [
       "<TensorSliceDataset element_spec=(TensorSpec(shape=(28, 28, 1), dtype=tf.float32, name=None), TensorSpec(shape=(), dtype=tf.uint8, name=None))>"
      ]
     },
     "execution_count": 23,
     "metadata": {},
     "output_type": "execute_result"
    }
   ],
   "source": [
    "train_ds_tf"
   ]
  },
  {
   "cell_type": "markdown",
   "id": "bcd2f4e8-6cf8-4289-a76d-0f56f1145e27",
   "metadata": {},
   "source": [
    "### Shuffle\n",
    "\n",
    "Shuffle the training data."
   ]
  },
  {
   "cell_type": "markdown",
   "id": "d4c93f5c-bb08-44b4-805c-14f3e5aa05ea",
   "metadata": {},
   "source": [
    "#### TensorFlow"
   ]
  },
  {
   "cell_type": "code",
   "execution_count": 25,
   "id": "ad0cab33-0c1f-4c82-a63f-4be41b09682e",
   "metadata": {},
   "outputs": [],
   "source": [
    "train_ds_tf = train_ds_tf.shuffle(10000)"
   ]
  },
  {
   "cell_type": "code",
   "execution_count": 26,
   "id": "c140bb26-56ed-47a3-a1e3-bad0983c6923",
   "metadata": {},
   "outputs": [
    {
     "data": {
      "text/plain": [
       "<ShuffleDataset element_spec=(TensorSpec(shape=(28, 28, 1), dtype=tf.float32, name=None), TensorSpec(shape=(), dtype=tf.uint8, name=None))>"
      ]
     },
     "execution_count": 26,
     "metadata": {},
     "output_type": "execute_result"
    }
   ],
   "source": [
    "train_ds_tf"
   ]
  },
  {
   "cell_type": "markdown",
   "id": "c643aa15-7bb3-4885-9889-f218ea1ae56b",
   "metadata": {
    "tags": []
   },
   "source": [
    "### [Batch](https://www.tensorflow.org/guide/data#batching_dataset_elements)\n",
    "\n",
    "Split the data into batches."
   ]
  },
  {
   "cell_type": "markdown",
   "id": "e192a379-5b33-4c79-8cd6-6750daad983b",
   "metadata": {},
   "source": [
    "#### TensorFlow"
   ]
  },
  {
   "cell_type": "code",
   "execution_count": 27,
   "id": "6b80f6ab-882f-4f18-b9df-f64587847ae5",
   "metadata": {},
   "outputs": [],
   "source": [
    "train_ds_tf = train_ds_tf.batch(batch_size=32)\n",
    "test_ds_tf = test_ds_tf.batch(batch_size=32)"
   ]
  },
  {
   "cell_type": "code",
   "execution_count": 28,
   "id": "a6c24c67-d0d8-4795-ad10-d2934e887e61",
   "metadata": {},
   "outputs": [
    {
     "data": {
      "text/plain": [
       "<BatchDataset element_spec=(TensorSpec(shape=(None, 28, 28, 1), dtype=tf.float32, name=None), TensorSpec(shape=(None,), dtype=tf.uint8, name=None))>"
      ]
     },
     "execution_count": 28,
     "metadata": {},
     "output_type": "execute_result"
    }
   ],
   "source": [
    "train_ds_tf"
   ]
  },
  {
   "cell_type": "markdown",
   "id": "51d86bf7-26f5-40a1-996b-9fadb6c8cd28",
   "metadata": {},
   "source": [
    "### [Map](https://www.tensorflow.org/guide/data#preprocessing_data)\n",
    "\n",
    "Map a preprocessing function to a dataset.\n",
    "\n",
    "#### TensorFlow\n",
    "\n",
    "```python\n",
    "dataset.map(function)\n",
    "```"
   ]
  },
  {
   "cell_type": "code",
   "execution_count": null,
   "id": "f59d64b4-232d-4fd6-971b-152dd7b7403b",
   "metadata": {},
   "outputs": [],
   "source": []
  },
  {
   "cell_type": "markdown",
   "id": "e98021ef-a4e6-4aa8-a475-98bccc0d59bb",
   "metadata": {},
   "source": [
    "There are range of ways to [improve the performance](https://www.tensorflow.org/guide/data_performance) of the data pipeline.\n",
    "\n",
    "In these examples, using `tf.data.AUTOTUNE` leaves the decision to TensorFlow."
   ]
  },
  {
   "cell_type": "markdown",
   "id": "8d5997c7-740e-4537-9324-78bf44945549",
   "metadata": {},
   "source": [
    "(cache_prefetch)=\n",
    "### [Dataset caching](https://www.tensorflow.org/guide/data_performance#caching)\n",
    "\n",
    "Cache the data after the first iteration through it. The data can be cached to either memory or a local file.\n",
    "\n",
    "This can improve performance when:\n",
    "\n",
    "- The data is the same each iteration.\n",
    "- The data is read from a remote distributed filesystem.\n",
    "- The data is I/O (input/output) bound and will fit in memory.\n",
    "\n",
    "#### TensorFlow\n",
    "\n",
    "```python\n",
    "dataset.cache()\n",
    "```"
   ]
  },
  {
   "cell_type": "markdown",
   "id": "3cc418c3-02bb-411f-a3e4-66881fd13ff4",
   "metadata": {},
   "source": [
    "### [Prefetch data](https://www.tensorflow.org/guide/data_performance#prefetching)\n",
    "\n",
    "Prefect the next batch to save time waiting for it.\n",
    "\n",
    "#### TensorFlow\n",
    "\n",
    "```python\n",
    "dataset.prefetch(buffer_size=tf.data.AUTOTUNE)\n",
    "```"
   ]
  },
  {
   "cell_type": "markdown",
   "id": "22f9acb0-d20b-48ab-a204-6473c50931ed",
   "metadata": {},
   "source": [
    "### [Parallel data extraction](https://www.tensorflow.org/guide/data_performance#parallelizing_data_extraction)\n",
    "\n",
    "Extract the data in parallel.\n",
    "\n",
    "#### TensorFlow\n",
    "\n",
    "```python\n",
    "dataset.interleave(\n",
    "    build_dataset, \n",
    "    num_parallel_calls=tf.data.AUTOTUNE\n",
    ")\n",
    "```"
   ]
  },
  {
   "cell_type": "markdown",
   "id": "076c41aa-b850-46a3-a910-27dce98146ce",
   "metadata": {},
   "source": [
    "###  [Parallel data transformation](https://www.tensorflow.org/guide/data_performance#parallelizing_data_transformation)\n",
    "\n",
    "Pre-process your data in parallel.\n",
    "\n",
    "#### TensorFlow\n",
    "\n",
    "```python\n",
    "dataset.map(\n",
    "    function, \n",
    "    num_parallel_calls=tf.data.AUTOTUNE\n",
    ")\n",
    "```"
   ]
  },
  {
   "cell_type": "markdown",
   "id": "987e2947-d742-49be-a778-6f55709063c1",
   "metadata": {},
   "source": [
    "### [Vectorise mapping](https://www.tensorflow.org/guide/data_performance#vectorizing_mapping)\n",
    "\n",
    "Batch _before_ mapping, to vectorise a function.\n",
    "\n",
    "#### TensorFlow\n",
    "\n",
    "```python\n",
    "dataset.batch(256).map(function)\n",
    "```"
   ]
  },
  {
   "cell_type": "code",
   "execution_count": null,
   "id": "4a2515bb-2d97-4621-b6f6-ae3586969ed5",
   "metadata": {},
   "outputs": [],
   "source": []
  },
  {
   "cell_type": "code",
   "execution_count": null,
   "id": "2c87a945-535b-4041-b4d4-b520ae971bf1",
   "metadata": {},
   "outputs": [],
   "source": []
  },
  {
   "cell_type": "markdown",
   "id": "fef8cd7e-1841-45e6-85b0-494ada8c881b",
   "metadata": {},
   "source": [
    "jit compile\n",
    "\n",
    "model = build_model()\n",
    "model.compile(\n",
    "    optimiser,\n",
    "    loss,\n",
    "    jit_compile=True  # this step\n",
    ")\n",
    "model.fit(dataset, epochs=epochs, callbacks=callbacks)"
   ]
  },
  {
   "cell_type": "code",
   "execution_count": null,
   "id": "7c8c2c5d-11cc-47c3-895d-ad82b8c3f940",
   "metadata": {},
   "outputs": [],
   "source": []
  },
  {
   "cell_type": "code",
   "execution_count": null,
   "id": "8edd2169-abea-4ee2-899e-e26fcbf91e74",
   "metadata": {},
   "outputs": [],
   "source": []
  },
  {
   "cell_type": "markdown",
   "id": "25ec18c1-3dad-4d18-9830-55acd84397e0",
   "metadata": {
    "tags": []
   },
   "source": [
    "## Data preprocessing\n",
    "\n",
    "- Tokenization of string data, followed by token indexing.\n",
    "- Feature normalization.\n",
    "- Rescaling the data to small values (in general, input values to a neural network should be close to zero -- typically we expect either data with zero-mean and unit-variance, or data in the [0, 1] range.\n"
   ]
  },
  {
   "cell_type": "markdown",
   "id": "ab17d4f1-a78a-42cb-9630-3d5f0dd7a6ec",
   "metadata": {},
   "source": []
  },
  {
   "cell_type": "markdown",
   "id": "9b0da989-7664-49f9-9b5e-f9321fb81670",
   "metadata": {},
   "source": [
    "### [Mixed precision](https://www.tensorflow.org/guide/mixed_precision)\n",
    "\n",
    "Mixed precision is the use of 16-bit and 32-bit floating-point types during training to use less memory and make it run faster.\n",
    "\n",
    "#### TensorFlow\n",
    "\n",
    "```python\n",
    "tf.keras.mixed_precision.set_global_policy('mixed_float16')\n",
    "```"
   ]
  },
  {
   "cell_type": "markdown",
   "id": "a96649c7-13c5-4ac2-a809-51f64c91f49a",
   "metadata": {},
   "source": [
    "```{note}\n",
    "This functionality varies by GPU, and is mostly available to modern NVIDIA GPUs.\n",
    "```"
   ]
  },
  {
   "cell_type": "markdown",
   "id": "c060dea9-81fd-47bd-bdfe-c374000a8e55",
   "metadata": {},
   "source": [
    "```{warning}\n",
    "Be careful with underflow and overflow issues.\n",
    "\n",
    "16-bit floats above 65504 overflow to infinity and below 6.0<sub>x10</sub><sup>-8</sup> underflow to zero.\n",
    "\n",
    "[Loss scaling](https://www.tensorflow.org/guide/mixed_precision#loss_scaling_overview) can help avoid errors by scaling the losses up or down temporarily i.e.,:  \n",
    "`optimizer = mixed_precision.LossScaleOptimizer(optimizer)`  \n",
    "\n",
    "```"
   ]
  },
  {
   "cell_type": "code",
   "execution_count": null,
   "id": "7c0ee263-d591-4417-8c86-5b26a843b2ed",
   "metadata": {},
   "outputs": [],
   "source": [
    "import numpy as np\n",
    "import tensorflow as tf\n",
    "import torch"
   ]
  },
  {
   "cell_type": "markdown",
   "id": "ea2d7db6-9738-4a79-b501-955e520f2118",
   "metadata": {},
   "source": []
  },
  {
   "cell_type": "markdown",
   "id": "a64f1798-eb46-4759-b023-8dd649f74c40",
   "metadata": {},
   "source": [
    "- datasets\n",
    "- data centric AI hub videos\n",
    "- efficient feeding of data into GPUs\n",
    "- pipelines for large data I/O into GPUs using compression/decompression, Ray datasets\n",
    "\n",
    "\n"
   ]
  },
  {
   "cell_type": "code",
   "execution_count": null,
   "id": "172576cd-85b0-40f4-8705-139a543e3a87",
   "metadata": {},
   "outputs": [],
   "source": []
  },
  {
   "cell_type": "markdown",
   "id": "33379cf8-83ff-4970-86bd-f663f9ac086e",
   "metadata": {},
   "source": [
    "## TensorFlow Datasets\n",
    "\n",
    "..."
   ]
  },
  {
   "cell_type": "code",
   "execution_count": null,
   "id": "e5416411-b3f6-4919-8187-650f7c222491",
   "metadata": {},
   "outputs": [],
   "source": []
  },
  {
   "cell_type": "code",
   "execution_count": null,
   "id": "5d0dca36-204b-43b9-a17d-2cb93d3aab16",
   "metadata": {},
   "outputs": [],
   "source": []
  },
  {
   "cell_type": "code",
   "execution_count": null,
   "id": "61a07bd4-5506-42fa-98c9-baa3ffd81a46",
   "metadata": {},
   "outputs": [],
   "source": []
  },
  {
   "cell_type": "markdown",
   "id": "9160d4f8-3d05-4329-8e8f-17cc795a5ef6",
   "metadata": {},
   "source": [
    "(data_augmentation)=\n",
    "## Data augmentation"
   ]
  },
  {
   "cell_type": "code",
   "execution_count": null,
   "id": "18cdd81d-97b0-414b-91c2-c2fe1e89867c",
   "metadata": {},
   "outputs": [],
   "source": []
  },
  {
   "cell_type": "markdown",
   "id": "ec5b9649-dfb3-4d66-bdb7-a565a9bdc3be",
   "metadata": {},
   "source": [
    "### Synthetic data\n",
    "\n",
    "...\n",
    "\n",
    "- [NVIDIA Replicator Composer](https://docs.omniverse.nvidia.com/app_isaacsim/app_isaacsim/tutorial_replicator_composer.html#replicator-composer)"
   ]
  },
  {
   "cell_type": "code",
   "execution_count": null,
   "id": "6c515783-b33e-448b-8b7d-2a264dd5bdbf",
   "metadata": {},
   "outputs": [],
   "source": []
  },
  {
   "cell_type": "code",
   "execution_count": null,
   "id": "7c6f47a8-9ad1-4dba-8577-c5b394ee3b0f",
   "metadata": {},
   "outputs": [],
   "source": []
  },
  {
   "cell_type": "code",
   "execution_count": null,
   "id": "d3f13dcc-ae37-4518-8ff1-fad3c30dc218",
   "metadata": {},
   "outputs": [],
   "source": [
    "import tensorflow as tf"
   ]
  },
  {
   "cell_type": "markdown",
   "id": "dcc1390c-7a87-4fe8-a640-58b0164bd58a",
   "metadata": {},
   "source": [
    "Check whether you have a GPU:"
   ]
  },
  {
   "cell_type": "code",
   "execution_count": 5,
   "id": "b0e0de7f-6c5e-4272-b109-bac76ecd0e4f",
   "metadata": {},
   "outputs": [
    {
     "name": "stdout",
     "output_type": "stream",
     "text": [
      "Num GPUs Available:  0\n"
     ]
    }
   ],
   "source": [
    "print(\"Num GPUs Available: \", len(tf.config.list_physical_devices('GPU')))"
   ]
  },
  {
   "cell_type": "code",
   "execution_count": null,
   "id": "34152b35-1cbe-4b3d-96f0-f5a47f523c34",
   "metadata": {},
   "outputs": [],
   "source": []
  },
  {
   "cell_type": "markdown",
   "id": "42a7146e-bc2d-4078-b65e-b6b983d588e1",
   "metadata": {
    "tags": []
   },
   "source": [
    "## Exercises"
   ]
  },
  {
   "cell_type": "markdown",
   "id": "af74e521-e75b-4684-a8b3-b01951a40340",
   "metadata": {},
   "source": [
    "```{admonition} Exercise 1\n",
    "\n",
    "...\n",
    "\n",
    "```"
   ]
  },
  {
   "cell_type": "markdown",
   "id": "ebf8af3b-5d9a-4e2c-9bd0-223837749e07",
   "metadata": {},
   "source": [
    "## {ref}`Solutions <data>`"
   ]
  },
  {
   "cell_type": "markdown",
   "id": "ba85d337-9ea3-4511-ae33-4fb036418318",
   "metadata": {},
   "source": [
    "## Key Points"
   ]
  },
  {
   "cell_type": "markdown",
   "id": "e1de920e-c4c1-4c47-8a80-b7f1ab648754",
   "metadata": {},
   "source": [
    "```{important}\n",
    "\n",
    "- [x] _Use a data pipeline._\n",
    "- [x] _Optimise the data pipeline with caching, prefetching, parallel extraction, parallel preprocessing, and vectorised mapping._\n",
    "\n",
    "```"
   ]
  },
  {
   "cell_type": "markdown",
   "id": "d73bcbb5-e4c3-4032-b7af-8fd24d9e19e9",
   "metadata": {
    "tags": []
   },
   "source": [
    "## Further information\n",
    "\n",
    "### Good practices\n",
    "\n",
    "- Do data processing as part of the model to increase portability and reproducibility.\n",
    "- Analyse data pipeline performance with [TensorBoard Profiler](https://www.tensorflow.org/guide/data_performance_analysis).\n",
    "- Use sparse tensors when there are many zeros / np.nans (e.g., [TensorFlow](https://www.tensorflow.org/guide/sparse_tensor)).\n",
    "- ...\n",
    "\n",
    "### Other options\n",
    "\n",
    "- ...\n",
    " \n",
    "### Resources\n",
    "\n",
    "#### General\n",
    "\n",
    "- [Papers with code - Datasets](https://paperswithcode.com/datasets)\n",
    "- [HuggingFace - Datasets](https://huggingface.co/datasets)\n",
    "- [Google research datasets](https://ai.google/tools/datasets/)\n",
    "- [Google Dataset Search](https://datasetsearch.research.google.com/)\n",
    "- [Google Cloud public datasets](https://console.cloud.google.com/marketplace/browse?filter=solution-type:dataset&pli=1)\n",
    "- [Kaggle Datasets](https://www.kaggle.com/datasets)\n",
    "\n",
    "#### TensorFlow\n",
    "\n",
    "- [TensorFlow official datasets](https://www.tensorflow.org/datasets)\n",
    "\n",
    "#### PyTorch\n",
    "\n",
    "- [Torch Vision Datasets](https://pytorch.org/vision/stable/datasets.html)\n",
    "- [Torch Text Datasets](https://pytorch.org/text/stable/datasets.html)\n",
    "- [Torch Audio Datasets](https://pytorch.org/audio/stable/datasets.html)"
   ]
  },
  {
   "cell_type": "code",
   "execution_count": null,
   "id": "dc0c3e08-05b5-431f-b842-82ffe49b99c9",
   "metadata": {},
   "outputs": [],
   "source": []
  }
 ],
 "metadata": {
  "interpreter": {
   "hash": "b1ffad78e3b53a26aeabe29bd69865e9fcde2eed64638bf28084d4e5d53534f3"
  },
  "kernelspec": {
   "display_name": "intro_ml",
   "language": "python",
   "name": "intro_ml"
  },
  "language_info": {
   "codemirror_mode": {
    "name": "ipython",
    "version": 3
   },
   "file_extension": ".py",
   "mimetype": "text/x-python",
   "name": "python",
   "nbconvert_exporter": "python",
   "pygments_lexer": "ipython3",
   "version": "3.9.10"
  }
 },
 "nbformat": 4,
 "nbformat_minor": 5
}
