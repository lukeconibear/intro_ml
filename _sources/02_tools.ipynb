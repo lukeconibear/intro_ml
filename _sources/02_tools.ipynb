{
 "cells": [
  {
   "cell_type": "markdown",
   "id": "e1f167c0-52a8-4800-9999-0419acc312a8",
   "metadata": {},
   "source": [
    "# Tools"
   ]
  },
  {
   "cell_type": "markdown",
   "id": "a6ae8044-47c9-4c48-b50d-e3dadb441757",
   "metadata": {},
   "source": [
    "[![Open in Colab](https://colab.research.google.com/assets/colab-badge.svg)](https://colab.research.google.com/github/lukeconibear/intro_ml/blob/main/docs/01_fundamentals.ipynb)"
   ]
  },
  {
   "cell_type": "code",
   "execution_count": null,
   "id": "49aef6fc-d7fe-45a5-9593-f9092ae02ebe",
   "metadata": {},
   "outputs": [],
   "source": [
    "# if you're using colab, then install the required modules\n",
    "import sys\n",
    "\n",
    "IN_COLAB = \"google.colab\" in sys.modules\n",
    "if IN_COLAB:\n",
    "    pass"
   ]
  },
  {
   "cell_type": "markdown",
   "id": "39f6ab59-beef-4250-91c9-e56328a17e00",
   "metadata": {},
   "source": [
    "## Overview\n",
    "\n",
    "There is huge variety of machine learning and deep learning tools.\n",
    "\n",
    "In this course, we'll focus on:\n",
    "\n",
    "- [scikit-learn](scikit-learn)\n",
    "- [TensorFlow](tensorflow)\n",
    "- [PyTorch](pytorch)\n",
    "\n",
    "The tool you choose depends on:\n",
    "\n",
    "- Your research problem\n",
    "- Model availability (e.g., pre-trained, state-of-the-art)\n",
    "- Deployment (e.g., hardware)\n",
    "- Ecosystem (e.g., compatibility with other tools)\n",
    "- Personal preferences\n",
    "\n",
    "There are many discussions on the different choices e.g., [1](https://www.assemblyai.com/blog/pytorch-vs-tensorflow-in-2022/), [2](https://keras.io/why_keras/)."
   ]
  },
  {
   "cell_type": "markdown",
   "id": "5442514c-57d4-4923-896d-8edbb4b5d08e",
   "metadata": {},
   "source": [
    "(scikit-learn)=\n",
    "### [scikit-learn](https://scikit-learn.org/stable/)\n",
    "\n",
    "Scikit-learn has a wide range of simple and efficient machine learning tools.  \n",
    "\n",
    "- [Documentation](https://scikit-learn.org/stable/user_guide.html)\n",
    "- [Tutorials](https://scikit-learn.org/stable/tutorial/index.html)\n",
    "- [Examples](https://scikit-learn.org/stable/auto_examples/index.html)\n",
    "\n",
    "There are ones for:\n",
    "\n",
    "- [Linear models](https://scikit-learn.org/stable/modules/linear_model.html) ([examples](https://scikit-learn.org/stable/auto_examples/index.html#generalized-linear-models))\n",
    "- [Nearest neighbours](https://scikit-learn.org/stable/modules/neighbors.html) ([examples](https://scikit-learn.org/stable/auto_examples/index.html#nearest-neighbors))\n",
    "- [Support vector machines](https://scikit-learn.org/stable/modules/svm.html) ([examples](https://scikit-learn.org/stable/auto_examples/index.html#support-vector-machines))\n",
    "- [Decision trees](https://scikit-learn.org/stable/modules/tree.html) ([examples](https://scikit-learn.org/stable/auto_examples/index.html#decision-trees))\n",
    "- And [many more](https://scikit-learn.org/stable/index.html#)."
   ]
  },
  {
   "cell_type": "markdown",
   "id": "d732b640-656f-4dff-a83a-173b4cbadc0f",
   "metadata": {
    "tags": []
   },
   "source": [
    "(tensorflow)=\n",
    "### [TensorFlow](https://www.tensorflow.org/)\n",
    "\n",
    "Tensorflow is an end-to-end open source machine learning platform.\n",
    "\n",
    "- [Documentation](https://www.tensorflow.org/guide)\n",
    "- [Tutorials](https://www.tensorflow.org/tutorials)\n",
    "- [Examples](https://keras.io/examples/)\n",
    "\n",
    "TensorFlow has use-friendly higher-level APIs (Application Programming Interface):\n",
    "\n",
    "- [Keras](https://keras.io/)"
   ]
  },
  {
   "cell_type": "markdown",
   "id": "7f618cc7-107a-46a5-9596-3fb9dad8b224",
   "metadata": {},
   "source": [
    "Keras includes a wide range of high-level objects including:\n",
    "\n",
    "- [Models](https://keras.io/api/models/)\n",
    "- [Layers](https://keras.io/api/layers/)\n",
    "    - [Activations](https://keras.io/api/layers/activations) e.g., sigmoid\n",
    "    - [Weight initialisers](https://keras.io/api/layers/initializers/) e.g., HeNormal\n",
    "    - [Regularisers](https://keras.io/api/layers/regularizers/) e.g., L2\n",
    "    - [Convolutional](https://keras.io/api/layers/convolution_layers/) e.g., Conv2D\n",
    "    - [Pooling](https://keras.io/api/layers/pooling_layers/) e.g., MaxPooling2D\n",
    "    - [Recurrent](https://keras.io/api/layers/recurrent_layers/) e.g., LSTM (long-short-term-memory)\n",
    "    - [Preprocessing](https://keras.io/api/layers/preprocessing_layers/) e.g., vectorisation\n",
    "- [Optimisers](https://keras.io/api/optimizers/) e.g., Adam\n",
    "- [Losses](https://keras.io/api/losses/) e.g., MeanSquaredError\n",
    "- [Metrics](https://keras.io/api/metrics/) e.g., Accuracy\n",
    "\n",
    "\n",
    "You can always go to the lower-level API, which is useful for custom objects.\n",
    "\n",
    "- [Model subclassing](https://blog.tensorflow.org/2019/01/what-are-symbolic-and-imperative-apis.html)\n",
    "    - Similar to PyTorch\n",
    "- [Automatic differention](https://www.tensorflow.org/guide/autodiff) with `tf.GradientTape()`  \n",
    "- ..."
   ]
  },
  {
   "cell_type": "markdown",
   "id": "968bec0e-7d4e-43ba-91db-b1af0af99863",
   "metadata": {},
   "source": [
    "There are many [libraries and extensions](https://www.tensorflow.org/resources/libraries-extensions) including:\n",
    "\n",
    "- [TensorFlow Extended](https://www.tensorflow.org/tfx) for deployment.\n",
    "- [TensorFlow Lite](https://www.tensorflow.org/lite/guide) for mobile and IoT (internet of things) devices.\n",
    "- [TensorBoard](https://www.tensorflow.org/tensorboard) for visualising the experiment results."
   ]
  },
  {
   "cell_type": "markdown",
   "id": "7d870831-803d-410f-942e-8552e7900844",
   "metadata": {
    "jp-MarkdownHeadingCollapsed": true,
    "tags": []
   },
   "source": [
    "A model consists of many layers.\n",
    "\n",
    "Each layer is an input-output transformation.\n",
    "\n",
    "These models and layers can be built using either of these API (application programming interface):\n",
    "\n",
    "| [Sequential](https://keras.io/guides/sequential_model/) | [Functional](https://keras.io/guides/functional_api/) | [Subclassing](https://www.tensorflow.org/guide/keras/custom_layers_and_models/) |\n",
    "| --- | --- | --- |\n",
    "| Linear stack of layers. | Non-linear DAG (directed acyclic graph) of layers (can be shared). | Similar to Functional, except uses subclasses. | \n",
    "| Each layer has one input and one output. | Each layer can have multiple inputs and outputs. |\n",
    "\n",
    "Hence, the Sequential API is simpler and the Functional API is more flexible and suitable for complicated models. While the Functional and Subclassing options are similar and mainly a taste preference for those that like object-orientated code."
   ]
  },
  {
   "cell_type": "markdown",
   "id": "e676c92f-d0a2-4e16-bc4d-ef5043525533",
   "metadata": {},
   "source": [
    "(pytorch)=\n",
    "### [PyTorch](https://pytorch.org/)\n",
    "\n",
    "PyTorch is an end-to-end open source machine learning platform.\n",
    "\n",
    "- [Documentation](https://pytorch.org/docs/stable/index.html)\n",
    "- [Tutorials](https://pytorch.org/tutorials/)\n",
    "\n",
    "PyTorch has use-friendly higher-level APIs:\n",
    "\n",
    "- [PyTorch Lightning](https://pytorch-lightning.readthedocs.io/en/latest/)\n",
    "    - Helps write boilerplate code, scale out to multiple devices, and other helpful things.\n",
    "\n",
    "You can always go to the lower-level API, which is useful for custom objects.\n",
    "\n",
    "- ...\n",
    "\n",
    "\n",
    "There are many [libraries and extensions](https://pytorch.org/ecosystem/) including:\n",
    "\n",
    "- [TorchServe](https://pytorch.org/serve/) for deployment.\n",
    "- [Pytorch Live](https://pytorch.org/live/) for mobile and IoT devices."
   ]
  },
  {
   "cell_type": "markdown",
   "id": "e2070596-7cec-42b2-8fa5-884dcaa9ee2c",
   "metadata": {},
   "source": []
  },
  {
   "cell_type": "markdown",
   "id": "12f3b5c7-f520-49db-94f9-6056d8132131",
   "metadata": {},
   "source": [
    "## Example - Linear regression\n",
    "\n",
    "Let's start with a simple example fitting a straight line to data.\n",
    "\n",
    "We'll see how this in done in each of three key tools we cover here: scikit-learn, TensorFlow, and PyTorch.\n",
    "\n",
    "Let's create some (noisy) data to train on:"
   ]
  },
  {
   "cell_type": "code",
   "execution_count": null,
   "id": "8da44fa9-d46c-40d4-9f7f-954d2364ffa6",
   "metadata": {},
   "outputs": [],
   "source": [
    "import numpy as np"
   ]
  },
  {
   "cell_type": "code",
   "execution_count": null,
   "id": "52fd737f-57a5-4387-9f24-2b8a9833e620",
   "metadata": {},
   "outputs": [],
   "source": [
    "def create_noisy_linear_data(num_points):\n",
    "    x = np.arange(num_points)\n",
    "    noise = np.random.normal(0, 1, num_points)\n",
    "    y = 2 * x + noise\n",
    "    # convert to 2D arrays\n",
    "    x, y = x.reshape(-1, 1), y.reshape(-1, 1)\n",
    "    return x, y"
   ]
  },
  {
   "cell_type": "code",
   "execution_count": null,
   "id": "b6009ddc-563d-4c4f-8e26-453dd2794d7f",
   "metadata": {},
   "outputs": [],
   "source": [
    "x_train, y_train = create_noisy_linear_data(10)"
   ]
  },
  {
   "cell_type": "markdown",
   "id": "a57cf489-406c-4283-bba1-3daf9febaf41",
   "metadata": {},
   "source": [
    "```{caution} \n",
    "\n",
    "Input arrays to models needs to be 2 dimensional (2D) i.e., a column of rows.\n",
    "\n",
    "For example, instead of one row:\n",
    "\n",
    "`>>> np.arange(10)`  \n",
    "`array([0, 1, 2, 3, 4, 5, 6, 7, 8, 9])`  \n",
    "\n",
    "Convert this to a column of rows using `.reshape(-1, 1)`:  \n",
    "\n",
    "`>>> np.arange(10).reshape(-1, 1)`  \n",
    "`array([[0],`  \n",
    "`       [1],`  \n",
    "`       [2],`  \n",
    "`       [3],`  \n",
    "`       [4],`  \n",
    "`       [5],`  \n",
    "`       [6],`  \n",
    "`       [7],`  \n",
    "`       [8],`  \n",
    "`       [9]])`  \n",
    "\n",
    "```"
   ]
  },
  {
   "cell_type": "markdown",
   "id": "1cb4da99-a120-4a3d-8b48-1c79042662f7",
   "metadata": {},
   "source": [
    "### scikit-learn\n",
    "\n",
    "First, let's try with [scikit-learn](https://scikit-learn.org/stable/auto_examples/linear_model/plot_ols.html):"
   ]
  },
  {
   "cell_type": "code",
   "execution_count": null,
   "id": "c4f3cce2-5397-4a8f-8a57-0998dd883595",
   "metadata": {},
   "outputs": [],
   "source": [
    "from sklearn import linear_model"
   ]
  },
  {
   "cell_type": "code",
   "execution_count": null,
   "id": "2b0d9bd8-647e-48ca-b008-9fe731bcad95",
   "metadata": {},
   "outputs": [],
   "source": [
    "model_sklearn = linear_model.LinearRegression()"
   ]
  },
  {
   "cell_type": "markdown",
   "id": "09eb6d28-d60b-44a0-904e-d888c27ab0cb",
   "metadata": {},
   "source": [
    "When fit is called for Linear Regression, the _loss_ that is trying to be minimised is the _mean squared error_ between the predictions and the actual values.\n",
    "\n",
    "This determines what parameters the model learns."
   ]
  },
  {
   "cell_type": "code",
   "execution_count": null,
   "id": "9bc66adf-083e-4756-8658-2525a5da3736",
   "metadata": {},
   "outputs": [],
   "source": [
    "model_sklearn.fit(x_train, y_train)"
   ]
  },
  {
   "cell_type": "markdown",
   "id": "3cd999b8-57fa-4abd-b680-a65df7ecd28d",
   "metadata": {},
   "source": [
    "The data was from the line `y = 2x`, so the gradient was 2.\n",
    "\n",
    "Let's see what the model estimated it to be:"
   ]
  },
  {
   "cell_type": "code",
   "execution_count": null,
   "id": "c29bc2f4-40e8-4e2e-900a-1a04b478381e",
   "metadata": {},
   "outputs": [],
   "source": [
    "gradient = model_sklearn.coef_[0]\n",
    "intercept = model_sklearn.intercept_\n",
    "\n",
    "gradient"
   ]
  },
  {
   "cell_type": "markdown",
   "id": "854ffc9d-d04e-4290-a506-82d65c82f1a2",
   "metadata": {},
   "source": [
    "Pretty close, considering there was only 10 training data points."
   ]
  },
  {
   "cell_type": "markdown",
   "id": "24abb76f-86c2-41ca-85f9-1252c2865af9",
   "metadata": {},
   "source": [
    "### TensorFlow\n",
    "\n",
    "Now, for **TensorFlow**:"
   ]
  },
  {
   "cell_type": "code",
   "execution_count": null,
   "id": "ee28b86a-b5f7-4633-8ce0-3b727a305ef0",
   "metadata": {},
   "outputs": [],
   "source": [
    "import tensorflow as tf"
   ]
  },
  {
   "cell_type": "markdown",
   "id": "9c857048-a87e-4c09-be4f-1c19c42873a1",
   "metadata": {},
   "source": [
    "Create the model.\n",
    "\n",
    "It's helpful to name the layers in the model."
   ]
  },
  {
   "cell_type": "code",
   "execution_count": null,
   "id": "db868b2c-1210-465f-8ad7-5250cba5912a",
   "metadata": {},
   "outputs": [],
   "source": [
    "model_tf = tf.keras.Sequential(\n",
    "    [\n",
    "        tf.keras.Input(shape=(1,), name=\"inputs\"),\n",
    "        tf.keras.layers.Dense(units=1, name=\"outputs\"),\n",
    "    ]\n",
    ")"
   ]
  },
  {
   "cell_type": "markdown",
   "id": "2c425145-2112-4d46-a82a-d1f1c5706c15",
   "metadata": {},
   "source": [
    "You can now show the model summary.\n",
    "\n",
    "Note, this only shows layers (not the `Input` object)."
   ]
  },
  {
   "cell_type": "code",
   "execution_count": null,
   "id": "afe0f3c4-e904-42c0-bd66-a2ee977e7478",
   "metadata": {},
   "outputs": [],
   "source": [
    "model_tf.summary()"
   ]
  },
  {
   "cell_type": "markdown",
   "id": "d2eff5e2-f317-4592-96fa-165dd9365d20",
   "metadata": {},
   "source": [
    "You can also show the model graph:"
   ]
  },
  {
   "cell_type": "code",
   "execution_count": null,
   "id": "c7e86528-b426-4dc0-aeff-656dc0f9ee18",
   "metadata": {},
   "outputs": [],
   "source": [
    "tf.keras.utils.plot_model(model_tf, show_shapes=True)"
   ]
  },
  {
   "cell_type": "markdown",
   "id": "22e30465-c014-4d78-a9e5-05a20ead1700",
   "metadata": {},
   "source": [
    "Now, compile the model.\n",
    "\n",
    "The keyword arguments to `optimizer`, `loss`, and `metrics` can either be strings (e.g., `mean_squared_error`) or TensorFlow objects (e.g., `tf.keras.metrics.mean_squared_error`)"
   ]
  },
  {
   "cell_type": "code",
   "execution_count": null,
   "id": "567e416f-5a3b-4d8e-87e0-63cd2dd72374",
   "metadata": {},
   "outputs": [],
   "source": [
    "model_tf.compile(\n",
    "    optimizer=\"sgd\",  # how to reduce the loss\n",
    "    loss=\"mean_squared_error\",  # what to minimise (i.e., proxy for metric)\n",
    "    metrics=[\"accuracy\"],  # what actually care about\n",
    ")"
   ]
  },
  {
   "cell_type": "markdown",
   "id": "da4985a4-dcd7-45ca-816c-bbf82b154cd0",
   "metadata": {},
   "source": [
    "And, train the model:"
   ]
  },
  {
   "cell_type": "code",
   "execution_count": null,
   "id": "c334c6ea-749c-487a-93eb-33c41ab83360",
   "metadata": {},
   "outputs": [],
   "source": [
    "model_tf.fit(\n",
    "    x_train,\n",
    "    y_train,  # the training data\n",
    "    epochs=10,  # how many runs through the training data\n",
    "    verbose=False,  # print out the metrics per epoch\n",
    ");"
   ]
  },
  {
   "cell_type": "markdown",
   "id": "e11842bb-ef87-4abe-9d3d-60a4c693220f",
   "metadata": {},
   "source": [
    "And, let's see what this model though the gradient was:"
   ]
  },
  {
   "cell_type": "code",
   "execution_count": null,
   "id": "40ffed94-249f-4c44-bfc3-c97da42582aa",
   "metadata": {},
   "outputs": [],
   "source": [
    "model_tf.weights[0].numpy()"
   ]
  },
  {
   "cell_type": "markdown",
   "id": "5d1f8d7a-f9eb-49f3-9bf0-dd33ba6d497c",
   "metadata": {},
   "source": [
    "Now, we can see how well these models fit a line to the data:"
   ]
  },
  {
   "cell_type": "code",
   "execution_count": null,
   "id": "677cca24-c4b4-4c40-8e67-328984c085b9",
   "metadata": {},
   "outputs": [],
   "source": [
    "y_pred_sklearn = model_sklearn.predict(x_train)"
   ]
  },
  {
   "cell_type": "code",
   "execution_count": null,
   "id": "3b97e974-9aee-459e-9a02-4e4f6decc398",
   "metadata": {},
   "outputs": [],
   "source": [
    "y_pred_tf = model_tf.predict(x_train)"
   ]
  },
  {
   "cell_type": "code",
   "execution_count": null,
   "id": "2c466f2e-0499-432d-8261-a0387a73cbbb",
   "metadata": {},
   "outputs": [],
   "source": [
    "import matplotlib\n",
    "import matplotlib.gridspec as gridspec\n",
    "import matplotlib.pyplot as plt\n",
    "\n",
    "params = {\"font.size\": 14, \"text.usetex\": True}\n",
    "matplotlib.rcParams.update(params)"
   ]
  },
  {
   "cell_type": "code",
   "execution_count": null,
   "id": "d1e07cf1-ce8c-43b2-b4f4-a8dbe1ec671e",
   "metadata": {},
   "outputs": [],
   "source": [
    "colors = {\"data\": \"#1b9e77\", \"sklearn\": \"#d95f02\", \"tf\": \"#7570b3\"}"
   ]
  },
  {
   "cell_type": "code",
   "execution_count": null,
   "id": "66c8b976-b330-4e80-ab28-c44949a47a9f",
   "metadata": {},
   "outputs": [],
   "source": [
    "fig = plt.figure(1, figsize=(8, 4))\n",
    "ax1, ax2 = fig.subplots(1, 2)\n",
    "\n",
    "ax1.scatter(x_train, y_train, color=colors[\"data\"])\n",
    "ax1.plot(x_train, y_pred_sklearn, color=colors[\"sklearn\"], linewidth=3)\n",
    "ax1.set_title(\"scikit-learn model\")\n",
    "\n",
    "ax2.scatter(x_train, y_train, color=colors[\"data\"])\n",
    "ax2.plot(x_train, y_pred_tf, color=colors[\"tf\"], linewidth=3)\n",
    "ax2.set_title(\"TensorFlow model\")\n",
    "\n",
    "plt.show()"
   ]
  },
  {
   "cell_type": "markdown",
   "id": "07a49675-0fe2-4865-bcc0-0dff3e3ff65e",
   "metadata": {},
   "source": [
    "They both did a good job of fitting a function to the data.\n",
    "\n",
    "In other words, they found the association in the data.\n",
    "\n",
    "However, this was a very simple example that probably didn't require machine learning (let alone deep learning).\n",
    "\n",
    "Though it demonstrates what they do.\n",
    "\n",
    "Now, let's look at something a little more complicated."
   ]
  },
  {
   "cell_type": "markdown",
   "id": "94b64ae5-3e08-46e1-b00d-634a0f81fab8",
   "metadata": {},
   "source": [
    "## Example - Digit classification\n",
    "\n",
    "Let's train a model to recognise digits.\n",
    "\n",
    "This is a classification task."
   ]
  },
  {
   "cell_type": "markdown",
   "id": "250f12ea-a578-43ec-9b00-9960b48a5918",
   "metadata": {},
   "source": [
    "### scikit-learn\n",
    "\n",
    "First, with [scikit-learn](https://scikit-learn.org/stable/auto_examples/classification/plot_digits_classification.html):"
   ]
  },
  {
   "cell_type": "code",
   "execution_count": null,
   "id": "2504041c-e6f1-4555-8a70-4397f224ee7e",
   "metadata": {},
   "outputs": [],
   "source": [
    "from sklearn import datasets, linear_model, metrics, svm\n",
    "from sklearn.model_selection import train_test_split"
   ]
  },
  {
   "cell_type": "markdown",
   "id": "004c3bab-6c75-4da1-913d-9b92d8c4f780",
   "metadata": {},
   "source": [
    "#### Load the data"
   ]
  },
  {
   "cell_type": "code",
   "execution_count": null,
   "id": "25f933f0-c80d-4e3f-9a38-6cb08aa1f1df",
   "metadata": {},
   "outputs": [],
   "source": [
    "digits = datasets.load_digits()"
   ]
  },
  {
   "cell_type": "markdown",
   "id": "d651945d-76aa-4344-943a-aa969d334f71",
   "metadata": {},
   "source": [
    "Take a look at the labelled data:"
   ]
  },
  {
   "cell_type": "code",
   "execution_count": null,
   "id": "6a005238-5e98-402c-9590-03ce0e28be37",
   "metadata": {},
   "outputs": [],
   "source": [
    "_, axes = plt.subplots(nrows=1, ncols=4, figsize=(10, 3))\n",
    "for ax, image, label in zip(axes, digits.images, digits.target):\n",
    "    ax.set_axis_off()\n",
    "    ax.imshow(image, cmap=plt.cm.gray_r, interpolation=\"nearest\")\n",
    "    ax.set_title(f\"Label: {label}\")"
   ]
  },
  {
   "cell_type": "markdown",
   "id": "f89d83c6-6527-4eca-b7fc-23e34aa97293",
   "metadata": {},
   "source": [
    "#### Preprocess and split the data"
   ]
  },
  {
   "cell_type": "code",
   "execution_count": null,
   "id": "c5ba99d9-5ea0-489f-86e6-e7d1c8d9db21",
   "metadata": {},
   "outputs": [],
   "source": [
    "def preprocess_data(digits):\n",
    "    # the data comes as 2D 8x8 pixels\n",
    "    # flatten the images to 1D 64 pixels\n",
    "    n_samples = len(digits.images)\n",
    "    data = digits.images.reshape((n_samples, -1))\n",
    "    return n_samples, data"
   ]
  },
  {
   "cell_type": "code",
   "execution_count": null,
   "id": "89e28ca8-5e7f-4633-bb70-9a88bc6e33ac",
   "metadata": {},
   "outputs": [],
   "source": [
    "n_samples, data = preprocess_data(digits)"
   ]
  },
  {
   "cell_type": "code",
   "execution_count": null,
   "id": "30aea168-cc0c-4729-8c19-7374a3a5d015",
   "metadata": {},
   "outputs": [],
   "source": [
    "X_train, X_test, y_train, y_test = train_test_split(\n",
    "    data, digits.target, test_size=0.5, shuffle=False\n",
    ")"
   ]
  },
  {
   "cell_type": "markdown",
   "id": "c4dd6e41-d69d-4b57-baf5-fb2c4978de78",
   "metadata": {},
   "source": [
    "#### Create a model\n",
    "\n",
    "Here, we will use a [Support Vector Classifier](https://scikit-learn.org/stable/modules/generated/sklearn.svm.SVC.html#sklearn.svm.SVC) (a type of support vector machine).\n",
    "\n",
    "This model focuses on the two hardest to classify examples and places support vectors between them to form the decision boundary."
   ]
  },
  {
   "cell_type": "code",
   "execution_count": null,
   "id": "65ed26cc-1768-4392-8438-8d10cb4aa7a3",
   "metadata": {},
   "outputs": [],
   "source": [
    "model = linear_model.LogisticRegression()"
   ]
  },
  {
   "cell_type": "code",
   "execution_count": null,
   "id": "1ce02572-5b4b-4d24-bd06-e592f4b608b9",
   "metadata": {},
   "outputs": [],
   "source": [
    "model = svm.SVC(gamma=0.001)"
   ]
  },
  {
   "cell_type": "markdown",
   "id": "64a2234a-bfd9-42af-8ed5-430b7149df0f",
   "metadata": {},
   "source": [
    "#### Fit the model to the training data"
   ]
  },
  {
   "cell_type": "code",
   "execution_count": null,
   "id": "b025a658-a6fa-4619-a7c0-1be95d468968",
   "metadata": {},
   "outputs": [],
   "source": [
    "model.fit(X_train, y_train)"
   ]
  },
  {
   "cell_type": "markdown",
   "id": "4dff8a3f-d7f7-4d52-b5b8-19f655df8a24",
   "metadata": {},
   "source": [
    "#### Use the model to predict the test data"
   ]
  },
  {
   "cell_type": "code",
   "execution_count": null,
   "id": "b7866281-7779-4b92-bf03-ca65647a62e6",
   "metadata": {},
   "outputs": [],
   "source": [
    "y_pred = model.predict(X_test)"
   ]
  },
  {
   "cell_type": "markdown",
   "id": "bb390b74-03d8-4569-876b-e19886d3bd79",
   "metadata": {},
   "source": [
    "Take a look at the predictions for these test digits:"
   ]
  },
  {
   "cell_type": "code",
   "execution_count": null,
   "id": "7b6dc823-dff0-4d8c-b23b-4415438eb4f2",
   "metadata": {},
   "outputs": [],
   "source": [
    "_, axes = plt.subplots(nrows=1, ncols=4, figsize=(10, 3))\n",
    "for ax, image, prediction in zip(axes, X_test, y_pred):\n",
    "    ax.set_axis_off()\n",
    "    image = image.reshape(8, 8)  # 1D 64 pixels to 2D 8*8 pixels for plotting\n",
    "    ax.imshow(image, cmap=plt.cm.gray_r, interpolation=\"nearest\")\n",
    "    ax.set_title(f\"Prediction: {prediction:.0f}\")"
   ]
  },
  {
   "cell_type": "markdown",
   "id": "04a01b1a-401e-4e7a-9590-3165cd5ad85f",
   "metadata": {},
   "source": [
    "#### How well did our model do overall?"
   ]
  },
  {
   "cell_type": "code",
   "execution_count": null,
   "id": "527c9975-5085-423c-9705-cc30db06fc4a",
   "metadata": {},
   "outputs": [],
   "source": [
    "overall_accuracy = metrics.accuracy_score(y_test, y_pred)\n",
    "overall_accuracy"
   ]
  },
  {
   "cell_type": "markdown",
   "id": "4789c732-9197-42b1-a5a0-1b144b8e51af",
   "metadata": {},
   "source": [
    "97% accuracy is very good."
   ]
  },
  {
   "cell_type": "markdown",
   "id": "71fab801-a015-4a6a-8b18-2c6e2d57c138",
   "metadata": {},
   "source": [
    "Let's do some quick error analysis using a [confusion matrix](https://scikit-learn.org/stable/modules/model_evaluation.html#confusion-matrix).\n",
    "\n",
    "This shows how well the classification model did for each category.\n",
    "\n",
    "The predictions are on the x-axis and the true labels from the test data are on the y-axis.\n",
    "\n",
    "A perfect score would be where the predictions always match the true labels (i.e., all values are on the diagonal line)."
   ]
  },
  {
   "cell_type": "code",
   "execution_count": null,
   "id": "4c39735d-09c6-4f19-a0df-93673a8a6ddf",
   "metadata": {},
   "outputs": [],
   "source": [
    "confusion_matrix = metrics.ConfusionMatrixDisplay.from_predictions(y_test, y_pred)\n",
    "confusion_matrix.figure_.suptitle(\"Confusion Matrix\")\n",
    "plt.show()"
   ]
  },
  {
   "cell_type": "markdown",
   "id": "f05bd0ae-5631-4a3e-9531-116f8f2c4190",
   "metadata": {},
   "source": [
    "We can see that the although the model did well, it struggled with 3's by confusing them with 5's, 7's, and 8's.\n",
    "\n",
    "This points us in the direction of how we might improve the model."
   ]
  },
  {
   "cell_type": "code",
   "execution_count": null,
   "id": "eb7be2e0-c543-4f94-a9ef-8bad75d972db",
   "metadata": {},
   "outputs": [],
   "source": []
  },
  {
   "cell_type": "code",
   "execution_count": null,
   "id": "400193db-2523-4878-8944-53d2810c3214",
   "metadata": {},
   "outputs": [],
   "source": []
  },
  {
   "cell_type": "markdown",
   "id": "4a7fc53b-e1a4-4f8e-8412-716ae8908485",
   "metadata": {},
   "source": []
  },
  {
   "cell_type": "code",
   "execution_count": null,
   "id": "85f79f22-a60e-4aa9-83b9-5534ec69020d",
   "metadata": {},
   "outputs": [],
   "source": [
    "from sklearn.model_selection import KFold, cross_val_score"
   ]
  },
  {
   "cell_type": "code",
   "execution_count": null,
   "id": "1ffa733f-e4f6-44fe-aa7d-8bf32fe2b6f4",
   "metadata": {},
   "outputs": [],
   "source": [
    "cv = KFold(n_splits=5, shuffle=False)"
   ]
  },
  {
   "cell_type": "code",
   "execution_count": null,
   "id": "1b7dd2dc-9051-4e2c-8035-3db8e7498767",
   "metadata": {},
   "outputs": [],
   "source": [
    "test_scores = cross_val_score(model, X_train, y_train, cv=cv)"
   ]
  },
  {
   "cell_type": "code",
   "execution_count": null,
   "id": "bf9350fd-e46b-461d-b61b-f3a32a0d0a70",
   "metadata": {},
   "outputs": [],
   "source": [
    "test_scores"
   ]
  },
  {
   "cell_type": "code",
   "execution_count": null,
   "id": "cf6b8d0b-0cd1-4846-ac3c-e6635f035fdf",
   "metadata": {},
   "outputs": [],
   "source": [
    "print(f\"CV accuracy = {test_scores.mean():0.2f} (+/- {test_scores.std():0.2f})\")"
   ]
  },
  {
   "cell_type": "code",
   "execution_count": null,
   "id": "b340e32e-a49f-4ac4-9fe0-1a2ef4fd4e91",
   "metadata": {},
   "outputs": [],
   "source": []
  },
  {
   "cell_type": "markdown",
   "id": "e1e4df9c-bf68-41cf-a34f-a7e95b615de8",
   "metadata": {},
   "source": [
    "#### Save the model"
   ]
  },
  {
   "cell_type": "code",
   "execution_count": null,
   "id": "452f64c2-e95e-4175-92a8-27e934e8cf3a",
   "metadata": {},
   "outputs": [],
   "source": []
  },
  {
   "cell_type": "markdown",
   "id": "b3bc8175-beed-44b3-9b96-cb8743f87fb3",
   "metadata": {},
   "source": [
    "### TensorFlow\n",
    "\n",
    "Now, with [TensorFlow](https://www.tensorflow.org/datasets/keras_example):"
   ]
  },
  {
   "cell_type": "markdown",
   "id": "75afe544-9b97-44cc-9037-72f0b1cfc3a6",
   "metadata": {},
   "source": [
    "Check whether there are any [GPUs](https://www.tensorflow.org/guide/gpu) available:"
   ]
  },
  {
   "cell_type": "code",
   "execution_count": 2,
   "id": "9ee3b3cc-0d98-4f54-bf8e-b6bfed74c731",
   "metadata": {},
   "outputs": [
    {
     "name": "stdout",
     "output_type": "stream",
     "text": [
      "Num GPUs Available:  0\n"
     ]
    },
    {
     "name": "stderr",
     "output_type": "stream",
     "text": [
      "2022-03-22 18:05:08.557713: W tensorflow/stream_executor/platform/default/dso_loader.cc:64] Could not load dynamic library 'libcuda.so.1'; dlerror: libcuda.so.1: cannot open shared object file: No such file or directory\n",
      "2022-03-22 18:05:08.557734: W tensorflow/stream_executor/cuda/cuda_driver.cc:269] failed call to cuInit: UNKNOWN ERROR (303)\n",
      "2022-03-22 18:05:08.557760: I tensorflow/stream_executor/cuda/cuda_diagnostics.cc:156] kernel driver does not appear to be running on this host (UOL-LAP-5G6CZH3): /proc/driver/nvidia/version does not exist\n"
     ]
    }
   ],
   "source": [
    "print(\"Num GPUs Available: \", len(tf.config.list_physical_devices('GPU')))"
   ]
  },
  {
   "cell_type": "markdown",
   "id": "a244e268-847e-462b-9215-c39d1f967e8e",
   "metadata": {},
   "source": [
    "#### Load and split the data"
   ]
  },
  {
   "cell_type": "code",
   "execution_count": 3,
   "id": "d3086bf5-2d57-4039-835e-a69e6d1ddd08",
   "metadata": {},
   "outputs": [],
   "source": [
    "(train_images, train_labels), (test_images, test_labels) = tf.keras.datasets.mnist.load_data()"
   ]
  },
  {
   "cell_type": "markdown",
   "id": "7ab06ce2-cba5-4ba8-9cdb-1a11565bd43c",
   "metadata": {},
   "source": [
    "Take a look at some of the training data:"
   ]
  },
  {
   "cell_type": "code",
   "execution_count": 4,
   "id": "642e6699-8438-42eb-b487-ef803ea6ca86",
   "metadata": {},
   "outputs": [
    {
     "ename": "NameError",
     "evalue": "name 'plt' is not defined",
     "output_type": "error",
     "traceback": [
      "\u001b[0;31m---------------------------------------------------------------------------\u001b[0m",
      "\u001b[0;31mNameError\u001b[0m                                 Traceback (most recent call last)",
      "Input \u001b[0;32mIn [4]\u001b[0m, in \u001b[0;36m<cell line: 1>\u001b[0;34m()\u001b[0m\n\u001b[0;32m----> 1\u001b[0m _, axes \u001b[38;5;241m=\u001b[39m \u001b[43mplt\u001b[49m\u001b[38;5;241m.\u001b[39msubplots(nrows\u001b[38;5;241m=\u001b[39m\u001b[38;5;241m1\u001b[39m, ncols\u001b[38;5;241m=\u001b[39m\u001b[38;5;241m4\u001b[39m, figsize\u001b[38;5;241m=\u001b[39m(\u001b[38;5;241m10\u001b[39m, \u001b[38;5;241m3\u001b[39m))\n\u001b[1;32m      2\u001b[0m \u001b[38;5;28;01mfor\u001b[39;00m ax, image, label \u001b[38;5;129;01min\u001b[39;00m \u001b[38;5;28mzip\u001b[39m(axes, train_images, train_labels):\n\u001b[1;32m      3\u001b[0m     ax\u001b[38;5;241m.\u001b[39mset_axis_off()\n",
      "\u001b[0;31mNameError\u001b[0m: name 'plt' is not defined"
     ]
    }
   ],
   "source": [
    "_, axes = plt.subplots(nrows=1, ncols=4, figsize=(10, 3))\n",
    "for ax, image, label in zip(axes, train_images, train_labels):\n",
    "    ax.set_axis_off()\n",
    "    image = image.reshape(28, 28)  # 1D 784 pixels to 2D 28*28 pixels for plotting\n",
    "    ax.imshow(image, cmap=plt.cm.gray_r, interpolation=\"nearest\")\n",
    "    ax.set_title(f\"Label: {label}\")"
   ]
  },
  {
   "cell_type": "markdown",
   "id": "f640b7bf-ae9f-40d9-8506-6929dd9016c5",
   "metadata": {},
   "source": [
    "#### Preprocess the data"
   ]
  },
  {
   "cell_type": "code",
   "execution_count": 5,
   "id": "4f798985-464c-4aac-a422-66e2fd43cf23",
   "metadata": {},
   "outputs": [],
   "source": [
    "def preprocess_data(data):\n",
    "    data = tf.keras.layers.Flatten()(data)  # flatten the 2D image to a 1D tensor\n",
    "    data = tf.keras.layers.Rescaling(1.0 / 255)(\n",
    "        data\n",
    "    )  # normalise the images to greyscale\n",
    "    return data"
   ]
  },
  {
   "cell_type": "code",
   "execution_count": 6,
   "id": "ba08341f-77df-4a44-a9da-def4a55d5531",
   "metadata": {},
   "outputs": [
    {
     "name": "stderr",
     "output_type": "stream",
     "text": [
      "2022-03-22 18:05:15.308405: I tensorflow/core/platform/cpu_feature_guard.cc:151] This TensorFlow binary is optimized with oneAPI Deep Neural Network Library (oneDNN) to use the following CPU instructions in performance-critical operations:  AVX2 AVX512F FMA\n",
      "To enable them in other operations, rebuild TensorFlow with the appropriate compiler flags.\n"
     ]
    }
   ],
   "source": [
    "train_images = preprocess_data(train_images)\n",
    "test_images = preprocess_data(test_images)"
   ]
  },
  {
   "cell_type": "markdown",
   "id": "0e4240e6-e735-40c3-acde-b9243ce84e16",
   "metadata": {},
   "source": [
    "#### Create the model\n",
    "\n",
    "Can use any of the sequential, functional, or subclassing APIs."
   ]
  },
  {
   "cell_type": "markdown",
   "id": "c3dca4fd-c2e6-497c-89f2-583c040b16d6",
   "metadata": {},
   "source": [
    "[Sequential API](https://keras.io/guides/sequential_model/)\n",
    "\n",
    "Note, you could also use many `.add()` calls instead of the list."
   ]
  },
  {
   "cell_type": "code",
   "execution_count": 53,
   "id": "8f011921-a2e8-4e55-9d23-43bb545ab5dd",
   "metadata": {},
   "outputs": [
    {
     "name": "stdout",
     "output_type": "stream",
     "text": [
      "Model: \"sequential_2\"\n",
      "_________________________________________________________________\n",
      " Layer (type)                Output Shape              Param #   \n",
      "=================================================================\n",
      " layer1 (Dense)              (None, 128)               100480    \n",
      "                                                                 \n",
      " layer2 (Dense)              (None, 128)               16512     \n",
      "                                                                 \n",
      " outputs (Dense)             (None, 10)                1290      \n",
      "                                                                 \n",
      "=================================================================\n",
      "Total params: 118,282\n",
      "Trainable params: 118,282\n",
      "Non-trainable params: 0\n",
      "_________________________________________________________________\n"
     ]
    }
   ],
   "source": [
    "model = tf.keras.Sequential(\n",
    "    [\n",
    "        tf.keras.Input(shape=(784,), name=\"inputs\"),\n",
    "        tf.keras.layers.Dense(128, activation=\"relu\", name=\"layer1\"),\n",
    "        tf.keras.layers.Dense(128, activation=\"relu\", name=\"layer2\"),\n",
    "        tf.keras.layers.Dense(10, activation=\"softmax\", name=\"outputs\"),\n",
    "    ]\n",
    ")\n",
    "\n",
    "model.summary()"
   ]
  },
  {
   "cell_type": "markdown",
   "id": "ee2242a7-c9aa-4dc9-aaaf-d512979fbf93",
   "metadata": {},
   "source": [
    "[Functional API](https://keras.io/guides/functional_api/)"
   ]
  },
  {
   "cell_type": "code",
   "execution_count": 55,
   "id": "2a8484d2-9883-46d1-9cc0-8d97d42fe239",
   "metadata": {},
   "outputs": [],
   "source": [
    "inputs = tf.keras.Input(shape=(784,), name=\"inputs\")\n",
    "x = tf.keras.layers.Dense(128, activation=\"relu\", name=\"layer1\")(inputs)\n",
    "x = tf.keras.layers.Dense(128, activation=\"relu\", name=\"layer2\")(x)\n",
    "outputs = tf.keras.layers.Dense(10, activation=\"softmax\", name=\"outputs\")(x)\n",
    "\n",
    "model_functional = tf.keras.Model(inputs, outputs, name=\"functional\")"
   ]
  },
  {
   "cell_type": "markdown",
   "id": "47aed69d-7f03-4f99-bba5-6abed32d8a67",
   "metadata": {},
   "source": [
    "[Subclassing](https://www.tensorflow.org/guide/keras/custom_layers_and_models/)\n",
    "\n",
    "Note, you can visualise Subclassed models via the guidance [here](https://github.com/tensorflow/tensorflow/issues/31647#issuecomment-692586409)."
   ]
  },
  {
   "cell_type": "code",
   "execution_count": 56,
   "id": "d45d93cc-fb95-4ba3-a77a-ac4db94e3c8d",
   "metadata": {},
   "outputs": [],
   "source": [
    "class MyModel(tf.keras.Model):\n",
    "    def __init__(self, name=\"subclassing\"):\n",
    "        super(MyModel, self).__init__(name=name)\n",
    "        self.layer1 = tf.keras.layers.Dense(128, activation=\"relu\", name=\"layer1\")\n",
    "        self.layer2 = tf.keras.layers.Dense(128, activation=\"relu\", name=\"layer2\")\n",
    "        self.outputs = tf.keras.layers.Dense(10, activation=\"softmax\", name=\"outputs\")\n",
    "\n",
    "    def call(self, inputs):\n",
    "        x = self.layer1(inputs)\n",
    "        x = self.layer2(x)\n",
    "        return self.outputs(x)\n",
    "    \n",
    "model_subclassing = MyModel()"
   ]
  },
  {
   "cell_type": "markdown",
   "id": "46f97456-7cc1-498b-ae48-df93616be68a",
   "metadata": {},
   "source": [
    "Let's use the simpler Sequential API for now.\n",
    "\n",
    "We can now also visualise the architecure:"
   ]
  },
  {
   "cell_type": "code",
   "execution_count": 57,
   "id": "d92fbd72-88c1-4cad-858a-ef72c619ed15",
   "metadata": {},
   "outputs": [
    {
     "data": {
      "image/png": "[encoded data removed]",
      "text/plain": [
       "<IPython.core.display.Image object>"
      ]
     },
     "execution_count": 57,
     "metadata": {},
     "output_type": "execute_result"
    }
   ],
   "source": [
    "tf.keras.utils.plot_model(model, show_shapes=True)"
   ]
  },
  {
   "cell_type": "markdown",
   "id": "16066285-560f-4a97-81fe-8fc406763b6f",
   "metadata": {},
   "source": [
    "#### Compile the model\n",
    "\n",
    "It's useful to name the metrics, especially if there's more than one."
   ]
  },
  {
   "cell_type": "code",
   "execution_count": 58,
   "id": "626bbe3c-a8e9-41cb-a31b-64612c51fd6d",
   "metadata": {},
   "outputs": [],
   "source": [
    "model.compile(\n",
    "    optimizer=\"adam\",\n",
    "    loss=\"sparse_categorical_crossentropy\",\n",
    "    metrics=[tf.keras.metrics.SparseCategoricalAccuracy(name=\"accuracy\")],\n",
    ")"
   ]
  },
  {
   "cell_type": "markdown",
   "id": "1e7c0668-dd78-4d12-aae1-0c213a118868",
   "metadata": {},
   "source": [
    "#### Fit the model to the training data\n",
    "\n",
    "The `fit()` call returns a `history` object.\n",
    "\n",
    "Note, the `validation_split` keyword argument can only be used for NumPy training data."
   ]
  },
  {
   "cell_type": "code",
   "execution_count": null,
   "id": "94e07edd-d5b0-4521-bafc-4abbc734ba30",
   "metadata": {},
   "outputs": [],
   "source": [
    "history = model.fit(\n",
    "    train_images,\n",
    "    train_labels,\n",
    "    epochs=2,  # how many runs through the data\n",
    "    batch_size=64,  # how many samples in each batch\n",
    "    verbose=False,  # print the output from each epoch\n",
    "    validation_split=0.2,  # automatically set apart a validation set: 0.2 means 20% for validation\n",
    ");"
   ]
  },
  {
   "cell_type": "markdown",
   "id": "050d6d64-e533-490a-a339-3d862a305dff",
   "metadata": {},
   "source": [
    "The `history.history` dictionary then contains the loss and metrics per epoch:"
   ]
  },
  {
   "cell_type": "code",
   "execution_count": null,
   "id": "4351826c-b478-48f0-9db1-3c3391233193",
   "metadata": {},
   "outputs": [],
   "source": [
    "history.history"
   ]
  },
  {
   "cell_type": "markdown",
   "id": "cc31481e-bb0e-477f-9dc7-9a166a9e203d",
   "metadata": {},
   "source": [
    "#### Predictions\n",
    "\n",
    "Use the model for predictions with [`model.predict()`](https://www.tensorflow.org/api_docs/python/tf/keras/Model#predict) (i.e., inference)."
   ]
  },
  {
   "cell_type": "code",
   "execution_count": null,
   "id": "e2506b73-053f-4105-acbb-686481e7270b",
   "metadata": {},
   "outputs": [],
   "source": [
    "y_pred = model.predict(test_images)"
   ]
  },
  {
   "cell_type": "markdown",
   "id": "ddbdb0fd-b334-4aab-be2d-624d33b03c5d",
   "metadata": {},
   "source": [
    "Each prediction has a probability per category:"
   ]
  },
  {
   "cell_type": "code",
   "execution_count": null,
   "id": "97e9b86d-09e5-41d7-8643-0d05b76667e8",
   "metadata": {},
   "outputs": [],
   "source": [
    "y_pred[0]"
   ]
  },
  {
   "cell_type": "markdown",
   "id": "1367c9f2-0e38-4a5c-9593-dff8a03be740",
   "metadata": {},
   "source": [
    "The most likely category can be found by finding the maximum of these (using [`np.argmax`](https://numpy.org/doc/stable/reference/generated/numpy.argmax.html)):"
   ]
  },
  {
   "cell_type": "code",
   "execution_count": null,
   "id": "e0d5c959-777c-4782-a0f5-498e41db74b9",
   "metadata": {},
   "outputs": [],
   "source": [
    "np.argmax(y_pred[0])"
   ]
  },
  {
   "cell_type": "markdown",
   "id": "f1b45b84-3882-431c-bcfb-9c0f4ded9742",
   "metadata": {},
   "source": [
    "So, the model things the first digit is a 7.\n",
    "\n",
    "Let's plot the first four test digits with their predictions to see:"
   ]
  },
  {
   "cell_type": "code",
   "execution_count": null,
   "id": "b3df94d9-7b07-43ea-b458-6b6bae27bc0e",
   "metadata": {},
   "outputs": [],
   "source": [
    "_, axes = plt.subplots(nrows=1, ncols=4, figsize=(10, 3))\n",
    "for ax, image, prediction in zip(axes, test_images, y_pred):\n",
    "    ax.set_axis_off()\n",
    "    image = tf.reshape(image, (28, 28))  # 1D 784 pixels to 2D 28*28 pixels for plotting\n",
    "    ax.imshow(image, cmap=plt.cm.gray_r, interpolation=\"nearest\")\n",
    "    ax.set_title(f\"Prediction: {np.argmax(prediction):.0f}\")"
   ]
  },
  {
   "cell_type": "markdown",
   "id": "9902a6c3-b4e2-4007-beae-c05bb3c7c246",
   "metadata": {},
   "source": [
    "#### Let's now evaluate the model overall"
   ]
  },
  {
   "cell_type": "code",
   "execution_count": null,
   "id": "d4d338cb-f408-4d84-bdc8-471aa6d006b4",
   "metadata": {},
   "outputs": [],
   "source": [
    "test_loss, test_acc = model.evaluate(test_images, test_labels)\n",
    "print(f\"Test accuracy (R2): {test_acc}\")"
   ]
  },
  {
   "cell_type": "markdown",
   "id": "8f64b48a-92ed-41ac-8191-24986b0eb0b5",
   "metadata": {},
   "source": [
    "Similar to scikit-learn an overall accuracy of 98% is very good."
   ]
  },
  {
   "cell_type": "markdown",
   "id": "c82e71b3-13a5-44c4-8e20-7cb023826263",
   "metadata": {},
   "source": [
    "A before, let's have a look at a confusion matrix for this.\n",
    "\n",
    "_TensorFlow does have its own [`confusion_matrix`](https://www.tensorflow.org/api_docs/python/tf/math/confusion_matrix) method. Though I'll use the scikit-learn one here again as it has a nice plot feature._"
   ]
  },
  {
   "cell_type": "code",
   "execution_count": null,
   "id": "2a59296f-6c03-41e2-b2df-fdb228ec677a",
   "metadata": {},
   "outputs": [],
   "source": [
    "confusion_matrix = metrics.ConfusionMatrixDisplay.from_predictions(\n",
    "    test_labels, np.argmax(y_pred, axis=1)\n",
    ")\n",
    "confusion_matrix.figure_.suptitle(\"Confusion Matrix\")\n",
    "plt.show()"
   ]
  },
  {
   "cell_type": "markdown",
   "id": "a373598e-833b-4367-915d-200b3f19f68f",
   "metadata": {},
   "source": [
    "This model did well for most digits, though struggled a bit with 5's."
   ]
  },
  {
   "cell_type": "markdown",
   "id": "987aadde-3f0f-48b1-bccf-029d85118673",
   "metadata": {},
   "source": [
    "#### Save the model\n",
    "\n",
    "A model includes:\n",
    "\n",
    "- Architecture\n",
    "- Weights (i.e., state)\n",
    "- Configuration (e.g., optimiser, loss, metrics)\n",
    "\n",
    "Can save the whole or parts.\n",
    "\n",
    "Formats:\n",
    "\n",
    "- [TensorFlow SavedModel](https://www.tensorflow.org/guide/saved_model): single archive (recommended)\n",
    "    - Save: `model.save()` or `tf.keras.models.save_model()`\n",
    "    - Load: `tf.keras.models.load_model()`\n",
    "    - Keras H5 was the older format\n",
    "- Architecture only (JSON)\n",
    "    - Save: `get_config()` and `tf.keras.models.model_to_json()`\n",
    "    - Load: `from_config()` and `tf.keras.models.model_from_json()`\n",
    "- Weights only"
   ]
  },
  {
   "cell_type": "code",
   "execution_count": null,
   "id": "7e68540d-7fec-4ac0-a6fe-f8c9464116e1",
   "metadata": {},
   "outputs": [],
   "source": [
    "import os\n",
    "path_models = f\"{os.getcwd()}/../models\""
   ]
  },
  {
   "cell_type": "code",
   "execution_count": null,
   "id": "cba8bb69-bc13-45ff-86ac-aa5b04dd38e3",
   "metadata": {},
   "outputs": [],
   "source": [
    "model.save(f\"{path_models}/model_tf_mnist\")"
   ]
  },
  {
   "cell_type": "code",
   "execution_count": null,
   "id": "e88a3a91-42a2-43d7-9445-7cd1687ba4f7",
   "metadata": {},
   "outputs": [],
   "source": [
    "!ls {path_models}/model_tf_mnist"
   ]
  },
  {
   "cell_type": "code",
   "execution_count": null,
   "id": "7b72cb63-551f-4b31-86d3-7dafade79431",
   "metadata": {},
   "outputs": [],
   "source": []
  },
  {
   "cell_type": "markdown",
   "id": "42a7146e-bc2d-4078-b65e-b6b983d588e1",
   "metadata": {
    "tags": []
   },
   "source": [
    "## Exercises"
   ]
  },
  {
   "cell_type": "markdown",
   "id": "af74e521-e75b-4684-a8b3-b01951a40340",
   "metadata": {},
   "source": [
    "```{admonition} Exercise 1\n",
    "\n",
    "...\n",
    "\n",
    "```"
   ]
  },
  {
   "cell_type": "markdown",
   "id": "ebf8af3b-5d9a-4e2c-9bd0-223837749e07",
   "metadata": {},
   "source": [
    "## {ref}`Solutions <tools>`"
   ]
  },
  {
   "cell_type": "markdown",
   "id": "ba85d337-9ea3-4511-ae33-4fb036418318",
   "metadata": {},
   "source": [
    "## Key Points"
   ]
  },
  {
   "cell_type": "markdown",
   "id": "e1de920e-c4c1-4c47-8a80-b7f1ab648754",
   "metadata": {},
   "source": [
    "```{important}\n",
    "\n",
    "- [x] _..._\n",
    "\n",
    "```"
   ]
  },
  {
   "cell_type": "markdown",
   "id": "b970bc04-88fc-4cf2-89b3-7b4cdc8bc1f8",
   "metadata": {},
   "source": [
    "## Further information"
   ]
  },
  {
   "cell_type": "markdown",
   "id": "289b8126-a770-470e-af61-023eea1593fa",
   "metadata": {},
   "source": [
    "### Good practices\n",
    "\n",
    "- Debugging: \n",
    "    - Test each part individually, before testing the whole.\n",
    "    - Check the model summary and visualise the architecture.\n",
    "    - Use debug modes (e.g., add `run_eagerly=True` with the call to `fit()` in Keras.)\n",
    "    - Tips for [Keras](https://keras.io/examples/keras_recipes/debugging_tips/).\n",
    "- Offloading computations to a GPU may not be beneficial for small models.\n",
    "- Tips for optimising GPU performance from [TensorFlow](https://www.tensorflow.org/guide/gpu_performance_analysis), [NVIDIA](https://docs.nvidia.com/deeplearning/performance/index.html).\n",
    "- "
   ]
  },
  {
   "cell_type": "markdown",
   "id": "d73bcbb5-e4c3-4032-b7af-8fd24d9e19e9",
   "metadata": {
    "tags": []
   },
   "source": [
    "### Other options\n",
    "\n",
    "There are many other options, including:\n",
    "\n",
    "- [JAX](https://jax.readthedocs.io/en/latest/#)\n",
    "    - A library for GPU accelerated NumPy with automatic differentiation.\n",
    "- [Flax](https://github.com/google/flax)\n",
    "    - A neural network library and ecosystem for JAX that is designed for flexibility.\n",
    "- [Haiku](https://dm-haiku.readthedocs.io/en/latest/)\n",
    "    - Built on top of JAX to provide simple, composable abstractions for machine learning research.\n",
    "- [XGBoost](https://xgboost.readthedocs.io/en/stable/)\n",
    "    - Gradient boosting library.\n",
    "- [LightGBM](https://lightgbm.readthedocs.io/en/latest/)\n",
    "    - Gradient boosting library.\n",
    "- [Caffe](https://caffe.berkeleyvision.org/)\n",
    "    - Deep learning framework.\n",
    "- [Sonnet](https://sonnet.readthedocs.io/en/latest/)\n",
    "    - High-level API for TensorFlow.\n",
    "- [fastai](https://docs.fast.ai/)\n",
    "    - High-level API for PyTorch."
   ]
  },
  {
   "cell_type": "markdown",
   "id": "8e3c5a0f-2f82-441c-9097-32417fff0152",
   "metadata": {},
   "source": [
    "### Resources\n",
    "\n",
    "- [Machine Learning Glossary](https://developers.google.com/machine-learning/glossary)"
   ]
  },
  {
   "cell_type": "code",
   "execution_count": null,
   "id": "1464fb29-b07b-488a-8d56-fa0d0452a2ab",
   "metadata": {},
   "outputs": [],
   "source": []
  }
 ],
 "metadata": {
  "interpreter": {
   "hash": "b1ffad78e3b53a26aeabe29bd69865e9fcde2eed64638bf28084d4e5d53534f3"
  },
  "kernelspec": {
   "display_name": "intro_ml",
   "language": "python",
   "name": "intro_ml"
  },
  "language_info": {
   "codemirror_mode": {
    "name": "ipython",
    "version": 3
   },
   "file_extension": ".py",
   "mimetype": "text/x-python",
   "name": "python",
   "nbconvert_exporter": "python",
   "pygments_lexer": "ipython3",
   "version": "3.9.10"
  }
 },
 "nbformat": 4,
 "nbformat_minor": 5
}
